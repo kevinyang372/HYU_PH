{
 "cells": [
  {
   "cell_type": "code",
   "execution_count": 2,
   "metadata": {},
   "outputs": [],
   "source": [
    "from ROOT import *\n",
    "from root_numpy import tree2array\n",
    "from ROOT import TFile\n",
    "import pandas as pd\n",
    "import numpy as np\n",
    "import deepdish.io as io\n",
    "from sklearn.preprocessing import StandardScaler, MinMaxScaler\n",
    "from sklearn.model_selection import GridSearchCV, train_test_split\n",
    "import keras\n",
    "from keras.models import Sequential\n",
    "from keras.layers.core import Dense, Activation, Dropout\n",
    "from keras.layers.advanced_activations import PReLU\n",
    "from keras.utils import np_utils\n",
    "from sklearn.metrics import accuracy_score, roc_auc_score, precision_recall_fscore_support, roc_curve, auc\n",
    "from sklearn.ensemble import RandomForestClassifier\n",
    "from xgboost import XGBRegressor\n",
    "from sklearn.feature_selection import RFE, f_regression\n",
    "from sklearn.linear_model import LinearRegression, Ridge, Lasso, RandomizedLasso\n",
    "import os\n",
    "import math\n",
    "import seaborn as sns\n",
    "import matplotlib.pyplot as plt\n",
    "from scipy.stats import ks_2samp\n",
    "from sklearn.externals import joblib"
   ]
  },
  {
   "cell_type": "code",
   "execution_count": 19,
   "metadata": {},
   "outputs": [],
   "source": [
    "data = TFile.Open(\"/home/minerva1993/public/v808/nosplit/ttHbb_PowhegPythia.root\")\n",
    "data2 = TFile.Open(\"/home/minerva1993/public/v808/nosplit/TTLJ_PowhegPythia_ttbb.root\")\n",
    "tree = data.Get(\"ttbbLepJets/tree\")\n",
    "tree2 = data2.Get(\"ttbbLepJets/tree\")"
   ]
  },
  {
   "cell_type": "code",
   "execution_count": 20,
   "metadata": {},
   "outputs": [],
   "source": [
    "def tree_to_df(tree, branch_names=[], index_name='', drop_roofit_labels=False):\n",
    "    if tree is None:\n",
    "        return None\n",
    "\n",
    "    branch_list = tree.GetListOfBranches()\n",
    "    all_branch_names = [branch_list.At(i).GetName() for i in range(branch_list.GetEntries())]\n",
    "    if len(branch_names) == 0:\n",
    "        branch_names = all_branch_names\n",
    "    for bn in branch_names[:]:\n",
    "        if bn not in all_branch_names:\n",
    "            branch_names.remove(bn)\n",
    "        if drop_roofit_labels:\n",
    "            if bn.endswith('_lbl'):\n",
    "                branch_names.remove(bn)\n",
    "\n",
    "    arrs = tree2array(tree, branch_names)\n",
    "    df = pd.DataFrame(arrs)\n",
    "\n",
    "    if len(index_name) == 0:\n",
    "        for col in df.columns:\n",
    "            if col.startswith('__index__'):\n",
    "                index_name = col\n",
    "                break\n",
    "    if len(index_name):\n",
    "        try:\n",
    "            df[index_name] = df[index_name].astype(np.int32)\n",
    "            df.set_index(index_name, inplace=True)\n",
    "        except BaseException:\n",
    "            pass\n",
    "\n",
    "    if drop_roofit_labels:\n",
    "        df.columns = [col.replace('_idx', '') for col in df.columns]\n",
    "\n",
    "    n_tree = tree.GetEntries()\n",
    "    n_df = len(df.index)\n",
    "\n",
    "    return df "
   ]
  },
  {
   "cell_type": "code",
   "execution_count": 21,
   "metadata": {},
   "outputs": [],
   "source": [
    "dftree = tree_to_df(tree)\n",
    "dftree_bg = tree_to_df(tree2)"
   ]
  },
  {
   "cell_type": "code",
   "execution_count": 22,
   "metadata": {},
   "outputs": [],
   "source": [
    "def process_delta_phi(x):\n",
    "    if x > math.pi:\n",
    "        delta_phi = x - 2*math.pi\n",
    "    elif x < -math.pi:\n",
    "        delta_phi = x + 2*math.pi\n",
    "    else:\n",
    "        delta_phi = x\n",
    "    return delta_phi\n",
    "\n",
    "def calculate_delta_R(phi_1, phi_2, eta_1, eta_2):\n",
    "    x = phi_1 - phi_2\n",
    "    delta_phi = process_delta_phi(x)\n",
    "    delta_eta = eta_1 - eta_2\n",
    "    return math.sqrt(delta_phi**2 + delta_eta**2)"
   ]
  },
  {
   "cell_type": "code",
   "execution_count": 27,
   "metadata": {},
   "outputs": [],
   "source": [
    "def generate(df):\n",
    "    \n",
    "    columns = ['draddjets','lepton_pT','lepton_eta','lepton_E','MET','MET_phi','jet_number','event_weight','delta_phi','delta_eta','delta_R','invmass','lepton_delta_R_1','lepton_delta_eta_1','lepton_delta_R_2','lepton_delta_eta_2','H']\n",
    "    \n",
    "    for t in range(1,3):\n",
    "        for i in ['jet_pT','jet_eta','jet_E','jet_CvsB']:\n",
    "            columns.append(i+'_'+str(t))\n",
    "    \n",
    "    columns.append('result')\n",
    "    \n",
    "    overall = []\n",
    "    \n",
    "    for i in range(len(df['lepton_SF'])):\n",
    "        if df['jet_number'][i] >= 6 and df['jet_CSV'][i][2] > 0.8:\n",
    "            checked = 0\n",
    "            for m in range(df['jet_number'][i]):\n",
    "                if df['jet_pT'][i][m] > 20 and np.abs(df['jet_eta'][i][m]) < 2.4:\n",
    "                    checked += 1\n",
    "            if checked < 6:\n",
    "                continue\n",
    "                \n",
    "            count = 0\n",
    "            \n",
    "            #append all the invariant columns\n",
    "            invariants = []\n",
    "            \n",
    "            for t in ['draddjets','lepton_pT','lepton_eta','lepton_E','MET','MET_phi','jet_number']:\n",
    "                invariants.append(df[t][i])\n",
    "                \n",
    "            product = df['lepton_SF'][i][0] * df['jet_SF_CSV_30'][i][0] * df['PUWeight'][i][0] * df['genweight'][i]\n",
    "            invariants.append(product)\n",
    "            \n",
    "            #Loop over possible combinations\n",
    "            for t in range(len(df['jet_pT'][i]) - 1):\n",
    "                for m in range(t+1, len(df['jet_pT'][i])):\n",
    "                \n",
    "                    #initialize variant data column\n",
    "                    variants = []\n",
    "\n",
    "                    #set the jet pair\n",
    "                    jet_pair = (t,m)\n",
    "\n",
    "                    #Delta_phi, delta_eta and delta_R\n",
    "                    x = df['jet_phi'][i][jet_pair[0]] - df['jet_phi'][i][jet_pair[1]]\n",
    "                    delta_phi = process_delta_phi(x)\n",
    "                    delta_eta = df['jet_eta'][i][jet_pair[0]] - df['jet_eta'][i][jet_pair[1]]\n",
    "                    delta_R = math.sqrt(delta_phi**2 + delta_eta**2)\n",
    "\n",
    "                    #invmass\n",
    "                    pt1, pt2 = math.fabs(df['jet_pT'][i][jet_pair[0]]), math.fabs(df['jet_pT'][i][jet_pair[1]])\n",
    "                    pX1, pX2 = pt1 * math.cos(df['jet_phi'][i][jet_pair[0]]), pt2 * math.cos(df['jet_phi'][i][jet_pair[1]])\n",
    "                    pY1, pY2 = pt1 * math.sin(df['jet_phi'][i][jet_pair[0]]), pt2 * math.sin(df['jet_phi'][i][jet_pair[1]])\n",
    "                    pZ1, pZ2 = pt1 / math.tan(2.0 * math.atan(math.exp(-df['jet_eta'][i][jet_pair[0]]))), pt2 / math.tan(2.0 * math.atan(math.exp(-df['jet_eta'][i][jet_pair[1]])))\n",
    "                    invmass = math.sqrt((df['jet_E'][i][jet_pair[0]] + df['jet_E'][i][jet_pair[1]])**2 - (pX1 + pX2)**2 - (pY1 + pY2)**2 - (pZ1 + pZ2)**2)\n",
    "\n",
    "                    #H\n",
    "                    H = df['jet_pT'][i][jet_pair[0]] + df['jet_pT'][i][jet_pair[1]] + df['lepton_pT'][i]\n",
    "\n",
    "                    #delta_lepton_R\n",
    "                    y_1 = df['jet_phi'][i][jet_pair[0]] - df['lepton_phi'][0]\n",
    "                    delta_phi_lep_1 = process_delta_phi(y_1)\n",
    "                    delta_eta_lep_1 = df['jet_eta'][i][jet_pair[0]] - df['lepton_eta'][0]\n",
    "                    delta_R_lep_1 = math.sqrt(delta_phi_lep_1**2 + delta_eta_lep_1**2)\n",
    "\n",
    "                    y_2 = df['jet_phi'][i][jet_pair[1]] - df['lepton_phi'][0]\n",
    "                    delta_phi_lep_2 = process_delta_phi(y_2)\n",
    "                    delta_eta_lep_2 = df['jet_eta'][i][jet_pair[1]] - df['lepton_eta'][0]\n",
    "                    delta_R_lep_2 = math.sqrt(delta_phi_lep_2**2 + delta_eta_lep_2**2)\n",
    "\n",
    "                    variants += [delta_phi, delta_eta, delta_R, invmass, delta_R_lep_1, delta_eta_lep_1, delta_R_lep_2, delta_eta_lep_2, H]\n",
    "\n",
    "                    for n in [t, m]:\n",
    "                        for k in ['jet_pT','jet_eta','jet_E','jet_CvsB']:\n",
    "                            variants += [df[k][i][n]]\n",
    "\n",
    "                    phi_1, phi_2 = df['jet_phi'][i][jet_pair[0]], df['jet_phi'][i][jet_pair[1]]\n",
    "                    mt_phi_1, mt_phi_2 = df['addbjet1_phi'][i], df['addbjet2_phi'][i]\n",
    "                    eta_1, eta_2 = df['jet_eta'][i][jet_pair[0]], df['jet_eta'][i][jet_pair[1]]\n",
    "                    mt_eta_1, mt_eta_2 = df['addbjet1_eta'][i], df['addbjet2_eta'][i]\n",
    "\n",
    "                    dR_11 = calculate_delta_R(phi_1, mt_phi_1, eta_1, mt_eta_1)\n",
    "                    dR_12 = calculate_delta_R(phi_1, mt_phi_2, eta_1, mt_eta_2)\n",
    "                    dR_21 = calculate_delta_R(phi_2, mt_phi_1, eta_2, mt_eta_1)\n",
    "                    dR_22 = calculate_delta_R(phi_2, mt_phi_2, eta_2, mt_eta_2)\n",
    "\n",
    "                    variants.append(1 if (dR_11 < 0.4 or dR_12 < 0.4) and (dR_21 < 0.4 or dR_22 < 0.4) else 0)\n",
    "                    count += 1\n",
    "                \n",
    "                    overall.append(invariants + variants)\n",
    "            \n",
    "    print \"Column Length: \", len(overall[0])\n",
    "    print \"Fixed Length: \", len(columns)\n",
    "\n",
    "    train_tree = pd.DataFrame(overall, columns=columns)\n",
    "    return train_tree"
   ]
  },
  {
   "cell_type": "code",
   "execution_count": 28,
   "metadata": {},
   "outputs": [
    {
     "name": "stdout",
     "output_type": "stream",
     "text": [
      "Column Length:  26\n",
      "Fixed Length:  26\n"
     ]
    }
   ],
   "source": [
    "train = generate(dftree_bg)"
   ]
  },
  {
   "cell_type": "code",
   "execution_count": 97,
   "metadata": {},
   "outputs": [],
   "source": [
    "# train.to_csv('../HYU_data/jet_selection_train.csv', sep = '\\t')"
   ]
  },
  {
   "cell_type": "code",
   "execution_count": 3,
   "metadata": {},
   "outputs": [
    {
     "name": "stderr",
     "output_type": "stream",
     "text": [
      "/home/9304220184/python27/local/lib/python2.7/site-packages/numpy/lib/arraysetops.py:522: FutureWarning: elementwise comparison failed; returning scalar instead, but in the future will perform elementwise comparison\n",
      "  mask |= (ar1 == a)\n"
     ]
    }
   ],
   "source": [
    "train = pd.read_csv('../HYU_data/jet_selection_train.csv', sep='\\t',index_col=0)"
   ]
  },
  {
   "cell_type": "code",
   "execution_count": 4,
   "metadata": {},
   "outputs": [
    {
     "data": {
      "text/html": [
       "<div>\n",
       "<style scoped>\n",
       "    .dataframe tbody tr th:only-of-type {\n",
       "        vertical-align: middle;\n",
       "    }\n",
       "\n",
       "    .dataframe tbody tr th {\n",
       "        vertical-align: top;\n",
       "    }\n",
       "\n",
       "    .dataframe thead th {\n",
       "        text-align: right;\n",
       "    }\n",
       "</style>\n",
       "<table border=\"1\" class=\"dataframe\">\n",
       "  <thead>\n",
       "    <tr style=\"text-align: right;\">\n",
       "      <th></th>\n",
       "      <th>draddjets</th>\n",
       "      <th>lepton_pT</th>\n",
       "      <th>lepton_eta</th>\n",
       "      <th>lepton_E</th>\n",
       "      <th>MET</th>\n",
       "      <th>MET_phi</th>\n",
       "      <th>jet_number</th>\n",
       "      <th>event_weight</th>\n",
       "      <th>delta_phi</th>\n",
       "      <th>delta_eta</th>\n",
       "      <th>...</th>\n",
       "      <th>H</th>\n",
       "      <th>jet_pT_1</th>\n",
       "      <th>jet_eta_1</th>\n",
       "      <th>jet_E_1</th>\n",
       "      <th>jet_CvsB_1</th>\n",
       "      <th>jet_pT_2</th>\n",
       "      <th>jet_eta_2</th>\n",
       "      <th>jet_E_2</th>\n",
       "      <th>jet_CvsB_2</th>\n",
       "      <th>result</th>\n",
       "    </tr>\n",
       "  </thead>\n",
       "  <tbody>\n",
       "    <tr>\n",
       "      <th>0</th>\n",
       "      <td>0.565032</td>\n",
       "      <td>75.205696</td>\n",
       "      <td>-0.212312</td>\n",
       "      <td>76.907066</td>\n",
       "      <td>56.96524</td>\n",
       "      <td>2.80331</td>\n",
       "      <td>7</td>\n",
       "      <td>1.005138</td>\n",
       "      <td>1.725019</td>\n",
       "      <td>-2.028580</td>\n",
       "      <td>...</td>\n",
       "      <td>413.128998</td>\n",
       "      <td>77.486115</td>\n",
       "      <td>-1.148836</td>\n",
       "      <td>135.098801</td>\n",
       "      <td>-0.857189</td>\n",
       "      <td>260.437195</td>\n",
       "      <td>0.879744</td>\n",
       "      <td>368.445679</td>\n",
       "      <td>-0.879903</td>\n",
       "      <td>0</td>\n",
       "    </tr>\n",
       "    <tr>\n",
       "      <th>1</th>\n",
       "      <td>0.565032</td>\n",
       "      <td>75.205696</td>\n",
       "      <td>-0.212312</td>\n",
       "      <td>76.907066</td>\n",
       "      <td>56.96524</td>\n",
       "      <td>2.80331</td>\n",
       "      <td>7</td>\n",
       "      <td>1.005138</td>\n",
       "      <td>2.397315</td>\n",
       "      <td>-0.446142</td>\n",
       "      <td>...</td>\n",
       "      <td>172.717041</td>\n",
       "      <td>77.486115</td>\n",
       "      <td>-1.148836</td>\n",
       "      <td>135.098801</td>\n",
       "      <td>-0.857189</td>\n",
       "      <td>20.025236</td>\n",
       "      <td>-0.702694</td>\n",
       "      <td>25.641397</td>\n",
       "      <td>-0.881456</td>\n",
       "      <td>0</td>\n",
       "    </tr>\n",
       "    <tr>\n",
       "      <th>2</th>\n",
       "      <td>0.565032</td>\n",
       "      <td>75.205696</td>\n",
       "      <td>-0.212312</td>\n",
       "      <td>76.907066</td>\n",
       "      <td>56.96524</td>\n",
       "      <td>2.80331</td>\n",
       "      <td>7</td>\n",
       "      <td>1.005138</td>\n",
       "      <td>2.179603</td>\n",
       "      <td>-2.884358</td>\n",
       "      <td>...</td>\n",
       "      <td>174.154205</td>\n",
       "      <td>77.486115</td>\n",
       "      <td>-1.148836</td>\n",
       "      <td>135.098801</td>\n",
       "      <td>-0.857189</td>\n",
       "      <td>21.462395</td>\n",
       "      <td>1.735522</td>\n",
       "      <td>62.892284</td>\n",
       "      <td>0.100976</td>\n",
       "      <td>0</td>\n",
       "    </tr>\n",
       "    <tr>\n",
       "      <th>3</th>\n",
       "      <td>0.565032</td>\n",
       "      <td>75.205696</td>\n",
       "      <td>-0.212312</td>\n",
       "      <td>76.907066</td>\n",
       "      <td>56.96524</td>\n",
       "      <td>2.80331</td>\n",
       "      <td>7</td>\n",
       "      <td>1.005138</td>\n",
       "      <td>-0.687121</td>\n",
       "      <td>-0.079602</td>\n",
       "      <td>...</td>\n",
       "      <td>181.016479</td>\n",
       "      <td>77.486115</td>\n",
       "      <td>-1.148836</td>\n",
       "      <td>135.098801</td>\n",
       "      <td>-0.857189</td>\n",
       "      <td>28.324678</td>\n",
       "      <td>-1.069234</td>\n",
       "      <td>46.525688</td>\n",
       "      <td>0.275004</td>\n",
       "      <td>0</td>\n",
       "    </tr>\n",
       "    <tr>\n",
       "      <th>4</th>\n",
       "      <td>0.565032</td>\n",
       "      <td>75.205696</td>\n",
       "      <td>-0.212312</td>\n",
       "      <td>76.907066</td>\n",
       "      <td>56.96524</td>\n",
       "      <td>2.80331</td>\n",
       "      <td>7</td>\n",
       "      <td>1.005138</td>\n",
       "      <td>-1.837705</td>\n",
       "      <td>-0.769005</td>\n",
       "      <td>...</td>\n",
       "      <td>311.631348</td>\n",
       "      <td>77.486115</td>\n",
       "      <td>-1.148836</td>\n",
       "      <td>135.098801</td>\n",
       "      <td>-0.857189</td>\n",
       "      <td>158.939545</td>\n",
       "      <td>-0.379831</td>\n",
       "      <td>172.088455</td>\n",
       "      <td>0.418143</td>\n",
       "      <td>0</td>\n",
       "    </tr>\n",
       "  </tbody>\n",
       "</table>\n",
       "<p>5 rows × 26 columns</p>\n",
       "</div>"
      ],
      "text/plain": [
       "   draddjets  lepton_pT  lepton_eta   lepton_E       MET  MET_phi  jet_number  \\\n",
       "0   0.565032  75.205696   -0.212312  76.907066  56.96524  2.80331           7   \n",
       "1   0.565032  75.205696   -0.212312  76.907066  56.96524  2.80331           7   \n",
       "2   0.565032  75.205696   -0.212312  76.907066  56.96524  2.80331           7   \n",
       "3   0.565032  75.205696   -0.212312  76.907066  56.96524  2.80331           7   \n",
       "4   0.565032  75.205696   -0.212312  76.907066  56.96524  2.80331           7   \n",
       "\n",
       "   event_weight  delta_phi  delta_eta   ...             H   jet_pT_1  \\\n",
       "0      1.005138   1.725019  -2.028580   ...    413.128998  77.486115   \n",
       "1      1.005138   2.397315  -0.446142   ...    172.717041  77.486115   \n",
       "2      1.005138   2.179603  -2.884358   ...    174.154205  77.486115   \n",
       "3      1.005138  -0.687121  -0.079602   ...    181.016479  77.486115   \n",
       "4      1.005138  -1.837705  -0.769005   ...    311.631348  77.486115   \n",
       "\n",
       "   jet_eta_1     jet_E_1  jet_CvsB_1    jet_pT_2  jet_eta_2     jet_E_2  \\\n",
       "0  -1.148836  135.098801   -0.857189  260.437195   0.879744  368.445679   \n",
       "1  -1.148836  135.098801   -0.857189   20.025236  -0.702694   25.641397   \n",
       "2  -1.148836  135.098801   -0.857189   21.462395   1.735522   62.892284   \n",
       "3  -1.148836  135.098801   -0.857189   28.324678  -1.069234   46.525688   \n",
       "4  -1.148836  135.098801   -0.857189  158.939545  -0.379831  172.088455   \n",
       "\n",
       "   jet_CvsB_2  result  \n",
       "0   -0.879903       0  \n",
       "1   -0.881456       0  \n",
       "2    0.100976       0  \n",
       "3    0.275004       0  \n",
       "4    0.418143       0  \n",
       "\n",
       "[5 rows x 26 columns]"
      ]
     },
     "execution_count": 4,
     "metadata": {},
     "output_type": "execute_result"
    }
   ],
   "source": [
    "train.head()"
   ]
  },
  {
   "cell_type": "code",
   "execution_count": 5,
   "metadata": {},
   "outputs": [],
   "source": [
    "def preprocess_data(X, scaler=None):\n",
    "    if not scaler:\n",
    "        scaler = StandardScaler()\n",
    "        scaler.fit(X)\n",
    "    X = scaler.transform(X)\n",
    "    return X, scaler"
   ]
  },
  {
   "cell_type": "code",
   "execution_count": 6,
   "metadata": {},
   "outputs": [],
   "source": [
    "def under_sample(data):\n",
    "    \n",
    "    pos_events = data[data['result'] == 1]\n",
    "    neg_events = data[data['result'] == 0]\n",
    "    \n",
    "    #Randomize and pick same n number of events\n",
    "    number_pos_events = len(pos_events)  \n",
    "\n",
    "    pos_events = pos_events.reindex(np.random.permutation(pos_events.index))\n",
    "    neg_events = neg_events.reindex(np.random.permutation(neg_events.index))\n",
    "        \n",
    "    undersampled_events = pd.concat([neg_events.head(number_pos_events), pos_events])\n",
    "    X_data_u, scaler = preprocess_data(undersampled_events.drop('result',1))\n",
    "    y_data_u = undersampled_events['result'] \n",
    "\n",
    "    X_train_u, X_test_u, y_train_u, y_test_u = train_test_split(X_data_u, y_data_u, test_size=0.3)\n",
    "    \n",
    "    return X_train_u, X_test_u, y_train_u, y_test_u, scaler"
   ]
  },
  {
   "cell_type": "code",
   "execution_count": 90,
   "metadata": {},
   "outputs": [
    {
     "name": "stderr",
     "output_type": "stream",
     "text": [
      "/home/9304220184/python27/lib/python2.7/site-packages/ipykernel_launcher.py:5: DataConversionWarning: Data with input dtype int64, float64 were all converted to float64 by StandardScaler.\n",
      "  \"\"\"\n"
     ]
    }
   ],
   "source": [
    "X_train, X_test, Y_train, Y_test, scaler = under_sample(train)"
   ]
  },
  {
   "cell_type": "code",
   "execution_count": 92,
   "metadata": {},
   "outputs": [],
   "source": [
    "model = Sequential()\n",
    "model.add(Dropout(0.13, input_shape=(X_train.shape[1],)))\n",
    "model.add(Dense(75))\n",
    "model.add(PReLU())\n",
    "\n",
    "model.add(Dropout(0.11))\n",
    "model.add(Dense(60))\n",
    "model.add(PReLU())\n",
    "\n",
    "model.add(Dropout(0.09))\n",
    "model.add(Dense(45))\n",
    "model.add(PReLU())\n",
    "\n",
    "model.add(Dropout(0.07))\n",
    "model.add(Dense(30))\n",
    "model.add(PReLU())\n",
    "\n",
    "model.add(Dropout(0.11))\n",
    "model.add(Dense(15))\n",
    "model.add(PReLU())\n",
    "\n",
    "model.add(Dense(2))\n",
    "model.add(Activation('sigmoid'))"
   ]
  },
  {
   "cell_type": "code",
   "execution_count": 93,
   "metadata": {},
   "outputs": [],
   "source": [
    "model.compile(loss='categorical_crossentropy', optimizer=keras.optimizers.SGD(lr=0.05, nesterov=True), metrics=['accuracy'])"
   ]
  },
  {
   "cell_type": "code",
   "execution_count": 94,
   "metadata": {},
   "outputs": [],
   "source": [
    "Y_train_nn = np_utils.to_categorical(Y_train)\n",
    "Y_test_nn = np_utils.to_categorical(Y_test)"
   ]
  },
  {
   "cell_type": "code",
   "execution_count": 95,
   "metadata": {},
   "outputs": [
    {
     "name": "stdout",
     "output_type": "stream",
     "text": [
      "Train on 53708 samples, validate on 23018 samples\n",
      "Epoch 1/70\n",
      " - 4s - loss: 0.5480 - acc: 0.7214 - val_loss: 0.4702 - val_acc: 0.7790\n",
      "Epoch 2/70\n",
      " - 3s - loss: 0.4920 - acc: 0.7676 - val_loss: 0.4581 - val_acc: 0.7874\n",
      "Epoch 3/70\n",
      " - 3s - loss: 0.4850 - acc: 0.7699 - val_loss: 0.4514 - val_acc: 0.7911\n",
      "Epoch 4/70\n",
      " - 3s - loss: 0.4822 - acc: 0.7710 - val_loss: 0.4534 - val_acc: 0.7886\n",
      "Epoch 5/70\n",
      " - 3s - loss: 0.4766 - acc: 0.7755 - val_loss: 0.4504 - val_acc: 0.7922\n",
      "Epoch 6/70\n",
      " - 3s - loss: 0.4761 - acc: 0.7750 - val_loss: 0.4496 - val_acc: 0.7916\n",
      "Epoch 7/70\n",
      " - 3s - loss: 0.4738 - acc: 0.7770 - val_loss: 0.4515 - val_acc: 0.7925\n",
      "Epoch 8/70\n",
      " - 3s - loss: 0.4751 - acc: 0.7750 - val_loss: 0.4467 - val_acc: 0.7912\n",
      "Epoch 9/70\n",
      " - 3s - loss: 0.4729 - acc: 0.7757 - val_loss: 0.4523 - val_acc: 0.7908\n",
      "Epoch 10/70\n",
      " - 3s - loss: 0.4711 - acc: 0.7775 - val_loss: 0.4473 - val_acc: 0.7942\n",
      "Epoch 11/70\n",
      " - 3s - loss: 0.4682 - acc: 0.7783 - val_loss: 0.4495 - val_acc: 0.7895\n",
      "Epoch 12/70\n",
      " - 3s - loss: 0.4678 - acc: 0.7784 - val_loss: 0.4461 - val_acc: 0.7923\n",
      "Epoch 13/70\n",
      " - 3s - loss: 0.4660 - acc: 0.7776 - val_loss: 0.4460 - val_acc: 0.7931\n",
      "Epoch 14/70\n",
      " - 3s - loss: 0.4673 - acc: 0.7782 - val_loss: 0.4451 - val_acc: 0.7936\n",
      "Epoch 15/70\n",
      " - 3s - loss: 0.4664 - acc: 0.7791 - val_loss: 0.4487 - val_acc: 0.7946\n",
      "Epoch 16/70\n",
      " - 3s - loss: 0.4653 - acc: 0.7803 - val_loss: 0.4431 - val_acc: 0.7959\n",
      "Epoch 17/70\n",
      " - 3s - loss: 0.4644 - acc: 0.7806 - val_loss: 0.4471 - val_acc: 0.7920\n",
      "Epoch 18/70\n",
      " - 3s - loss: 0.4657 - acc: 0.7791 - val_loss: 0.4428 - val_acc: 0.7958\n",
      "Epoch 19/70\n",
      " - 3s - loss: 0.4642 - acc: 0.7810 - val_loss: 0.4448 - val_acc: 0.7946\n",
      "Epoch 20/70\n",
      " - 3s - loss: 0.4651 - acc: 0.7791 - val_loss: 0.4401 - val_acc: 0.7957\n",
      "Epoch 21/70\n",
      " - 3s - loss: 0.4648 - acc: 0.7819 - val_loss: 0.4432 - val_acc: 0.7966\n",
      "Epoch 22/70\n",
      " - 3s - loss: 0.4633 - acc: 0.7830 - val_loss: 0.4431 - val_acc: 0.7969\n",
      "Epoch 23/70\n",
      " - 3s - loss: 0.4620 - acc: 0.7805 - val_loss: 0.4411 - val_acc: 0.7960\n",
      "Epoch 24/70\n",
      " - 3s - loss: 0.4620 - acc: 0.7831 - val_loss: 0.4406 - val_acc: 0.7977\n",
      "Epoch 25/70\n",
      " - 3s - loss: 0.4622 - acc: 0.7820 - val_loss: 0.4415 - val_acc: 0.7961\n",
      "Epoch 26/70\n",
      " - 3s - loss: 0.4620 - acc: 0.7816 - val_loss: 0.4466 - val_acc: 0.7976\n",
      "Epoch 27/70\n",
      " - 3s - loss: 0.4619 - acc: 0.7817 - val_loss: 0.4445 - val_acc: 0.7970\n",
      "Epoch 28/70\n",
      " - 3s - loss: 0.4593 - acc: 0.7826 - val_loss: 0.4409 - val_acc: 0.7987\n",
      "Epoch 29/70\n",
      " - 3s - loss: 0.4610 - acc: 0.7822 - val_loss: 0.4429 - val_acc: 0.7983\n",
      "Epoch 30/70\n",
      " - 3s - loss: 0.4620 - acc: 0.7813 - val_loss: 0.4395 - val_acc: 0.7976\n",
      "Epoch 31/70\n",
      " - 3s - loss: 0.4604 - acc: 0.7827 - val_loss: 0.4396 - val_acc: 0.7982\n",
      "Epoch 32/70\n",
      " - 3s - loss: 0.4579 - acc: 0.7837 - val_loss: 0.4416 - val_acc: 0.7967\n",
      "Epoch 33/70\n",
      " - 3s - loss: 0.4584 - acc: 0.7835 - val_loss: 0.4402 - val_acc: 0.7982\n",
      "Epoch 34/70\n",
      " - 3s - loss: 0.4581 - acc: 0.7839 - val_loss: 0.4391 - val_acc: 0.7989\n",
      "Epoch 35/70\n",
      " - 3s - loss: 0.4583 - acc: 0.7839 - val_loss: 0.4377 - val_acc: 0.7979\n",
      "Epoch 36/70\n",
      " - 3s - loss: 0.4569 - acc: 0.7844 - val_loss: 0.4396 - val_acc: 0.7985\n",
      "Epoch 37/70\n",
      " - 3s - loss: 0.4579 - acc: 0.7827 - val_loss: 0.4372 - val_acc: 0.7983\n",
      "Epoch 38/70\n",
      " - 3s - loss: 0.4580 - acc: 0.7840 - val_loss: 0.4409 - val_acc: 0.7971\n",
      "Epoch 39/70\n",
      " - 3s - loss: 0.4583 - acc: 0.7849 - val_loss: 0.4421 - val_acc: 0.7991\n",
      "Epoch 40/70\n",
      " - 3s - loss: 0.4578 - acc: 0.7842 - val_loss: 0.4366 - val_acc: 0.8000\n",
      "Epoch 41/70\n",
      " - 3s - loss: 0.4546 - acc: 0.7859 - val_loss: 0.4375 - val_acc: 0.7994\n",
      "Epoch 42/70\n",
      " - 3s - loss: 0.4579 - acc: 0.7858 - val_loss: 0.4384 - val_acc: 0.8002\n",
      "Epoch 43/70\n",
      " - 3s - loss: 0.4571 - acc: 0.7847 - val_loss: 0.4383 - val_acc: 0.7999\n",
      "Epoch 44/70\n",
      " - 3s - loss: 0.4548 - acc: 0.7876 - val_loss: 0.4413 - val_acc: 0.7996\n",
      "Epoch 45/70\n",
      " - 3s - loss: 0.4559 - acc: 0.7857 - val_loss: 0.4369 - val_acc: 0.8000\n",
      "Epoch 46/70\n",
      " - 3s - loss: 0.4560 - acc: 0.7838 - val_loss: 0.4402 - val_acc: 0.7985\n",
      "Epoch 47/70\n",
      " - 3s - loss: 0.4542 - acc: 0.7845 - val_loss: 0.4362 - val_acc: 0.8006\n",
      "Epoch 48/70\n",
      " - 3s - loss: 0.4563 - acc: 0.7867 - val_loss: 0.4386 - val_acc: 0.8001\n",
      "Epoch 49/70\n",
      " - 3s - loss: 0.4555 - acc: 0.7854 - val_loss: 0.4430 - val_acc: 0.8016\n",
      "Epoch 50/70\n",
      " - 3s - loss: 0.4541 - acc: 0.7853 - val_loss: 0.4355 - val_acc: 0.8015\n",
      "Epoch 51/70\n",
      " - 3s - loss: 0.4528 - acc: 0.7858 - val_loss: 0.4370 - val_acc: 0.8017\n",
      "Epoch 52/70\n",
      " - 3s - loss: 0.4533 - acc: 0.7866 - val_loss: 0.4359 - val_acc: 0.8010\n",
      "Epoch 53/70\n",
      " - 3s - loss: 0.4525 - acc: 0.7873 - val_loss: 0.4337 - val_acc: 0.8006\n",
      "Epoch 54/70\n",
      " - 3s - loss: 0.4529 - acc: 0.7879 - val_loss: 0.4337 - val_acc: 0.8014\n",
      "Epoch 55/70\n",
      " - 3s - loss: 0.4535 - acc: 0.7871 - val_loss: 0.4325 - val_acc: 0.8019\n",
      "Epoch 56/70\n",
      " - 3s - loss: 0.4541 - acc: 0.7852 - val_loss: 0.4342 - val_acc: 0.8006\n",
      "Epoch 57/70\n",
      " - 3s - loss: 0.4536 - acc: 0.7845 - val_loss: 0.4365 - val_acc: 0.8019\n",
      "Epoch 58/70\n",
      " - 3s - loss: 0.4495 - acc: 0.7878 - val_loss: 0.4344 - val_acc: 0.8015\n",
      "Epoch 59/70\n",
      " - 3s - loss: 0.4538 - acc: 0.7851 - val_loss: 0.4329 - val_acc: 0.8017\n",
      "Epoch 60/70\n",
      " - 3s - loss: 0.4511 - acc: 0.7880 - val_loss: 0.4353 - val_acc: 0.8014\n",
      "Epoch 61/70\n",
      " - 3s - loss: 0.4519 - acc: 0.7879 - val_loss: 0.4368 - val_acc: 0.8020\n",
      "Epoch 62/70\n",
      " - 3s - loss: 0.4532 - acc: 0.7852 - val_loss: 0.4387 - val_acc: 0.7999\n",
      "Epoch 63/70\n",
      " - 3s - loss: 0.4502 - acc: 0.7896 - val_loss: 0.4388 - val_acc: 0.7984\n",
      "Epoch 64/70\n",
      " - 3s - loss: 0.4509 - acc: 0.7879 - val_loss: 0.4346 - val_acc: 0.8012\n",
      "Epoch 65/70\n",
      " - 3s - loss: 0.4500 - acc: 0.7882 - val_loss: 0.4337 - val_acc: 0.8005\n",
      "Epoch 66/70\n",
      " - 3s - loss: 0.4524 - acc: 0.7867 - val_loss: 0.4336 - val_acc: 0.8023\n",
      "Epoch 67/70\n",
      " - 3s - loss: 0.4506 - acc: 0.7878 - val_loss: 0.4366 - val_acc: 0.8007\n",
      "Epoch 68/70\n",
      " - 3s - loss: 0.4503 - acc: 0.7893 - val_loss: 0.4325 - val_acc: 0.8024\n",
      "Epoch 69/70\n",
      " - 3s - loss: 0.4512 - acc: 0.7884 - val_loss: 0.4344 - val_acc: 0.8009\n",
      "Epoch 70/70\n",
      " - 3s - loss: 0.4487 - acc: 0.7895 - val_loss: 0.4320 - val_acc: 0.8026\n"
     ]
    },
    {
     "data": {
      "text/plain": [
       "<keras.callbacks.History at 0x7fcc64744d90>"
      ]
     },
     "execution_count": 95,
     "metadata": {},
     "output_type": "execute_result"
    }
   ],
   "source": [
    "model.fit(X_train, Y_train_nn, batch_size=64, epochs=70, verbose=2, shuffle=True, validation_data = (X_test, Y_test_nn))"
   ]
  },
  {
   "cell_type": "code",
   "execution_count": 40,
   "metadata": {},
   "outputs": [
    {
     "data": {
      "text/plain": [
       "RandomForestClassifier(bootstrap=True, class_weight=None, criterion='gini',\n",
       "            max_depth=None, max_features='auto', max_leaf_nodes=None,\n",
       "            min_impurity_decrease=0.0, min_impurity_split=None,\n",
       "            min_samples_leaf=1, min_samples_split=2,\n",
       "            min_weight_fraction_leaf=0.0, n_estimators=100, n_jobs=None,\n",
       "            oob_score=False, random_state=None, verbose=0,\n",
       "            warm_start=False)"
      ]
     },
     "execution_count": 40,
     "metadata": {},
     "output_type": "execute_result"
    }
   ],
   "source": [
    "rf = RandomForestClassifier(n_estimators=100)\n",
    "rf.fit(X_train, Y_train)"
   ]
  },
  {
   "cell_type": "code",
   "execution_count": 96,
   "metadata": {},
   "outputs": [
    {
     "data": {
      "text/plain": [
       "['jet_randomforest.h5']"
      ]
     },
     "execution_count": 96,
     "metadata": {},
     "output_type": "execute_result"
    }
   ],
   "source": [
    "joblib.dump(scaler, 'scaler.save') \n",
    "joblib.dump(model, 'jet_selection.h5')\n",
    "joblib.dump(rf, 'jet_randomforest.h5')"
   ]
  },
  {
   "cell_type": "code",
   "execution_count": 51,
   "metadata": {},
   "outputs": [
    {
     "name": "stdout",
     "output_type": "stream",
     "text": [
      "Accuracy for Random Forest: 81.26\n"
     ]
    }
   ],
   "source": [
    "r = rf.predict(X_test)\n",
    "Y_valid = np.array(Y_test)\n",
    "print(\"Accuracy for Random Forest: %.2f\" % (accuracy_score(Y_test, r.round()) * 100))"
   ]
  },
  {
   "cell_type": "code",
   "execution_count": 42,
   "metadata": {},
   "outputs": [
    {
     "name": "stdout",
     "output_type": "stream",
     "text": [
      "Accuracy for Random Forest: 100.00\n"
     ]
    }
   ],
   "source": [
    "r = rf.predict(X_train)\n",
    "Y_valid = np.array(Y_train)\n",
    "print(\"Accuracy for Random Forest: %.2f\" % (accuracy_score(Y_train, r.round()) * 100))"
   ]
  },
  {
   "cell_type": "code",
   "execution_count": 74,
   "metadata": {},
   "outputs": [],
   "source": [
    "nn_test = model.predict(X_test)"
   ]
  },
  {
   "cell_type": "code",
   "execution_count": 75,
   "metadata": {},
   "outputs": [],
   "source": [
    "result_0 = [nn_test[i] for i in range(len(nn_test)) if Y_test.tolist()[i] == 0] \n",
    "result_1 = [nn_test[i] for i in range(len(nn_test)) if Y_test.tolist()[i] == 1]\n",
    "\n",
    "# sns.kdeplot(result_0, label=\"Not Higgs\")\n",
    "# sns.kdeplot(result_1, label=\"Higgs\")\n",
    "# plt.show()"
   ]
  },
  {
   "cell_type": "code",
   "execution_count": 82,
   "metadata": {},
   "outputs": [
    {
     "name": "stdout",
     "output_type": "stream",
     "text": [
      "0.798413805125\n"
     ]
    }
   ],
   "source": [
    "result_0_0 = sum([1 for i in result_0 if i[0] > i[1]])\n",
    "print(float(result_0_0) / len(result_0))"
   ]
  },
  {
   "cell_type": "code",
   "execution_count": 83,
   "metadata": {},
   "outputs": [
    {
     "name": "stdout",
     "output_type": "stream",
     "text": [
      "0.817307692308\n"
     ]
    }
   ],
   "source": [
    "result_1_1 = sum([1 for i in result_1 if i[0] < i[1]])\n",
    "print(float(result_1_1) / len(result_1))"
   ]
  },
  {
   "cell_type": "code",
   "execution_count": 58,
   "metadata": {},
   "outputs": [
    {
     "name": "stdout",
     "output_type": "stream",
     "text": [
      "Accuracy for the Combined Model: 49.85\n"
     ]
    }
   ],
   "source": [
    "nn_test = model.predict(X_test)\n",
    "nn_test = np.array([i[1] for i in nn_test])\n",
    "print(\"Accuracy for the Combined Model: %.2f\" % (accuracy_score(Y_test, nn_test.round()) * 100))"
   ]
  },
  {
   "cell_type": "code",
   "execution_count": null,
   "metadata": {},
   "outputs": [],
   "source": []
  }
 ],
 "metadata": {
  "kernelspec": {
   "display_name": "Python 2",
   "language": "python",
   "name": "python2"
  },
  "language_info": {
   "codemirror_mode": {
    "name": "ipython",
    "version": 2
   },
   "file_extension": ".py",
   "mimetype": "text/x-python",
   "name": "python",
   "nbconvert_exporter": "python",
   "pygments_lexer": "ipython2",
   "version": "2.7.12"
  }
 },
 "nbformat": 4,
 "nbformat_minor": 2
}
