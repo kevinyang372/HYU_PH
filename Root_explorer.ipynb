{
 "cells": [
  {
   "cell_type": "code",
   "execution_count": 167,
   "metadata": {},
   "outputs": [],
   "source": [
    "from ROOT import *\n",
    "from root_numpy import tree2array\n",
    "from ROOT import TFile\n",
    "import pandas as pd\n",
    "import numpy as np\n",
    "import deepdish.io as io\n",
    "from sklearn.preprocessing import StandardScaler, MinMaxScaler\n",
    "from sklearn.model_selection import GridSearchCV, train_test_split\n",
    "import keras\n",
    "from keras.models import Sequential\n",
    "from keras.layers.core import Dense, Activation, Dropout\n",
    "from keras.layers.advanced_activations import PReLU\n",
    "from keras.utils import np_utils\n",
    "from sklearn.metrics import accuracy_score, roc_auc_score, precision_recall_fscore_support, roc_curve, auc\n",
    "from sklearn.ensemble import RandomForestClassifier\n",
    "from xgboost import XGBRegressor\n",
    "from sklearn.feature_selection import RFE, f_regression\n",
    "from sklearn.linear_model import LinearRegression, Ridge, Lasso, RandomizedLasso\n",
    "import os\n",
    "import math\n",
    "import seaborn as sns\n",
    "import matplotlib.pyplot as plt\n"
   ]
  },
  {
   "cell_type": "code",
   "execution_count": 114,
   "metadata": {},
   "outputs": [],
   "source": [
    "data = TFile.Open(\"/home/minerva1993/public/v808/nosplit/ttHbb_PowhegPythia.root\")\n",
    "data2 = TFile.Open(\"/home/minerva1993/public/v808/nosplit/TTLJ_PowhegPythia_ttbb.root\")\n",
    "tree = data.Get(\"ttbbLepJets/tree\")\n",
    "tree2 = data2.Get(\"ttbbLepJets/tree\")"
   ]
  },
  {
   "cell_type": "code",
   "execution_count": 115,
   "metadata": {},
   "outputs": [],
   "source": [
    "def tree_to_df(tree, branch_names=[], index_name='', drop_roofit_labels=False):\n",
    "    if tree is None:\n",
    "        return None\n",
    "\n",
    "    branch_list = tree.GetListOfBranches()\n",
    "    all_branch_names = [branch_list.At(i).GetName() for i in range(branch_list.GetEntries())]\n",
    "    if len(branch_names) == 0:\n",
    "        branch_names = all_branch_names\n",
    "    for bn in branch_names[:]:\n",
    "        if bn not in all_branch_names:\n",
    "            branch_names.remove(bn)\n",
    "        if drop_roofit_labels:\n",
    "            if bn.endswith('_lbl'):\n",
    "                branch_names.remove(bn)\n",
    "\n",
    "    arrs = tree2array(tree, branch_names, start = 0, stop = 40000)\n",
    "    df = pd.DataFrame(arrs)\n",
    "\n",
    "    if len(index_name) == 0:\n",
    "        for col in df.columns:\n",
    "            if col.startswith('__index__'):\n",
    "                index_name = col\n",
    "                break\n",
    "    if len(index_name):\n",
    "        try:\n",
    "            df[index_name] = df[index_name].astype(np.int32)\n",
    "            df.set_index(index_name, inplace=True)\n",
    "        except BaseException:\n",
    "            pass\n",
    "\n",
    "    if drop_roofit_labels:\n",
    "        df.columns = [col.replace('_idx', '') for col in df.columns]\n",
    "\n",
    "    n_tree = tree.GetEntries()\n",
    "    n_df = len(df.index)\n",
    "\n",
    "    return df "
   ]
  },
  {
   "cell_type": "code",
   "execution_count": 116,
   "metadata": {},
   "outputs": [],
   "source": [
    "dftree = tree_to_df(tree)\n",
    "dftree_bg = tree_to_df(tree2)"
   ]
  },
  {
   "cell_type": "code",
   "execution_count": 117,
   "metadata": {},
   "outputs": [],
   "source": [
    "# results = []\n",
    "# for i in range(len(dftree['addbjet1_pt'])):\n",
    "#     k = np.sqrt((dftree['addbjet1_e'][i] + dftree['addbjet2_e'][i])**2 - (dftree['addbjet1_pt'][i] + dftree['addbjet2_pt'][i])**2 - (dftree['addbjet1_eta'][i] + dftree['addbjet2_eta'][i])**2 - (dftree['addbjet1_phi'][i] + dftree['addbjet2_phi'][i])**2)\n",
    "#     results.append(k)"
   ]
  },
  {
   "cell_type": "code",
   "execution_count": 118,
   "metadata": {},
   "outputs": [],
   "source": [
    "def process(df):\n",
    "    columns = ['draddjets','lepton_pT','lepton_eta','lepton_phi','lepton_E','MET','MET_phi','event_weight','delta_phi','delta_eta','delta_R']\n",
    "    \n",
    "    for t in range(1,5):\n",
    "        for i in ['jet_pT','jet_eta','jet_phi','jet_E','jet_CvsB']:\n",
    "            columns.append(i+'_'+str(t))\n",
    "    \n",
    "    end = []\n",
    "    \n",
    "    for i in range(len(df['lepton_SF'])):\n",
    "        if df['jet_number'][i] >= 6:\n",
    "            parts = []\n",
    "            for t in ['draddjets','lepton_pT','lepton_eta','lepton_phi','lepton_E','MET','MET_phi']:\n",
    "                parts.append(df[t][i])\n",
    "            \n",
    "            product = df['lepton_SF'][i][0] * df['jet_SF_CSV_30'][i][0] * df['PUWeight'][i][0] * df['genweight'][i]\n",
    "            \n",
    "            parts.append(product)\n",
    "            \n",
    "            delta_phi = df['addbjet1_phi'][i] - df['addbjet2_phi'][i] - 2*math.pi if df['addbjet1_phi'][i] - df['addbjet2_phi'][i] > 2*math.pi else df['addbjet1_phi'][i] - df['addbjet2_phi'][i] + 2*math.pi\n",
    "            delta_eta = df['addbjet1_eta'][i] - df['addbjet2_eta'][i]\n",
    "            delta_R = math.sqrt(delta_phi**2 + delta_eta**2)\n",
    "            \n",
    "            parts += [delta_phi, delta_eta, delta_R]\n",
    "            \n",
    "            for t in range(len(df['jet_pT'][i])):\n",
    "                passed = True\n",
    "                partial = []\n",
    "                for k in ['jet_pT','jet_eta','jet_phi','jet_E','jet_CvsB']:\n",
    "                    if k == 'jet_pT':\n",
    "                        if df[k][i][t] < 30:\n",
    "                            passed = False\n",
    "                            break\n",
    "                    elif k == 'jet_eta':\n",
    "                        if df[k][i][t] > 2.4 or df[k][i][t] < -2.4:\n",
    "                            passed = False\n",
    "                            break\n",
    "                    partial.append(df[k][i][t])\n",
    "                \n",
    "                if passed:\n",
    "                    parts += partial\n",
    "                    \n",
    "                if len(parts) == len(columns):\n",
    "                    break\n",
    "                    \n",
    "            end.append(parts)\n",
    "            \n",
    "    print \"Column Length: \", len(end[0])\n",
    "    print \"Fixed Length: \", len(columns)\n",
    "    train_tree = pd.DataFrame(end, columns=columns)\n",
    "    return train_tree"
   ]
  },
  {
   "cell_type": "code",
   "execution_count": 119,
   "metadata": {},
   "outputs": [
    {
     "name": "stdout",
     "output_type": "stream",
     "text": [
      "Column Length:  31\n",
      "Fixed Length:  31\n"
     ]
    }
   ],
   "source": [
    "train_tree = process(dftree)"
   ]
  },
  {
   "cell_type": "code",
   "execution_count": 120,
   "metadata": {},
   "outputs": [
    {
     "name": "stdout",
     "output_type": "stream",
     "text": [
      "Column Length:  31\n",
      "Fixed Length:  31\n"
     ]
    }
   ],
   "source": [
    "train_tree_2 = process(dftree_bg)"
   ]
  },
  {
   "cell_type": "code",
   "execution_count": 121,
   "metadata": {},
   "outputs": [],
   "source": [
    "train_tree['result'] = np.zeros(len(train_tree))"
   ]
  },
  {
   "cell_type": "code",
   "execution_count": 122,
   "metadata": {},
   "outputs": [],
   "source": [
    "train_tree_2['result'] = [1 for i in range(len(train_tree_2))]"
   ]
  },
  {
   "cell_type": "code",
   "execution_count": 123,
   "metadata": {
    "scrolled": false
   },
   "outputs": [],
   "source": [
    "full_train = train_tree.append(train_tree_2, ignore_index=True)"
   ]
  },
  {
   "cell_type": "code",
   "execution_count": 124,
   "metadata": {},
   "outputs": [],
   "source": [
    "y_pred = full_train['result']\n",
    "full_train = full_train.drop('result',1)"
   ]
  },
  {
   "cell_type": "code",
   "execution_count": 125,
   "metadata": {},
   "outputs": [],
   "source": [
    "def preprocess_data(X, scaler=None):\n",
    "    if not scaler:\n",
    "        scaler = StandardScaler()\n",
    "        scaler.fit(X)\n",
    "    X = scaler.transform(X)\n",
    "    return X, scaler"
   ]
  },
  {
   "cell_type": "code",
   "execution_count": 126,
   "metadata": {},
   "outputs": [],
   "source": [
    "train, scaler = preprocess_data(full_train)"
   ]
  },
  {
   "cell_type": "markdown",
   "metadata": {},
   "source": [
    "# Data Analysis and Cleaning"
   ]
  },
  {
   "cell_type": "code",
   "execution_count": 127,
   "metadata": {},
   "outputs": [
    {
     "data": {
      "image/png": "[encoded data removed]",
      "text/plain": [
       "<Figure size 540x540 with 12 Axes>"
      ]
     },
     "metadata": {
      "needs_background": "light"
     },
     "output_type": "display_data"
    }
   ],
   "source": [
    "g = sns.pairplot(full_train, vars=[\"draddjets\",\"event_weight\",\"MET\"])\n",
    "g.set(xticklabels=[]);"
   ]
  },
  {
   "cell_type": "code",
   "execution_count": 128,
   "metadata": {},
   "outputs": [],
   "source": [
    "ranks = {}\n",
    "colnames = full_train.columns\n",
    "# Create our function which stores the feature rankings to the ranks dictionary\n",
    "def ranking(ranks, names, order=1):\n",
    "    minmax = MinMaxScaler()\n",
    "    ranks = minmax.fit_transform(order*np.array([ranks]).T).T[0]\n",
    "    ranks = map(lambda x: round(x,2), ranks)\n",
    "    return dict(zip(names, ranks))"
   ]
  },
  {
   "cell_type": "code",
   "execution_count": 129,
   "metadata": {},
   "outputs": [
    {
     "name": "stdout",
     "output_type": "stream",
     "text": [
      "Fitting estimator with 31 features.\n",
      "Fitting estimator with 30 features.\n",
      "Fitting estimator with 29 features.\n",
      "Fitting estimator with 28 features.\n",
      "Fitting estimator with 27 features.\n",
      "Fitting estimator with 26 features.\n",
      "Fitting estimator with 25 features.\n",
      "Fitting estimator with 24 features.\n",
      "Fitting estimator with 23 features.\n",
      "Fitting estimator with 22 features.\n",
      "Fitting estimator with 21 features.\n",
      "Fitting estimator with 20 features.\n",
      "Fitting estimator with 19 features.\n",
      "Fitting estimator with 18 features.\n",
      "Fitting estimator with 17 features.\n",
      "Fitting estimator with 16 features.\n",
      "Fitting estimator with 15 features.\n",
      "Fitting estimator with 14 features.\n",
      "Fitting estimator with 13 features.\n",
      "Fitting estimator with 12 features.\n",
      "Fitting estimator with 11 features.\n",
      "Fitting estimator with 10 features.\n",
      "Fitting estimator with 9 features.\n",
      "Fitting estimator with 8 features.\n",
      "Fitting estimator with 7 features.\n",
      "Fitting estimator with 6 features.\n",
      "Fitting estimator with 5 features.\n",
      "Fitting estimator with 4 features.\n",
      "Fitting estimator with 3 features.\n",
      "Fitting estimator with 2 features.\n"
     ]
    }
   ],
   "source": [
    "estimator = LinearRegression(normalize=True)\n",
    "selector = RFE(estimator, n_features_to_select = 1, verbose = 3)\n",
    "selector = selector.fit(train, y_pred)\n",
    "ranks[\"RFE\"] = ranking(list(map(float, selector.ranking_)), colnames, order=-1)"
   ]
  },
  {
   "cell_type": "code",
   "execution_count": 130,
   "metadata": {},
   "outputs": [],
   "source": [
    "# Using Ridge \n",
    "ridge = Ridge(alpha = 7)\n",
    "ridge.fit(train, y_pred)\n",
    "ranks['Ridge'] = ranking(np.abs(ridge.coef_), colnames)\n",
    "\n",
    "# Using Lasso\n",
    "lasso = Lasso(alpha=.05)\n",
    "lasso.fit(train, y_pred)\n",
    "ranks[\"Lasso\"] = ranking(np.abs(lasso.coef_), colnames)"
   ]
  },
  {
   "cell_type": "code",
   "execution_count": 131,
   "metadata": {},
   "outputs": [],
   "source": [
    "rf = RandomForestClassifier(n_estimators=100, max_features=15, max_depth=11, random_state=1)\n",
    "rf.fit(train, y_pred)\n",
    "ranks[\"RF\"] = ranking(rf.feature_importances_, colnames);"
   ]
  },
  {
   "cell_type": "code",
   "execution_count": 132,
   "metadata": {},
   "outputs": [],
   "source": [
    "r = {}\n",
    "for name in colnames:\n",
    "    r[name] = round(np.mean([ranks[method][name] for method in ranks.keys()]), 2)\n",
    "\n",
    "methods = sorted(ranks.keys())\n",
    "ranks[\"Mean\"] = r\n",
    "methods.append(\"Mean\")"
   ]
  },
  {
   "cell_type": "code",
   "execution_count": 133,
   "metadata": {},
   "outputs": [
    {
     "name": "stdout",
     "output_type": "stream",
     "text": [
      "\t\tLasso\tRF\tRFE\tRidge\tMean\n",
      "draddjets \t0.0\t0.0\t0.67\t0.01\t0.17\n",
      "lepton_pT \t0.0\t0.0\t0.57\t0.01\t0.14\n",
      "lepton_eta \t0.0\t0.0\t0.13\t0.0\t0.03\n",
      "lepton_phi \t0.0\t0.0\t0.17\t0.0\t0.04\n",
      "lepton_E \t0.0\t0.0\t0.5\t0.0\t0.13\n",
      "MET\t\t0.0\t0.0\t0.4\t0.0\t0.1\n",
      "MET_phi \t0.0\t0.0\t0.1\t0.0\t0.03\n",
      "event_weight \t0.0\t0.0\t0.73\t0.01\t0.18\n",
      "delta_phi \t0.0\t0.77\t0.97\t0.99\t0.68\n",
      "delta_eta \t0.0\t0.46\t0.37\t0.0\t0.21\n",
      "delta_R \t0.0\t1.0\t1.0\t1.0\t0.75\n",
      "jet_pT_1 \t0.0\t0.0\t0.93\t0.05\t0.25\n",
      "jet_eta_1 \t0.0\t0.0\t0.47\t0.0\t0.12\n",
      "jet_phi_1 \t0.0\t0.0\t0.03\t0.0\t0.01\n",
      "jet_E_1 \t0.0\t0.0\t0.9\t0.04\t0.24\n",
      "jet_CvsB_1 \t0.0\t0.0\t0.53\t0.01\t0.14\n",
      "jet_pT_2 \t0.0\t0.0\t0.87\t0.04\t0.23\n",
      "jet_eta_2 \t0.0\t0.0\t0.0\t0.0\t0.0\n",
      "jet_phi_2 \t0.0\t0.0\t0.07\t0.0\t0.02\n",
      "jet_E_2 \t0.0\t0.0\t0.83\t0.04\t0.22\n",
      "jet_CvsB_2 \t0.0\t0.0\t0.63\t0.01\t0.16\n",
      "jet_pT_3 \t0.0\t0.0\t0.77\t0.03\t0.2\n",
      "jet_eta_3 \t0.0\t0.0\t0.33\t0.0\t0.08\n",
      "jet_phi_3 \t0.0\t0.0\t0.3\t0.0\t0.07\n",
      "jet_E_3 \t0.0\t0.0\t0.8\t0.03\t0.21\n",
      "jet_CvsB_3 \t0.0\t0.0\t0.23\t0.0\t0.06\n",
      "jet_pT_4 \t0.0\t0.0\t0.6\t0.01\t0.15\n",
      "jet_eta_4 \t0.0\t0.0\t0.43\t0.0\t0.11\n",
      "jet_phi_4 \t0.0\t0.0\t0.2\t0.0\t0.05\n",
      "jet_E_4 \t0.0\t0.0\t0.7\t0.02\t0.18\n",
      "jet_CvsB_4 \t0.0\t0.0\t0.27\t0.0\t0.07\n"
     ]
    }
   ],
   "source": [
    "print \"\\t\\t\", \"\\t\".join(methods)\n",
    "for name in colnames:\n",
    "    nameit = name\n",
    "    if len(name) == 3:\n",
    "        nameit += \"\\t\"\n",
    "    print nameit, \"\\t\",\"\\t\".join(map(str,[ranks[method][name] for method in methods]))"
   ]
  },
  {
   "cell_type": "code",
   "execution_count": 134,
   "metadata": {},
   "outputs": [],
   "source": [
    "# Put the mean scores into a Pandas dataframe\n",
    "meanplot = pd.DataFrame(list(r.items()), columns= ['Feature','Mean Ranking'])\n",
    "\n",
    "# Sort the dataframe\n",
    "meanplot = meanplot.sort_values('Mean Ranking', ascending=False)"
   ]
  },
  {
   "cell_type": "code",
   "execution_count": 135,
   "metadata": {},
   "outputs": [
    {
     "data": {
      "text/plain": [
       "<seaborn.axisgrid.FacetGrid at 0x7fc032dec810>"
      ]
     },
     "execution_count": 135,
     "metadata": {},
     "output_type": "execute_result"
    },
    {
     "data": {
      "image/png": "[encoded data removed]",
      "text/plain": [
       "<Figure size 1368x720 with 1 Axes>"
      ]
     },
     "metadata": {
      "needs_background": "light"
     },
     "output_type": "display_data"
    }
   ],
   "source": [
    "sns.factorplot(x=\"Mean Ranking\", y=\"Feature\", data = meanplot, kind=\"bar\", size=10, aspect=1.9, palette='coolwarm')"
   ]
  },
  {
   "cell_type": "code",
   "execution_count": 136,
   "metadata": {},
   "outputs": [],
   "source": [
    "X_train, X_temp, Y_train, Y_temp = train_test_split(train, y_pred, test_size = 0.4, random_state = 42)"
   ]
  },
  {
   "cell_type": "code",
   "execution_count": 137,
   "metadata": {},
   "outputs": [],
   "source": [
    "X_valid, X_test, Y_valid, Y_test = train_test_split(X_temp, Y_temp, test_size = 0.4, random_state = 42)"
   ]
  },
  {
   "cell_type": "markdown",
   "metadata": {},
   "source": [
    "# Neural Networks"
   ]
  },
  {
   "cell_type": "code",
   "execution_count": 139,
   "metadata": {},
   "outputs": [],
   "source": [
    "model = Sequential()\n",
    "model.add(Dropout(0.13, input_shape=(X_train.shape[1],)))\n",
    "model.add(Dense(75))\n",
    "model.add(PReLU())\n",
    "\n",
    "model.add(Dropout(0.11))\n",
    "model.add(Dense(50))\n",
    "model.add(PReLU())\n",
    "\n",
    "model.add(Dropout(0.09))\n",
    "model.add(Dense(30))\n",
    "model.add(PReLU())\n",
    "\n",
    "model.add(Dropout(0.07))\n",
    "model.add(Dense(25))\n",
    "model.add(PReLU())\n",
    "\n",
    "model.add(Dense(2))\n",
    "model.add(Activation('sigmoid'))"
   ]
  },
  {
   "cell_type": "code",
   "execution_count": 140,
   "metadata": {},
   "outputs": [],
   "source": [
    "model.compile(loss='categorical_crossentropy', optimizer=keras.optimizers.SGD(lr=0.01, nesterov=True), metrics=['accuracy'])"
   ]
  },
  {
   "cell_type": "code",
   "execution_count": 141,
   "metadata": {},
   "outputs": [],
   "source": [
    "Y_train_nn = np_utils.to_categorical(Y_train)\n",
    "Y_valid_nn = np_utils.to_categorical(Y_valid)"
   ]
  },
  {
   "cell_type": "code",
   "execution_count": 142,
   "metadata": {},
   "outputs": [
    {
     "name": "stdout",
     "output_type": "stream",
     "text": [
      "Train on 18136 samples, validate on 7254 samples\n",
      "Epoch 1/70\n",
      " - 2s - loss: 0.6896 - acc: 0.5253 - val_loss: 0.6879 - val_acc: 0.5404\n",
      "Epoch 2/70\n",
      " - 1s - loss: 0.6876 - acc: 0.5384 - val_loss: 0.6846 - val_acc: 0.5585\n",
      "Epoch 3/70\n",
      " - 1s - loss: 0.6852 - acc: 0.5470 - val_loss: 0.6805 - val_acc: 0.5715\n",
      "Epoch 4/70\n",
      " - 1s - loss: 0.6811 - acc: 0.5608 - val_loss: 0.6753 - val_acc: 0.5958\n",
      "Epoch 5/70\n",
      " - 1s - loss: 0.6762 - acc: 0.5725 - val_loss: 0.6682 - val_acc: 0.6092\n",
      "Epoch 6/70\n",
      " - 1s - loss: 0.6689 - acc: 0.5937 - val_loss: 0.6586 - val_acc: 0.6283\n",
      "Epoch 7/70\n",
      " - 1s - loss: 0.6606 - acc: 0.6067 - val_loss: 0.6462 - val_acc: 0.6580\n",
      "Epoch 8/70\n",
      " - 1s - loss: 0.6480 - acc: 0.6292 - val_loss: 0.6297 - val_acc: 0.6738\n",
      "Epoch 9/70\n",
      " - 1s - loss: 0.6307 - acc: 0.6483 - val_loss: 0.6086 - val_acc: 0.6937\n",
      "Epoch 10/70\n",
      " - 1s - loss: 0.6120 - acc: 0.6742 - val_loss: 0.5854 - val_acc: 0.7084\n",
      "Epoch 11/70\n",
      " - 1s - loss: 0.5934 - acc: 0.6912 - val_loss: 0.5620 - val_acc: 0.7341\n",
      "Epoch 12/70\n",
      " - 1s - loss: 0.5704 - acc: 0.7217 - val_loss: 0.5429 - val_acc: 0.7459\n",
      "Epoch 13/70\n",
      " - 1s - loss: 0.5542 - acc: 0.7368 - val_loss: 0.5213 - val_acc: 0.7717\n",
      "Epoch 14/70\n",
      " - 1s - loss: 0.5340 - acc: 0.7579 - val_loss: 0.5021 - val_acc: 0.7909\n",
      "Epoch 15/70\n",
      " - 1s - loss: 0.5213 - acc: 0.7692 - val_loss: 0.4853 - val_acc: 0.7928\n",
      "Epoch 16/70\n",
      " - 1s - loss: 0.4978 - acc: 0.7909 - val_loss: 0.4575 - val_acc: 0.8205\n",
      "Epoch 17/70\n",
      " - 1s - loss: 0.4819 - acc: 0.8012 - val_loss: 0.4326 - val_acc: 0.8353\n",
      "Epoch 18/70\n",
      " - 1s - loss: 0.4584 - acc: 0.8156 - val_loss: 0.4034 - val_acc: 0.8503\n",
      "Epoch 19/70\n",
      " - 1s - loss: 0.4344 - acc: 0.8319 - val_loss: 0.3752 - val_acc: 0.8641\n",
      "Epoch 20/70\n",
      " - 1s - loss: 0.4134 - acc: 0.8423 - val_loss: 0.3447 - val_acc: 0.8823\n",
      "Epoch 21/70\n",
      " - 1s - loss: 0.3933 - acc: 0.8537 - val_loss: 0.3175 - val_acc: 0.8904\n",
      "Epoch 22/70\n",
      " - 1s - loss: 0.3636 - acc: 0.8701 - val_loss: 0.2980 - val_acc: 0.8948\n",
      "Epoch 23/70\n",
      " - 1s - loss: 0.3462 - acc: 0.8807 - val_loss: 0.2783 - val_acc: 0.9039\n",
      "Epoch 24/70\n",
      " - 1s - loss: 0.3320 - acc: 0.8860 - val_loss: 0.2552 - val_acc: 0.9162\n",
      "Epoch 25/70\n",
      " - 1s - loss: 0.3134 - acc: 0.8990 - val_loss: 0.2372 - val_acc: 0.9222\n",
      "Epoch 26/70\n",
      " - 1s - loss: 0.2949 - acc: 0.9051 - val_loss: 0.2235 - val_acc: 0.9269\n",
      "Epoch 27/70\n",
      " - 1s - loss: 0.2828 - acc: 0.9086 - val_loss: 0.2084 - val_acc: 0.9341\n",
      "Epoch 28/70\n",
      " - 1s - loss: 0.2652 - acc: 0.9177 - val_loss: 0.1981 - val_acc: 0.9378\n",
      "Epoch 29/70\n",
      " - 1s - loss: 0.2572 - acc: 0.9204 - val_loss: 0.1894 - val_acc: 0.9422\n",
      "Epoch 30/70\n",
      " - 1s - loss: 0.2445 - acc: 0.9264 - val_loss: 0.1812 - val_acc: 0.9450\n",
      "Epoch 31/70\n",
      " - 1s - loss: 0.2397 - acc: 0.9274 - val_loss: 0.1739 - val_acc: 0.9500\n",
      "Epoch 32/70\n",
      " - 1s - loss: 0.2312 - acc: 0.9330 - val_loss: 0.1688 - val_acc: 0.9502\n",
      "Epoch 33/70\n",
      " - 1s - loss: 0.2212 - acc: 0.9354 - val_loss: 0.1625 - val_acc: 0.9523\n",
      "Epoch 34/70\n",
      " - 1s - loss: 0.2152 - acc: 0.9376 - val_loss: 0.1624 - val_acc: 0.9540\n",
      "Epoch 35/70\n",
      " - 1s - loss: 0.2148 - acc: 0.9380 - val_loss: 0.1570 - val_acc: 0.9540\n",
      "Epoch 36/70\n",
      " - 1s - loss: 0.2131 - acc: 0.9380 - val_loss: 0.1564 - val_acc: 0.9546\n",
      "Epoch 37/70\n",
      " - 1s - loss: 0.2065 - acc: 0.9407 - val_loss: 0.1530 - val_acc: 0.9553\n",
      "Epoch 38/70\n",
      " - 1s - loss: 0.2046 - acc: 0.9427 - val_loss: 0.1524 - val_acc: 0.9557\n",
      "Epoch 39/70\n",
      " - 1s - loss: 0.1982 - acc: 0.9443 - val_loss: 0.1521 - val_acc: 0.9557\n",
      "Epoch 40/70\n",
      " - 1s - loss: 0.1941 - acc: 0.9441 - val_loss: 0.1509 - val_acc: 0.9557\n",
      "Epoch 41/70\n",
      " - 1s - loss: 0.1953 - acc: 0.9437 - val_loss: 0.1495 - val_acc: 0.9566\n",
      "Epoch 42/70\n",
      " - 1s - loss: 0.1933 - acc: 0.9456 - val_loss: 0.1490 - val_acc: 0.9564\n",
      "Epoch 43/70\n",
      " - 1s - loss: 0.1922 - acc: 0.9456 - val_loss: 0.1481 - val_acc: 0.9567\n",
      "Epoch 44/70\n",
      " - 1s - loss: 0.1902 - acc: 0.9455 - val_loss: 0.1475 - val_acc: 0.9571\n",
      "Epoch 45/70\n",
      " - 1s - loss: 0.1875 - acc: 0.9470 - val_loss: 0.1538 - val_acc: 0.9573\n",
      "Epoch 46/70\n",
      " - 1s - loss: 0.1888 - acc: 0.9463 - val_loss: 0.1464 - val_acc: 0.9573\n",
      "Epoch 47/70\n",
      " - 1s - loss: 0.1827 - acc: 0.9487 - val_loss: 0.1477 - val_acc: 0.9573\n",
      "Epoch 48/70\n",
      " - 1s - loss: 0.1846 - acc: 0.9484 - val_loss: 0.1464 - val_acc: 0.9573\n",
      "Epoch 49/70\n",
      " - 1s - loss: 0.1826 - acc: 0.9487 - val_loss: 0.1459 - val_acc: 0.9574\n",
      "Epoch 50/70\n",
      " - 1s - loss: 0.1793 - acc: 0.9500 - val_loss: 0.1471 - val_acc: 0.9575\n",
      "Epoch 51/70\n",
      " - 1s - loss: 0.1773 - acc: 0.9499 - val_loss: 0.1452 - val_acc: 0.9573\n",
      "Epoch 52/70\n",
      " - 1s - loss: 0.1796 - acc: 0.9497 - val_loss: 0.1473 - val_acc: 0.9574\n",
      "Epoch 53/70\n",
      " - 1s - loss: 0.1793 - acc: 0.9498 - val_loss: 0.1453 - val_acc: 0.9573\n",
      "Epoch 54/70\n",
      " - 1s - loss: 0.1814 - acc: 0.9494 - val_loss: 0.1485 - val_acc: 0.9574\n",
      "Epoch 55/70\n",
      " - 1s - loss: 0.1799 - acc: 0.9496 - val_loss: 0.1463 - val_acc: 0.9575\n",
      "Epoch 56/70\n",
      " - 1s - loss: 0.1741 - acc: 0.9508 - val_loss: 0.1455 - val_acc: 0.9575\n",
      "Epoch 57/70\n",
      " - 1s - loss: 0.1844 - acc: 0.9490 - val_loss: 0.1458 - val_acc: 0.9574\n",
      "Epoch 58/70\n",
      " - 1s - loss: 0.1792 - acc: 0.9502 - val_loss: 0.1647 - val_acc: 0.9574\n",
      "Epoch 59/70\n",
      " - 1s - loss: 0.1787 - acc: 0.9495 - val_loss: 0.1451 - val_acc: 0.9574\n",
      "Epoch 60/70\n",
      " - 1s - loss: 0.1754 - acc: 0.9512 - val_loss: 0.1446 - val_acc: 0.9574\n",
      "Epoch 61/70\n",
      " - 1s - loss: 0.1804 - acc: 0.9499 - val_loss: 0.1485 - val_acc: 0.9575\n",
      "Epoch 62/70\n",
      " - 1s - loss: 0.1772 - acc: 0.9503 - val_loss: 0.1475 - val_acc: 0.9574\n",
      "Epoch 63/70\n",
      " - 1s - loss: 0.1743 - acc: 0.9510 - val_loss: 0.1638 - val_acc: 0.9574\n",
      "Epoch 64/70\n",
      " - 1s - loss: 0.1721 - acc: 0.9520 - val_loss: 0.1599 - val_acc: 0.9574\n",
      "Epoch 65/70\n",
      " - 1s - loss: 0.1717 - acc: 0.9524 - val_loss: 0.1554 - val_acc: 0.9574\n",
      "Epoch 66/70\n",
      " - 1s - loss: 0.1719 - acc: 0.9516 - val_loss: 0.1447 - val_acc: 0.9574\n",
      "Epoch 67/70\n",
      " - 1s - loss: 0.1717 - acc: 0.9518 - val_loss: 0.1442 - val_acc: 0.9574\n",
      "Epoch 68/70\n",
      " - 1s - loss: 0.1719 - acc: 0.9508 - val_loss: 0.1463 - val_acc: 0.9574\n",
      "Epoch 69/70\n",
      " - 1s - loss: 0.1699 - acc: 0.9519 - val_loss: 0.1445 - val_acc: 0.9575\n",
      "Epoch 70/70\n",
      " - 1s - loss: 0.1714 - acc: 0.9515 - val_loss: 0.1510 - val_acc: 0.9575\n"
     ]
    },
    {
     "data": {
      "text/plain": [
       "<keras.callbacks.History at 0x7fc06c99a810>"
      ]
     },
     "execution_count": 142,
     "metadata": {},
     "output_type": "execute_result"
    }
   ],
   "source": [
    "model.fit(X_train, Y_train_nn, batch_size=64, epochs=70, verbose=2, shuffle=True, validation_data = (X_valid, Y_valid_nn))"
   ]
  },
  {
   "cell_type": "markdown",
   "metadata": {},
   "source": [
    "# Gradient Boosting"
   ]
  },
  {
   "cell_type": "code",
   "execution_count": 143,
   "metadata": {},
   "outputs": [],
   "source": [
    "Y_train = np.array(Y_train)\n",
    "Y_valid = np.array(Y_valid)\n",
    "xgb = XGBRegressor()"
   ]
  },
  {
   "cell_type": "code",
   "execution_count": 144,
   "metadata": {},
   "outputs": [],
   "source": [
    "params={\n",
    "    'objective': 'binary:logistic',\n",
    "    'learning_rate': 0.1,\n",
    "    'max_depth':5,\n",
    "    'gamma': 0.3,\n",
    "    'min_child_weight':1,\n",
    "    'subsample': 0.8,\n",
    "    'colsample_bytree': 0.8,\n",
    "    'n_estimators': 1000,\n",
    "}"
   ]
  },
  {
   "cell_type": "code",
   "execution_count": 145,
   "metadata": {},
   "outputs": [],
   "source": [
    "# grs = GridSearchCV(xgb, param_grid=params, cv=2, n_jobs=4, verbose=2)\n",
    "# grs.fit(X_train, Y_train, eval_set=[(X_valid, Y_valid)], verbose=False)\n",
    "\n",
    "# print(\"Best parameters \" + str(grs.best_params_))\n",
    "# gpd = pd.DataFrame(grs.cv_results_)\n",
    "# print(\"Estimated accuracy of this model for unseen data: {0:1.4f}\".format(gpd['mean_test_score'][grs.best_index_]))"
   ]
  },
  {
   "cell_type": "code",
   "execution_count": 146,
   "metadata": {},
   "outputs": [],
   "source": [
    "my_model = XGBRegressor(\n",
    "    objective = 'binary:logistic',\n",
    "    learning_rate = 0.1,\n",
    "    max_depth = 5,\n",
    "    gamma = 0,\n",
    "    min_child_weight = 1,\n",
    "    subsample = 0.8,\n",
    "    colsample_bytree = 0.8,\n",
    "    n_estimators = 1000,\n",
    "    silent = 1\n",
    ")"
   ]
  },
  {
   "cell_type": "code",
   "execution_count": 147,
   "metadata": {},
   "outputs": [
    {
     "data": {
      "text/plain": [
       "XGBRegressor(base_score=0.5, booster='gbtree', colsample_bylevel=1,\n",
       "       colsample_bytree=0.8, gamma=0, learning_rate=0.1, max_delta_step=0,\n",
       "       max_depth=5, min_child_weight=1, missing=None, n_estimators=1000,\n",
       "       n_jobs=1, nthread=None, objective='binary:logistic', random_state=0,\n",
       "       reg_alpha=0, reg_lambda=1, scale_pos_weight=1, seed=None, silent=1,\n",
       "       subsample=0.8)"
      ]
     },
     "execution_count": 147,
     "metadata": {},
     "output_type": "execute_result"
    }
   ],
   "source": [
    "my_model.fit(X_train, Y_train, eval_set=[(X_valid, Y_valid)], verbose=False)"
   ]
  },
  {
   "cell_type": "code",
   "execution_count": 148,
   "metadata": {},
   "outputs": [],
   "source": [
    "a = my_model.predict(X_valid)"
   ]
  },
  {
   "cell_type": "code",
   "execution_count": 149,
   "metadata": {},
   "outputs": [],
   "source": [
    "Y_valid = np.array(Y_valid)"
   ]
  },
  {
   "cell_type": "code",
   "execution_count": 150,
   "metadata": {},
   "outputs": [
    {
     "name": "stdout",
     "output_type": "stream",
     "text": [
      "Accuracy for Gradient Boosting: 95.60\n"
     ]
    }
   ],
   "source": [
    "print(\"Accuracy for Gradient Boosting: %.2f\" % (accuracy_score(Y_valid, a.round()) * 100))"
   ]
  },
  {
   "cell_type": "markdown",
   "metadata": {},
   "source": [
    "# Random Forest"
   ]
  },
  {
   "cell_type": "code",
   "execution_count": 151,
   "metadata": {},
   "outputs": [
    {
     "data": {
      "text/plain": [
       "RandomForestClassifier(bootstrap=True, class_weight=None, criterion='gini',\n",
       "            max_depth=11, max_features=15, max_leaf_nodes=None,\n",
       "            min_impurity_decrease=0.0, min_impurity_split=None,\n",
       "            min_samples_leaf=1, min_samples_split=2,\n",
       "            min_weight_fraction_leaf=0.0, n_estimators=100, n_jobs=None,\n",
       "            oob_score=False, random_state=1, verbose=0, warm_start=False)"
      ]
     },
     "execution_count": 151,
     "metadata": {},
     "output_type": "execute_result"
    }
   ],
   "source": [
    "rf = RandomForestClassifier(n_estimators=100, max_features=15, max_depth=11, random_state=1)\n",
    "rf.fit(X_train, Y_train)"
   ]
  },
  {
   "cell_type": "code",
   "execution_count": 152,
   "metadata": {},
   "outputs": [
    {
     "name": "stdout",
     "output_type": "stream",
     "text": [
      "Accuracy for Random Forest: 95.74\n"
     ]
    }
   ],
   "source": [
    "r = rf.predict(X_valid)\n",
    "Y_valid = np.array(Y_valid)\n",
    "print(\"Accuracy for Random Forest: %.2f\" % (accuracy_score(Y_valid, r.round()) * 100))"
   ]
  },
  {
   "cell_type": "code",
   "execution_count": 153,
   "metadata": {},
   "outputs": [
    {
     "name": "stdout",
     "output_type": "stream",
     "text": [
      "Training Accuracy for Random Forest: 96.33\n"
     ]
    }
   ],
   "source": [
    "r_train = rf.predict(X_train)\n",
    "Y_train = np.array(Y_train)\n",
    "print(\"Training Accuracy for Random Forest: %.2f\" % (accuracy_score(Y_train, r_train.round()) * 100))"
   ]
  },
  {
   "cell_type": "markdown",
   "metadata": {},
   "source": [
    "# Combining Models"
   ]
  },
  {
   "cell_type": "code",
   "execution_count": 154,
   "metadata": {},
   "outputs": [],
   "source": [
    "Y_test = np.array(Y_test)"
   ]
  },
  {
   "cell_type": "code",
   "execution_count": 156,
   "metadata": {},
   "outputs": [],
   "source": [
    "nn_test = model.predict(X_test)\n",
    "gb_test = my_model.predict(X_test)\n",
    "r_test = rf.predict(X_test)"
   ]
  },
  {
   "cell_type": "code",
   "execution_count": 161,
   "metadata": {},
   "outputs": [],
   "source": [
    "nn_test = np.array([i[1] for i in nn_test])"
   ]
  },
  {
   "cell_type": "code",
   "execution_count": 162,
   "metadata": {},
   "outputs": [
    {
     "data": {
      "text/plain": [
       "(array([1.        , 0.92765957]),\n",
       " array([0.92332923, 1.        ]),\n",
       " array([0.96013643, 0.96247241]),\n",
       " array([2439, 2398]))"
      ]
     },
     "execution_count": 162,
     "metadata": {},
     "output_type": "execute_result"
    }
   ],
   "source": [
    "precision_recall_fscore_support(Y_test, (nn_test*0.4 + gb_test*0.3 + r_test*0.3).round())"
   ]
  },
  {
   "cell_type": "markdown",
   "metadata": {},
   "source": [
    "# ROC Curve"
   ]
  },
  {
   "cell_type": "code",
   "execution_count": 170,
   "metadata": {},
   "outputs": [],
   "source": [
    "y_prob = nn_test*0.4 + gb_test*0.3 + r_test*0.3"
   ]
  },
  {
   "cell_type": "code",
   "execution_count": 171,
   "metadata": {},
   "outputs": [],
   "source": [
    "false_positive_rate, true_positive_rate, thresholds = roc_curve(Y_test, y_prob)\n",
    "roc_auc = auc(false_positive_rate, true_positive_rate)"
   ]
  },
  {
   "cell_type": "code",
   "execution_count": 172,
   "metadata": {},
   "outputs": [
    {
     "data": {
      "text/plain": [
       "Text(0.5,0,'False Positive Rate')"
      ]
     },
     "execution_count": 172,
     "metadata": {},
     "output_type": "execute_result"
    },
    {
     "data": {
      "image/png": "[encoded data removed]",
      "text/plain": [
       "<Figure size 720x720 with 1 Axes>"
      ]
     },
     "metadata": {
      "needs_background": "light"
     },
     "output_type": "display_data"
    }
   ],
   "source": [
    "plt.figure(figsize=(10,10))\n",
    "plt.title('Receiver Operating Characteristic')\n",
    "plt.plot(false_positive_rate,true_positive_rate, color='red',label = 'AUC = %0.2f' % roc_auc)\n",
    "plt.legend(loc = 'lower right')\n",
    "plt.plot([0, 1], [0, 1],linestyle='--')\n",
    "plt.axis('tight')\n",
    "plt.ylabel('True Positive Rate')\n",
    "plt.xlabel('False Positive Rate')"
   ]
  }
 ],
 "metadata": {
  "kernelspec": {
   "display_name": "Python 2",
   "language": "python",
   "name": "python2"
  },
  "language_info": {
   "codemirror_mode": {
    "name": "ipython",
    "version": 2
   },
   "file_extension": ".py",
   "mimetype": "text/x-python",
   "name": "python",
   "nbconvert_exporter": "python",
   "pygments_lexer": "ipython2",
   "version": "2.7.12"
  }
 },
 "nbformat": 4,
 "nbformat_minor": 2
}
