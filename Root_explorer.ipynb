{
 "cells": [
  {
   "cell_type": "code",
   "execution_count": 2,
   "metadata": {},
   "outputs": [],
   "source": [
    "from ROOT import *\n",
    "from root_numpy import tree2array\n",
    "from ROOT import TFile\n",
    "import pandas as pd\n",
    "import numpy as np\n",
    "import deepdish.io as io\n",
    "from sklearn.preprocessing import StandardScaler, MinMaxScaler\n",
    "from sklearn.model_selection import GridSearchCV, train_test_split\n",
    "import keras\n",
    "from keras.models import Sequential, load_model\n",
    "from sklearn.externals import joblib\n",
    "from keras.layers.core import Dense, Activation, Dropout\n",
    "from keras.layers.advanced_activations import PReLU\n",
    "from keras.utils import np_utils\n",
    "from sklearn.metrics import accuracy_score, roc_auc_score, precision_recall_fscore_support, roc_curve, auc\n",
    "from sklearn.ensemble import RandomForestClassifier\n",
    "from xgboost import XGBRegressor\n",
    "from sklearn.feature_selection import RFE, f_regression\n",
    "from sklearn.linear_model import LinearRegression, Ridge, Lasso, RandomizedLasso\n",
    "import os\n",
    "import math\n",
    "import seaborn as sns\n",
    "import matplotlib.pyplot as plt\n",
    "from scipy.stats import ks_2samp"
   ]
  },
  {
   "cell_type": "code",
   "execution_count": 3,
   "metadata": {},
   "outputs": [],
   "source": [
    "data = TFile.Open(\"/home/minerva1993/public/v808/nosplit/ttHbb_PowhegPythia.root\")\n",
    "data2 = TFile.Open(\"/home/minerva1993/public/v808/nosplit/TTLJ_PowhegPythia_ttbb.root\")\n",
    "tree = data.Get(\"ttbbLepJets/tree\")\n",
    "tree2 = data2.Get(\"ttbbLepJets/tree\")"
   ]
  },
  {
   "cell_type": "code",
   "execution_count": 4,
   "metadata": {},
   "outputs": [],
   "source": [
    "def tree_to_df(tree, branch_names=[], index_name='', drop_roofit_labels=False):\n",
    "    if tree is None:\n",
    "        return None\n",
    "\n",
    "    branch_list = tree.GetListOfBranches()\n",
    "    all_branch_names = [branch_list.At(i).GetName() for i in range(branch_list.GetEntries())]\n",
    "    if len(branch_names) == 0:\n",
    "        branch_names = all_branch_names\n",
    "    for bn in branch_names[:]:\n",
    "        if bn not in all_branch_names:\n",
    "            branch_names.remove(bn)\n",
    "        if drop_roofit_labels:\n",
    "            if bn.endswith('_lbl'):\n",
    "                branch_names.remove(bn)\n",
    "\n",
    "    arrs = tree2array(tree, branch_names, start = 0, stop = 40000)\n",
    "    df = pd.DataFrame(arrs)\n",
    "\n",
    "    if len(index_name) == 0:\n",
    "        for col in df.columns:\n",
    "            if col.startswith('__index__'):\n",
    "                index_name = col\n",
    "                break\n",
    "    if len(index_name):\n",
    "        try:\n",
    "            df[index_name] = df[index_name].astype(np.int32)\n",
    "            df.set_index(index_name, inplace=True)\n",
    "        except BaseException:\n",
    "            pass\n",
    "\n",
    "    if drop_roofit_labels:\n",
    "        df.columns = [col.replace('_idx', '') for col in df.columns]\n",
    "\n",
    "    n_tree = tree.GetEntries()\n",
    "    n_df = len(df.index)\n",
    "\n",
    "    return df "
   ]
  },
  {
   "cell_type": "code",
   "execution_count": 5,
   "metadata": {},
   "outputs": [],
   "source": [
    "dftree = tree_to_df(tree)\n",
    "dftree_bg = tree_to_df(tree2)"
   ]
  },
  {
   "cell_type": "code",
   "execution_count": 6,
   "metadata": {},
   "outputs": [],
   "source": [
    "# results = []\n",
    "# for i in range(len(dftree['addbjet1_pt'])):\n",
    "#     k = np.sqrt((dftree['addbjet1_e'][i] + dftree['addbjet2_e'][i])**2 - (dftree['addbjet1_pt'][i] + dftree['addbjet2_pt'][i])**2 - (dftree['addbjet1_eta'][i] + dftree['addbjet2_eta'][i])**2 - (dftree['addbjet1_phi'][i] + dftree['addbjet2_phi'][i])**2)\n",
    "#     results.append(k)"
   ]
  },
  {
   "cell_type": "code",
   "execution_count": 7,
   "metadata": {},
   "outputs": [],
   "source": [
    "#jet_CSV > 0.8\n",
    "#number of bjets\n",
    "#number of jets\n",
    "#sum of csv (jet_csv 3rd 4th)"
   ]
  },
  {
   "cell_type": "code",
   "execution_count": 44,
   "metadata": {},
   "outputs": [],
   "source": [
    "jet_selection = joblib.load('jet_selection.h5')\n",
    "jet_scaler = joblib.load('scaler.save')\n",
    "jet_rf = joblib.load('jet_randomforest.h5')"
   ]
  },
  {
   "cell_type": "code",
   "execution_count": 50,
   "metadata": {},
   "outputs": [],
   "source": [
    "def select_jet(df):\n",
    "    \n",
    "    columns = ['draddjets','lepton_pT','lepton_eta','lepton_E','MET','MET_phi','jet_number','event_weight','delta_phi','delta_eta','delta_R','invmass','lepton_delta_R_1','lepton_delta_eta_1','H']\n",
    "    \n",
    "    for t in range(1,3):\n",
    "        for i in ['jet_pT','jet_eta','jet_E','jet_CvsB']:\n",
    "            columns.append(i+'_'+str(t))\n",
    "    \n",
    "    overall = []\n",
    "    available_jets = []\n",
    "\n",
    "    #append all the invariant columns\n",
    "    invariants = []\n",
    "\n",
    "    for t in ['draddjets','lepton_pT','lepton_eta','lepton_E','MET','MET_phi','jet_number']:\n",
    "        invariants.append(df[t][0])\n",
    "\n",
    "    product = df['lepton_SF'][0][0] * df['jet_SF_CSV_30'][0][0] * df['PUWeight'][0][0] * df['genweight'][0]\n",
    "    invariants.append(product)\n",
    "\n",
    "    #Loop over possible combinations\n",
    "    for t in range(len(df['jet_pT'][0]) - 1):\n",
    "        for m in range(t+1, len(df['jet_pT'][0])):\n",
    "\n",
    "            #initialize variant data column\n",
    "            variants = []\n",
    "\n",
    "            #set the jet pair\n",
    "            jet_pair = (t, m)\n",
    "\n",
    "            #Delta_phi, delta_eta and delta_R\n",
    "            x = df['jet_phi'][0][jet_pair[0]] - df['jet_phi'][0][jet_pair[1]]\n",
    "            delta_phi = process_delta_phi(x)\n",
    "            delta_eta = df['jet_eta'][0][jet_pair[0]] - df['jet_eta'][0][jet_pair[1]]\n",
    "            delta_R = math.sqrt(delta_phi**2 + delta_eta**2)\n",
    "\n",
    "            #invmass\n",
    "            pt1, pt2 = math.fabs(df['jet_pT'][0][jet_pair[0]]), math.fabs(df['jet_pT'][0][jet_pair[1]])\n",
    "            pX1, pX2 = pt1 * math.cos(df['jet_phi'][0][jet_pair[0]]), pt2 * math.cos(df['jet_phi'][0][jet_pair[1]])\n",
    "            pY1, pY2 = pt1 * math.sin(df['jet_phi'][0][jet_pair[0]]), pt2 * math.sin(df['jet_phi'][0][jet_pair[1]])\n",
    "            pZ1, pZ2 = pt1 / math.tan(2.0 * math.atan(math.exp(-df['jet_eta'][0][jet_pair[0]]))), pt2 / math.tan(2.0 * math.atan(math.exp(-df['jet_eta'][0][jet_pair[1]])))\n",
    "            invmass = math.sqrt((df['jet_E'][0][jet_pair[0]] + df['jet_E'][0][jet_pair[1]])**2 - (pX1 + pX2)**2 - (pY1 + pY2)**2 - (pZ1 + pZ2)**2)\n",
    "\n",
    "            #H\n",
    "            H = df['jet_pT'][0][jet_pair[0]] + df['jet_pT'][0][jet_pair[1]] + df['lepton_pT'][0]\n",
    "\n",
    "            #delta_lepton_R\n",
    "            y_1 = df['jet_phi'][0][jet_pair[0]] - df['lepton_phi'][0]\n",
    "            delta_phi_lep_1 = process_delta_phi(y_1)\n",
    "            delta_eta_lep_1 = df['jet_eta'][0][jet_pair[0]] - df['lepton_eta'][0]\n",
    "            delta_R_lep_1 = math.sqrt(delta_phi_lep_1**2 + delta_eta_lep_1**2)\n",
    "            \n",
    "            y_2 = df['jet_phi'][0][jet_pair[1]] - df['lepton_phi'][0]\n",
    "            delta_phi_lep_2 = process_delta_phi(y_2)\n",
    "            delta_eta_lep_2 = df['jet_eta'][0][jet_pair[1]] - df['lepton_eta'][0]\n",
    "            delta_R_lep_2 = math.sqrt(delta_phi_lep_2**2 + delta_eta_lep_2**2)\n",
    "\n",
    "            variants += [delta_phi, delta_eta, delta_R, invmass, delta_R_lep_1, delta_eta_lep_1, delta_R_lep_2, delta_eta_lep_2, H]\n",
    "            \n",
    "            for n in [t, m]:\n",
    "                for k in ['jet_pT','jet_eta','jet_E','jet_CvsB']:\n",
    "                    variants += [df[k][0][n]]\n",
    "\n",
    "            overall.append(invariants + variants)\n",
    "            available_jets.append((t,m))\n",
    "    \n",
    "    overall = jet_scaler.transform(overall)\n",
    "    prediction = jet_selection.predict(overall)\n",
    "    prediction_rf = jet_rf.predict(overall)\n",
    "    result = [prediction[k][1] * (1 + 0.2 * prediction_rf[k]) for k in range(len(prediction))]\n",
    "    \n",
    "    return available_jets[result.index(max(result))]"
   ]
  },
  {
   "cell_type": "code",
   "execution_count": 51,
   "metadata": {},
   "outputs": [],
   "source": [
    "def process_delta_phi(x):\n",
    "    if x > math.pi:\n",
    "        delta_phi = x - 2*math.pi\n",
    "    elif x < -math.pi:\n",
    "        delta_phi = x + 2*math.pi\n",
    "    else:\n",
    "        delta_phi = x\n",
    "    return delta_phi\n",
    "\n",
    "def process(df):\n",
    "    columns = ['draddjets','lepton_eta','MET_phi','delta_phi','delta_eta','delta_R','invmass','lepton_delta_R_1','lepton_delta_eta_1','lepton_delta_R_2','lepton_delta_eta_2','H']\n",
    "    \n",
    "    for t in range(1,5):\n",
    "        for i in ['jet_pT','jet_eta','jet_E','jet_CvsB']:\n",
    "            columns.append(i+'_'+str(t))\n",
    "    \n",
    "    end = []\n",
    "    \n",
    "    for i in range(len(df['lepton_SF'])):\n",
    "        if df['jet_number'][i] >= 6 and df['jet_CSV'][i][2] > 0.8:\n",
    "            \n",
    "            checked = 0\n",
    "            for m in range(df['jet_number'][i]):\n",
    "                if df['jet_pT'][i][m] > 20 and np.abs(df['jet_eta'][i][m]) < 2.4:\n",
    "                    checked += 1\n",
    "            if checked < 6:\n",
    "                continue\n",
    "\n",
    "            parts = []\n",
    "            for t in ['draddjets','lepton_eta','MET_phi']:\n",
    "                parts.append(df[t][i])\n",
    "            \n",
    "            jet_pair = select_jet(df[i:i+1].reset_index())\n",
    "            \n",
    "            x = df['jet_phi'][i][jet_pair[0]] - df['jet_phi'][i][jet_pair[1]]\n",
    "            delta_phi = process_delta_phi(x)\n",
    "            delta_eta = df['jet_eta'][i][jet_pair[0]] - df['jet_eta'][i][jet_pair[1]]\n",
    "            delta_R = math.sqrt(delta_phi**2 + delta_eta**2)\n",
    "            \n",
    "            pt1, pt2 = math.fabs(df['jet_pT'][i][jet_pair[0]]), math.fabs(df['jet_pT'][i][jet_pair[1]])\n",
    "            pX1, pX2 = pt1 * math.cos(df['jet_phi'][i][jet_pair[0]]), pt2 * math.cos(df['jet_phi'][i][jet_pair[1]])\n",
    "            pY1, pY2 = pt1 * math.sin(df['jet_phi'][i][jet_pair[0]]), pt2 * math.sin(df['jet_phi'][i][jet_pair[1]])\n",
    "            pZ1, pZ2 = pt1 / math.tan(2.0 * math.atan(math.exp(-df['jet_eta'][i][jet_pair[0]]))), pt2 / math.tan(2.0 * math.atan(math.exp(-df['jet_eta'][i][jet_pair[1]])))\n",
    "            invmass = math.sqrt((df['jet_E'][i][jet_pair[0]] + df['jet_E'][i][jet_pair[1]])**2 - (pX1 + pX2)**2 - (pY1 + pY2)**2 - (pZ1 + pZ2)**2)\n",
    "            \n",
    "            H = df['jet_pT'][i][jet_pair[0]] + df['jet_pT'][i][jet_pair[1]] + df['lepton_pT'][i]\n",
    "            \n",
    "            \n",
    "            y_1 = df['jet_phi'][i][jet_pair[0]] - df['lepton_phi'][i]\n",
    "            delta_phi_lep_1 = process_delta_phi(y_1)\n",
    "            delta_eta_lep_1 = df['jet_eta'][i][jet_pair[0]] - df['lepton_eta'][i]\n",
    "            delta_R_lep_1 = math.sqrt(delta_phi_lep_1**2 + delta_eta_lep_1**2)\n",
    "            \n",
    "            y_2 = df['jet_phi'][i][jet_pair[1]] - df['lepton_phi'][i]\n",
    "            delta_phi_lep_2 = process_delta_phi(y_2)\n",
    "            delta_eta_lep_2 = df['jet_eta'][i][jet_pair[1]] - df['lepton_eta'][i]\n",
    "            delta_R_lep_2 = math.sqrt(delta_phi_lep_2**2 + delta_eta_lep_2**2)\n",
    "            \n",
    "            parts += [delta_phi, delta_eta, delta_R, invmass, delta_R_lep_1, delta_eta_lep_1, delta_R_lep_2, delta_eta_lep_2, H]\n",
    "            \n",
    "            for t in range(len(df['jet_pT'][i])):\n",
    "                passed = True\n",
    "                partial = []\n",
    "                for k in ['jet_pT','jet_eta','jet_E','jet_CvsB']:\n",
    "                    if k == 'jet_pT':\n",
    "                        if df[k][i][t] < 30:\n",
    "                            passed = False\n",
    "                            break\n",
    "                    elif k == 'jet_eta':\n",
    "                        if df[k][i][t] > 2.4 or df[k][i][t] < -2.4:\n",
    "                            passed = False\n",
    "                            break\n",
    "                    partial.append(df[k][i][t])\n",
    "                \n",
    "                if passed:\n",
    "                    parts += partial\n",
    "                    \n",
    "                if len(parts) == len(columns):\n",
    "                    break\n",
    "                    \n",
    "            end.append(parts)\n",
    "            \n",
    "    print \"Column Length: \", len(end[0])\n",
    "    print \"Fixed Length: \", len(columns)\n",
    "    train_tree = pd.DataFrame(end, columns=columns)\n",
    "    return train_tree"
   ]
  },
  {
   "cell_type": "code",
   "execution_count": 11,
   "metadata": {},
   "outputs": [],
   "source": [
    "# overall = [ [[],[],[],[],[]] for i in range(6) ]\n",
    "# for i in range(len(dftree['lepton_SF'])):\n",
    "#     if dftree['jet_number'][i] >= 6:\n",
    "#         count = 0\n",
    "#         for t in [(0,1),(0,2),(0,3),(1,2),(1,3),(2,3)]:\n",
    "#             x = dftree['jet_phi'][i][t[0]] - dftree['jet_phi'][i][t[1]]\n",
    "#             delta_phi = process_delta_phi(x)\n",
    "#             delta_eta = dftree['jet_eta'][i][t[0]] - dftree['jet_eta'][i][t[1]]\n",
    "#             delta_R = math.sqrt(delta_phi**2 + delta_eta**2)\n",
    "            \n",
    "#             H = dftree['jet_pT'][i][t[0]] + dftree['jet_pT'][i][t[1]] + dftree['lepton_pT'][i]\n",
    "            \n",
    "#             pt1, pt2 = math.fabs(dftree['jet_pT'][i][t[0]]), math.fabs(dftree['jet_pT'][i][t[1]])\n",
    "#             pX1, pX2 = pt1 * math.cos(dftree['jet_phi'][i][t[0]]), pt2 * math.cos(dftree['jet_phi'][i][t[1]])\n",
    "#             pY1, pY2 = pt1 * math.sin(dftree['jet_phi'][i][t[0]]), pt2 * math.sin(dftree['jet_phi'][i][t[1]])\n",
    "#             pZ1, pZ2 = pt1 / math.tan(2.0 * math.atan(math.exp(-dftree['jet_eta'][i][t[0]]))), pt2 / math.tan(2.0 * math.atan(math.exp(-dftree['jet_eta'][i][t[1]])))\n",
    "#             invmass = math.sqrt((dftree['jet_E'][i][t[0]] + dftree['jet_E'][i][t[1]])**2 - (pX1 + pX2)**2 - (pY1 + pY2)**2 - (pZ1 + pZ2)**2)\n",
    "#             overall[count][0].append(delta_R)\n",
    "#             overall[count][1].append(invmass)\n",
    "#             overall[count][2].append(H)\n",
    "#             count += 1\n",
    "            \n",
    "# overall_2 = [ [[],[],[],[],[]] for i in range(6) ]\n",
    "# for i in range(len(dftree_bg['lepton_SF'])):\n",
    "#     if dftree_bg['jet_number'][i] >= 6:\n",
    "#         count = 0\n",
    "#         for t in [(0,1),(0,2),(0,3),(1,2),(1,3),(2,3)]:\n",
    "#             x = dftree_bg['jet_phi'][i][t[0]] - dftree_bg['jet_phi'][i][t[1]]\n",
    "#             delta_phi = process_delta_phi(x)\n",
    "#             delta_eta = dftree_bg['jet_eta'][i][t[0]] - dftree_bg['jet_eta'][i][t[1]]\n",
    "#             delta_R = math.sqrt(delta_phi**2 + delta_eta**2)\n",
    "            \n",
    "#             H = dftree_bg['jet_pT'][i][t[0]] + dftree_bg['jet_pT'][i][t[1]] + dftree_bg['lepton_pT'][i]\n",
    "            \n",
    "#             pt1, pt2 = math.fabs(dftree_bg['jet_pT'][i][t[0]]), math.fabs(dftree_bg['jet_pT'][i][t[1]])\n",
    "#             pX1, pX2 = pt1 * math.cos(dftree_bg['jet_phi'][i][t[0]]), pt2 * math.cos(dftree_bg['jet_phi'][i][t[1]])\n",
    "#             pY1, pY2 = pt1 * math.sin(dftree_bg['jet_phi'][i][t[0]]), pt2 * math.sin(dftree_bg['jet_phi'][i][t[1]])\n",
    "#             pZ1, pZ2 = pt1 / math.tan(2.0 * math.atan(math.exp(-dftree_bg['jet_eta'][i][t[0]]))), pt2 / math.tan(2.0 * math.atan(math.exp(-dftree_bg['jet_eta'][i][t[1]])))\n",
    "#             invmass = math.sqrt((dftree_bg['jet_E'][i][t[0]] + dftree_bg['jet_E'][i][t[1]])**2 - (pX1 + pX2)**2 - (pY1 + pY2)**2 - (pZ1 + pZ2)**2)\n",
    "#             overall_2[count][0].append(delta_R)\n",
    "#             overall_2[count][1].append(invmass)\n",
    "#             overall_2[count][2].append(H)\n",
    "#             count += 1"
   ]
  },
  {
   "cell_type": "code",
   "execution_count": 12,
   "metadata": {},
   "outputs": [],
   "source": [
    "# lepton_check = [ [[],[]] for i in range(4) ]\n",
    "# for i in range(len(dftree['lepton_SF'])):\n",
    "#     if dftree['jet_number'][i] >= 6:\n",
    "#         count = 0\n",
    "#         for t in range(4):\n",
    "#             x = dftree['jet_phi'][i][t] - dftree['lepton_phi'][i]\n",
    "#             delta_phi = process_delta_phi(x)\n",
    "#             delta_eta = dftree['jet_eta'][i][t] - dftree['lepton_eta'][i]\n",
    "#             delta_R = math.sqrt(delta_phi**2 + delta_eta**2)\n",
    "            \n",
    "#             lepton_check[count][0].append(delta_eta)\n",
    "#             lepton_check[count][1].append(delta_R)\n",
    "#             count += 1\n",
    "            \n",
    "# lepton_check_2 = [ [[],[]] for i in range(4) ]\n",
    "# for i in range(len(dftree_bg['lepton_SF'])):\n",
    "#     if dftree_bg['jet_number'][i] >= 6:\n",
    "#         count = 0\n",
    "#         for t in range(4):\n",
    "#             x = dftree_bg['jet_phi'][i][t] - dftree_bg['lepton_phi'][i]\n",
    "#             delta_phi = process_delta_phi(x)\n",
    "#             delta_eta = dftree_bg['jet_eta'][i][t] - dftree_bg['lepton_eta'][i]\n",
    "#             delta_R = math.sqrt(delta_phi**2 + delta_eta**2)\n",
    "            \n",
    "#             lepton_check_2[count][0].append(delta_eta)\n",
    "#             lepton_check_2[count][1].append(delta_R)\n",
    "#             count += 1"
   ]
  },
  {
   "cell_type": "code",
   "execution_count": 13,
   "metadata": {},
   "outputs": [],
   "source": [
    "# pairs = [(0,1),(0,2),(0,3),(1,2),(1,3),(2,3)]\n",
    "# for i in range(len(overall)):\n",
    "#     print \"For jet pair: (\", pairs[i][0], \", \", pairs[i][1], \")\"\n",
    "#     print \"Significance of delta R: \", ks_2samp(np.array(overall[i][0]), overall_2[i][0])\n",
    "#     print \"Significance of invmass: \", ks_2samp(np.array(overall[i][1]), overall_2[i][1])\n",
    "#     print \"Significance of H: \", ks_2samp(np.array(overall[i][2]), overall_2[i][2])\n",
    "#     print"
   ]
  },
  {
   "cell_type": "code",
   "execution_count": 48,
   "metadata": {},
   "outputs": [],
   "source": [
    "# def calculate_delta_R(phi_1, phi_2, eta_1, eta_2):\n",
    "#     x = phi_1 - phi_2\n",
    "#     delta_phi = process_delta_phi(x)\n",
    "#     delta_eta = eta_1 - eta_2\n",
    "#     return math.sqrt(delta_phi**2 + delta_eta**2)\n",
    "\n",
    "# overall = [[],[],[]]\n",
    "\n",
    "# for i in range(len(dftree_bg['lepton_SF'])):\n",
    "#     if dftree_bg['jet_number'][i] >= 6 and dftree_bg['jet_CSV'][i][2] > 0.8:\n",
    "#         checked = 0\n",
    "#         for m in range(dftree_bg['jet_number'][i]):\n",
    "#             if dftree_bg['jet_pT'][i][m] > 20 and np.abs(dftree_bg['jet_eta'][i][m]) < 2.4:\n",
    "#                 checked += 1\n",
    "#         if checked < 6:\n",
    "#             continue\n",
    "\n",
    "#         sets = select_jet(dftree_bg[i:i+1].reset_index())\n",
    "#         for ind in range(len(sets)):\n",
    "#             t = sets[ind]\n",
    "#             phi_1, phi_2 = dftree_bg['jet_phi'][i][t[0]], dftree_bg['jet_phi'][i][t[1]]\n",
    "#             mt_phi_1, mt_phi_2 = dftree_bg['addbjet1_phi'][i], dftree_bg['addbjet2_phi'][i]\n",
    "#             eta_1, eta_2 = dftree_bg['jet_eta'][i][t[0]], dftree_bg['jet_eta'][i][t[1]]\n",
    "#             mt_eta_1, mt_eta_2 = dftree_bg['addbjet1_eta'][i], dftree_bg['addbjet2_eta'][i]\n",
    "\n",
    "#             dR_11 = calculate_delta_R(phi_1, mt_phi_1, eta_1, mt_eta_1)\n",
    "#             dR_12 = calculate_delta_R(phi_1, mt_phi_2, eta_1, mt_eta_2)\n",
    "#             dR_21 = calculate_delta_R(phi_2, mt_phi_1, eta_2, mt_eta_1)\n",
    "#             dR_22 = calculate_delta_R(phi_2, mt_phi_2, eta_2, mt_eta_2)\n",
    "            \n",
    "#             overall[ind].append((dR_11 < 0.4 or dR_12 < 0.4) and (dR_21 < 0.4 or dR_22 < 0.4))"
   ]
  },
  {
   "cell_type": "code",
   "execution_count": 49,
   "metadata": {},
   "outputs": [],
   "source": [
    "# nmatched = [0,0,0]\n",
    "# for t in range(len(overall)):\n",
    "#     for m in overall[t]:\n",
    "#         if m:\n",
    "#             nmatched[t] += 1\n",
    "# print(float(nmatched[0])/len(overall[0]))\n",
    "# print(float(nmatched[1])/len(overall[0]))\n",
    "# print(float(nmatched[2])/len(overall[0]))"
   ]
  },
  {
   "cell_type": "markdown",
   "metadata": {},
   "source": [
    "**For jet pair: ( 0 ,  1 )**\n",
    "\n",
    "Significance of delta R:  Ks_2sampResult(statistic=0.08103397285975489, pvalue=1.2249642392351563e-43)\n",
    "\n",
    "Significance of invmass:  Ks_2sampResult(statistic=0.05524326980455499, pvalue=1.6504267233257686e-20)\n",
    "\n",
    "Significance of H:  Ks_2sampResult(statistic=0.07622532547749045, pvalue=1.1602726862400011e-38)\n",
    "\n",
    "\n",
    "\n",
    "**For jet pair: ( 0 ,  2 )**\n",
    "\n",
    "Significance of delta R:  Ks_2sampResult(statistic=0.06663423758197251, pvalue=1.2062641960304567e-29)\n",
    "\n",
    "Significance of invmass:  Ks_2sampResult(statistic=0.04259520427871255, pvalue=2.2968452312866267e-12)\n",
    "\n",
    "Significance of H:  Ks_2sampResult(statistic=0.0725681952211632, pvalue=4.421347553251108e-35)\n",
    "\n",
    "\n",
    "\n",
    "**For jet pair: ( 0 ,  3 )**\n",
    "\n",
    "Significance of delta R:  Ks_2sampResult(statistic=0.056170047155724934, pvalue=3.4521741378774096e-21)\n",
    "\n",
    "Significance of invmass:  Ks_2sampResult(statistic=0.044964664295481405, pvalue=9.904078924985699e-14)\n",
    "\n",
    "Significance of H:  Ks_2sampResult(statistic=0.05584214821186395, pvalue=6.022781212829073e-21)\n",
    "\n",
    "\n",
    "\n",
    "**For jet pair: ( 1 ,  2 )**\n",
    "\n",
    "Significance of delta R:  Ks_2sampResult(statistic=0.0668410113110336, pvalue=7.93994635173142e-30)\n",
    "\n",
    "Significance of invmass:  Ks_2sampResult(statistic=0.04509129360958741, pvalue=8.332366688853126e-14)\n",
    "\n",
    "Significance of H:  Ks_2sampResult(statistic=0.061174696521391736, pvalue=4.713963846878593e-25)\n",
    "\n",
    "\n",
    "\n",
    "**For jet pair: ( 1 ,  3 )**\n",
    "\n",
    "Significance of delta R:  Ks_2sampResult(statistic=0.0627569608684374, pvalue=2.415117292271976e-26)\n",
    "\n",
    "Significance of invmass:  Ks_2sampResult(statistic=0.04648302942122795, pvalue=1.2079873966049307e-14)\n",
    "\n",
    "Significance of H:  Ks_2sampResult(statistic=0.05162754946639575, pvalue=5.761281681364858e-18)\n",
    "\n",
    "\n",
    "\n",
    "**For jet pair: ( 2 ,  3 )**\n",
    "\n",
    "Significance of delta R:  Ks_2sampResult(statistic=0.05020193957978991, pvalue=5.198155262529781e-17)\n",
    "\n",
    "Significance of invmass:  Ks_2sampResult(statistic=0.0418155707247424, pvalue=6.2260303105356695e-12)\n",
    "\n",
    "Significance of H:  Ks_2sampResult(statistic=0.039901611050304764, pvalue=6.65996434442765e-11)"
   ]
  },
  {
   "cell_type": "code",
   "execution_count": 16,
   "metadata": {},
   "outputs": [],
   "source": [
    "# jet_num = [0,1,2,3]\n",
    "# for i in range(len(lepton_check)):\n",
    "#     print \"For jet number: \", jet_num[i]\n",
    "#     print \"Significance of delta Eta: \", ks_2samp(np.array(lepton_check[i][0]), lepton_check_2[i][0])\n",
    "#     print \"Significance of delta R: \", ks_2samp(np.array(lepton_check[i][1]), lepton_check_2[i][1])\n",
    "#     print"
   ]
  },
  {
   "cell_type": "markdown",
   "metadata": {},
   "source": [
    "**For jet number:  0**\n",
    "\n",
    "Significance of delta Eta:  Ks_2sampResult(statistic=0.0609583902352987, pvalue=7.034594164870507e-25)\n",
    "\n",
    "Significance of delta R:  Ks_2sampResult(statistic=0.059162871596763256, pvalue=1.8475128528043565e-23)\n",
    "\n",
    "\n",
    "\n",
    "**For jet number:  1**\n",
    "\n",
    "Significance of delta Eta:  Ks_2sampResult(statistic=0.0573940020818369, pvalue=4.2012479020548343e-22)\n",
    "\n",
    "Significance of delta R:  Ks_2sampResult(statistic=0.06477689963237693, pvalue=4.8713846506968395e-28)\n",
    "\n",
    "\n",
    "\n",
    "**For jet number:  2**\n",
    "\n",
    "Significance of delta Eta:  Ks_2sampResult(statistic=0.049696946131288056, pvalue=1.1164511020135777e-16)\n",
    "\n",
    "Significance of delta R:  Ks_2sampResult(statistic=0.04640812200131672, pvalue=1.342311222007609e-14)\n",
    "\n",
    "\n",
    "\n",
    "**For jet number:  3**\n",
    "\n",
    "Significance of delta Eta:  Ks_2sampResult(statistic=0.03679566138605919, pvalue=2.4611491655569058e-09)\n",
    "\n",
    "Significance of delta R:  Ks_2sampResult(statistic=0.033826526027952886, pvalue=5.902645681386505e-08)"
   ]
  },
  {
   "cell_type": "code",
   "execution_count": 52,
   "metadata": {},
   "outputs": [
    {
     "name": "stdout",
     "output_type": "stream",
     "text": [
      "Column Length:  28\n",
      "Fixed Length:  28\n"
     ]
    }
   ],
   "source": [
    "train_tree = process(dftree)"
   ]
  },
  {
   "cell_type": "code",
   "execution_count": 53,
   "metadata": {},
   "outputs": [
    {
     "name": "stdout",
     "output_type": "stream",
     "text": [
      "Column Length:  28\n",
      "Fixed Length:  28\n"
     ]
    }
   ],
   "source": [
    "train_tree_2 = process(dftree_bg)"
   ]
  },
  {
   "cell_type": "code",
   "execution_count": 54,
   "metadata": {},
   "outputs": [],
   "source": [
    "train_tree['result'] = [1 for i in range(len(train_tree))]"
   ]
  },
  {
   "cell_type": "code",
   "execution_count": 55,
   "metadata": {},
   "outputs": [],
   "source": [
    "train_tree_2['result'] = np.zeros(len(train_tree_2))"
   ]
  },
  {
   "cell_type": "code",
   "execution_count": 56,
   "metadata": {
    "scrolled": false
   },
   "outputs": [],
   "source": [
    "full_train_res = train_tree.append(train_tree_2, ignore_index=True)"
   ]
  },
  {
   "cell_type": "code",
   "execution_count": 107,
   "metadata": {},
   "outputs": [],
   "source": [
    "# full_train_res.to_csv('../HYU_data/full_train_res.csv',sep = '\\t')"
   ]
  },
  {
   "cell_type": "code",
   "execution_count": 3,
   "metadata": {},
   "outputs": [],
   "source": [
    "#Directly read data\n",
    "\n",
    "#full_train_res = pd.read_csv('../HYU_data/full_train_res.csv', sep='\\t',index_col=0)"
   ]
  },
  {
   "cell_type": "code",
   "execution_count": 4,
   "metadata": {},
   "outputs": [
    {
     "data": {
      "text/plain": [
       "Index([u'draddjets', u'lepton_eta', u'MET_phi', u'delta_phi', u'delta_eta',\n",
       "       u'delta_R', u'invmass', u'lepton_delta_R_1', u'lepton_delta_eta_1',\n",
       "       u'lepton_delta_R_2', u'lepton_delta_eta_2', u'H', u'jet_pT_1',\n",
       "       u'jet_eta_1', u'jet_E_1', u'jet_CvsB_1', u'jet_pT_2', u'jet_eta_2',\n",
       "       u'jet_E_2', u'jet_CvsB_2', u'jet_pT_3', u'jet_eta_3', u'jet_E_3',\n",
       "       u'jet_CvsB_3', u'jet_pT_4', u'jet_eta_4', u'jet_E_4', u'jet_CvsB_4',\n",
       "       u'result'],\n",
       "      dtype='object')"
      ]
     },
     "execution_count": 4,
     "metadata": {},
     "output_type": "execute_result"
    }
   ],
   "source": [
    "full_train_res.columns"
   ]
  },
  {
   "cell_type": "code",
   "execution_count": 45,
   "metadata": {},
   "outputs": [],
   "source": [
    "y_pred = full_train_res['result']\n",
    "full_train = full_train_res.drop('result',1)"
   ]
  },
  {
   "cell_type": "code",
   "execution_count": 46,
   "metadata": {},
   "outputs": [],
   "source": [
    "def preprocess_data(X, scaler=None):\n",
    "    if not scaler:\n",
    "        scaler = StandardScaler()\n",
    "        scaler.fit(X)\n",
    "    X = scaler.transform(X)\n",
    "    return X, scaler"
   ]
  },
  {
   "cell_type": "code",
   "execution_count": 47,
   "metadata": {},
   "outputs": [],
   "source": [
    "train, scaler = preprocess_data(full_train)"
   ]
  },
  {
   "cell_type": "markdown",
   "metadata": {},
   "source": [
    "# Data Analysis and Cleaning"
   ]
  },
  {
   "cell_type": "code",
   "execution_count": 8,
   "metadata": {},
   "outputs": [],
   "source": [
    "def get_delta_R(df,column1, column2, column3, column4):\n",
    "    delta_R = [math.sqrt(df[column1][i] - df[column2][i])**2 + (df[column3][i] - df[column4][i])**2 for i in range(len(df[column1]))]\n",
    "    return delta_R"
   ]
  },
  {
   "cell_type": "code",
   "execution_count": 9,
   "metadata": {},
   "outputs": [
    {
     "data": {
      "image/png": "[encoded data removed]",
      "text/plain": [
       "<Figure size 591.875x540 with 12 Axes>"
      ]
     },
     "metadata": {
      "needs_background": "light"
     },
     "output_type": "display_data"
    }
   ],
   "source": [
    "g = sns.pairplot(full_train_res.sample(500), vars=[\"lepton_eta\",\"delta_phi\",\"delta_eta\"], hue=\"result\")\n",
    "g.set(xticklabels=[]);"
   ]
  },
  {
   "cell_type": "code",
   "execution_count": 10,
   "metadata": {},
   "outputs": [
    {
     "name": "stderr",
     "output_type": "stream",
     "text": [
      "/home/9304220184/python27/local/lib/python2.7/site-packages/scipy/stats/stats.py:1713: FutureWarning: Using a non-tuple sequence for multidimensional indexing is deprecated; use `arr[tuple(seq)]` instead of `arr[seq]`. In the future this will be interpreted as an array index, `arr[np.array(seq)]`, which will result either in an error or a different result.\n",
      "  return np.add.reduce(sorted[indexer] * weights, axis=axis) / sumval\n"
     ]
    },
    {
     "data": {
      "image/png": "[encoded data removed]",
      "text/plain": [
       "<Figure size 504x504 with 3 Axes>"
      ]
     },
     "metadata": {
      "needs_background": "light"
     },
     "output_type": "display_data"
    }
   ],
   "source": [
    "sns.jointplot(full_train_res.delta_eta, full_train_res.delta_phi, kind=\"scatter\", height=7)\n",
    "plt.show()"
   ]
  },
  {
   "cell_type": "code",
   "execution_count": 11,
   "metadata": {},
   "outputs": [
    {
     "ename": "NameError",
     "evalue": "name 'train_tree' is not defined",
     "output_type": "error",
     "traceback": [
      "\u001b[0;31m\u001b[0m",
      "\u001b[0;31mNameError\u001b[0mTraceback (most recent call last)",
      "\u001b[0;32m<ipython-input-11-a6aa5466b7d4>\u001b[0m in \u001b[0;36m<module>\u001b[0;34m()\u001b[0m\n\u001b[0;32m----> 1\u001b[0;31m \u001b[0msns\u001b[0m\u001b[0;34m.\u001b[0m\u001b[0mlmplot\u001b[0m\u001b[0;34m(\u001b[0m\u001b[0mx\u001b[0m\u001b[0;34m=\u001b[0m\u001b[0;34m'delta_phi'\u001b[0m\u001b[0;34m,\u001b[0m \u001b[0my\u001b[0m\u001b[0;34m=\u001b[0m\u001b[0;34m'delta_eta'\u001b[0m\u001b[0;34m,\u001b[0m \u001b[0mdata\u001b[0m\u001b[0;34m=\u001b[0m\u001b[0mtrain_tree\u001b[0m\u001b[0;34m,\u001b[0m \u001b[0mfit_reg\u001b[0m\u001b[0;34m=\u001b[0m\u001b[0mFalse\u001b[0m\u001b[0;34m,\u001b[0m \u001b[0mscatter_kws\u001b[0m\u001b[0;34m=\u001b[0m\u001b[0;34m{\u001b[0m\u001b[0;34m\"s\"\u001b[0m\u001b[0;34m:\u001b[0m \u001b[0;36m20\u001b[0m\u001b[0;34m}\u001b[0m\u001b[0;34m)\u001b[0m\u001b[0;34m\u001b[0m\u001b[0m\n\u001b[0m\u001b[1;32m      2\u001b[0m \u001b[0msns\u001b[0m\u001b[0;34m.\u001b[0m\u001b[0mlmplot\u001b[0m\u001b[0;34m(\u001b[0m\u001b[0mx\u001b[0m\u001b[0;34m=\u001b[0m\u001b[0;34m'delta_phi'\u001b[0m\u001b[0;34m,\u001b[0m \u001b[0my\u001b[0m\u001b[0;34m=\u001b[0m\u001b[0;34m'delta_eta'\u001b[0m\u001b[0;34m,\u001b[0m \u001b[0mdata\u001b[0m\u001b[0;34m=\u001b[0m\u001b[0mtrain_tree_2\u001b[0m\u001b[0;34m,\u001b[0m \u001b[0mfit_reg\u001b[0m\u001b[0;34m=\u001b[0m\u001b[0mFalse\u001b[0m\u001b[0;34m,\u001b[0m \u001b[0mscatter_kws\u001b[0m\u001b[0;34m=\u001b[0m\u001b[0;34m{\u001b[0m\u001b[0;34m\"s\"\u001b[0m\u001b[0;34m:\u001b[0m \u001b[0;36m20\u001b[0m\u001b[0;34m,\u001b[0m \u001b[0;34m'color'\u001b[0m\u001b[0;34m:\u001b[0m\u001b[0;34m'orange'\u001b[0m\u001b[0;34m}\u001b[0m\u001b[0;34m)\u001b[0m\u001b[0;34m\u001b[0m\u001b[0m\n",
      "\u001b[0;31mNameError\u001b[0m: name 'train_tree' is not defined"
     ]
    }
   ],
   "source": [
    "sns.lmplot(x='delta_phi', y='delta_eta', data=train_tree, fit_reg=False, scatter_kws={\"s\": 20})\n",
    "sns.lmplot(x='delta_phi', y='delta_eta', data=train_tree_2, fit_reg=False, scatter_kws={\"s\": 20, 'color':'orange'})"
   ]
  },
  {
   "cell_type": "code",
   "execution_count": null,
   "metadata": {},
   "outputs": [],
   "source": [
    "fig = plt.figure(figsize=(20,30))\n",
    "axes = fig.subplots(nrows=7, ncols=4)\n",
    "col = train_tree.columns\n",
    "c_num = 0\n",
    "\n",
    "for ax in axes:\n",
    "    for row in ax:\n",
    "        sns.kdeplot(train_tree[col[c_num]], ax=row, label=\"ttH\", clip=(-5,300))\n",
    "        sns.kdeplot(train_tree_2[col[c_num]], ax=row, label=\"ttbb\", clip=(-5,300))\n",
    "        row.set_title(col[c_num])\n",
    "        c_num += 1\n",
    "        if c_num > len(col) - 1:\n",
    "            break\n",
    "\n",
    "fig.savefig('full_figure.png')"
   ]
  },
  {
   "cell_type": "code",
   "execution_count": 12,
   "metadata": {},
   "outputs": [],
   "source": [
    "ranks = {}\n",
    "colnames = full_train.columns\n",
    "# Create our function which stores the feature rankings to the ranks dictionary\n",
    "def ranking(ranks, names, order=1):\n",
    "    minmax = MinMaxScaler()\n",
    "    ranks = minmax.fit_transform(order*np.array([ranks]).T).T[0]\n",
    "    ranks = map(lambda x: round(x,2), ranks)\n",
    "    return dict(zip(names, ranks))"
   ]
  },
  {
   "cell_type": "code",
   "execution_count": 13,
   "metadata": {},
   "outputs": [
    {
     "name": "stdout",
     "output_type": "stream",
     "text": [
      "Fitting estimator with 28 features.\n",
      "Fitting estimator with 27 features.\n",
      "Fitting estimator with 26 features.\n",
      "Fitting estimator with 25 features.\n",
      "Fitting estimator with 24 features.\n",
      "Fitting estimator with 23 features.\n",
      "Fitting estimator with 22 features.\n",
      "Fitting estimator with 21 features.\n",
      "Fitting estimator with 20 features.\n",
      "Fitting estimator with 19 features.\n",
      "Fitting estimator with 18 features.\n",
      "Fitting estimator with 17 features.\n",
      "Fitting estimator with 16 features.\n",
      "Fitting estimator with 15 features.\n",
      "Fitting estimator with 14 features.\n",
      "Fitting estimator with 13 features.\n",
      "Fitting estimator with 12 features.\n",
      "Fitting estimator with 11 features.\n",
      "Fitting estimator with 10 features.\n",
      "Fitting estimator with 9 features.\n",
      "Fitting estimator with 8 features.\n",
      "Fitting estimator with 7 features.\n",
      "Fitting estimator with 6 features.\n",
      "Fitting estimator with 5 features.\n",
      "Fitting estimator with 4 features.\n",
      "Fitting estimator with 3 features.\n",
      "Fitting estimator with 2 features.\n"
     ]
    }
   ],
   "source": [
    "estimator = LinearRegression(normalize=True)\n",
    "selector = RFE(estimator, n_features_to_select = 1, verbose = 3)\n",
    "selector = selector.fit(train, y_pred)\n",
    "ranks[\"RFE\"] = ranking(list(map(float, selector.ranking_)), colnames, order=-1)"
   ]
  },
  {
   "cell_type": "code",
   "execution_count": 14,
   "metadata": {},
   "outputs": [],
   "source": [
    "# Using Ridge \n",
    "ridge = Ridge(alpha = 7)\n",
    "ridge.fit(train, y_pred)\n",
    "ranks['Ridge'] = ranking(np.abs(ridge.coef_), colnames)\n",
    "\n",
    "# Using Lasso\n",
    "lasso = Lasso(alpha=.05)\n",
    "lasso.fit(train, y_pred)\n",
    "ranks[\"Lasso\"] = ranking(np.abs(lasso.coef_), colnames)"
   ]
  },
  {
   "cell_type": "code",
   "execution_count": 15,
   "metadata": {},
   "outputs": [],
   "source": [
    "rf = RandomForestClassifier(n_estimators=100, max_features=15, max_depth=11, random_state=1)\n",
    "rf.fit(train, y_pred)\n",
    "ranks[\"RF\"] = ranking(rf.feature_importances_, colnames);"
   ]
  },
  {
   "cell_type": "code",
   "execution_count": 16,
   "metadata": {},
   "outputs": [],
   "source": [
    "r = {}\n",
    "for name in colnames:\n",
    "    r[name] = round(np.mean([ranks[method][name] for method in ranks.keys()]), 2)\n",
    "\n",
    "methods = sorted(ranks.keys())\n",
    "ranks[\"Mean\"] = r\n",
    "methods.append(\"Mean\")"
   ]
  },
  {
   "cell_type": "markdown",
   "metadata": {},
   "source": [
    "**Feature Selection Insights**\n",
    "\n",
    "Lasso: Pick out top performing features and force the rest to be zero\n",
    "\n",
    "RF: Sharp drop-off score after first few top ones\n",
    "\n",
    "Ridge: Forces regression score to spread out similarly between correlated variables\n",
    "\n",
    "RFE: Compromise between data interpretation and top feature selection for model improvement"
   ]
  },
  {
   "cell_type": "code",
   "execution_count": 17,
   "metadata": {},
   "outputs": [
    {
     "name": "stdout",
     "output_type": "stream",
     "text": [
      "\t\tLasso\tRF\tRFE\tRidge\tMean\n",
      "draddjets \t0.0\t0.36\t0.33\t0.11\t0.2\n",
      "lepton_eta \t0.0\t0.06\t0.07\t0.03\t0.04\n",
      "MET_phi \t0.0\t0.06\t0.26\t0.07\t0.1\n",
      "delta_phi \t0.0\t0.02\t0.04\t0.03\t0.02\n",
      "delta_eta \t0.0\t0.07\t0.93\t0.0\t0.25\n",
      "delta_R \t0.0\t0.17\t0.52\t0.3\t0.25\n",
      "invmass \t0.0\t1.0\t0.48\t0.29\t0.44\n",
      "lepton_delta_R_1 \t0.87\t0.27\t0.67\t0.61\t0.6\n",
      "lepton_delta_eta_1 \t0.0\t0.62\t0.96\t0.05\t0.41\n",
      "lepton_delta_R_2 \t1.0\t0.11\t0.74\t0.64\t0.62\n",
      "lepton_delta_eta_2 \t0.0\t0.77\t1.0\t0.05\t0.46\n",
      "H \t0.0\t0.11\t0.7\t0.92\t0.43\n",
      "jet_pT_1 \t0.0\t0.16\t0.81\t0.93\t0.48\n",
      "jet_eta_1 \t0.0\t0.18\t0.37\t0.2\t0.19\n",
      "jet_E_1 \t0.0\t0.04\t0.78\t0.91\t0.43\n",
      "jet_CvsB_1 \t0.0\t0.08\t0.19\t0.06\t0.08\n",
      "jet_pT_2 \t0.0\t0.08\t0.89\t0.8\t0.44\n",
      "jet_eta_2 \t0.0\t0.14\t0.11\t0.04\t0.07\n",
      "jet_E_2 \t0.0\t0.11\t0.85\t1.0\t0.49\n",
      "jet_CvsB_2 \t0.0\t0.0\t0.22\t0.08\t0.07\n",
      "jet_pT_3 \t0.0\t0.04\t0.59\t0.56\t0.3\n",
      "jet_eta_3 \t0.0\t0.17\t0.15\t0.04\t0.09\n",
      "jet_E_3 \t0.0\t0.11\t0.63\t0.9\t0.41\n",
      "jet_CvsB_3 \t0.0\t0.08\t0.44\t0.24\t0.19\n",
      "jet_pT_4 \t0.0\t0.02\t0.41\t0.19\t0.15\n",
      "jet_eta_4 \t0.0\t0.16\t0.3\t0.09\t0.14\n",
      "jet_E_4 \t0.0\t0.13\t0.56\t0.58\t0.32\n",
      "jet_CvsB_4 \t0.0\t0.04\t0.0\t0.0\t0.01\n"
     ]
    }
   ],
   "source": [
    "print \"\\t\\t\", \"\\t\".join(methods)\n",
    "for name in colnames:\n",
    "    nameit = name\n",
    "    if len(name) == 3:\n",
    "        nameit += \"\\t\"\n",
    "    print nameit, \"\\t\",\"\\t\".join(map(str,[ranks[method][name] for method in methods]))"
   ]
  },
  {
   "cell_type": "code",
   "execution_count": 18,
   "metadata": {},
   "outputs": [],
   "source": [
    "# Put the mean scores into a Pandas dataframe\n",
    "meanplot = pd.DataFrame(list(r.items()), columns= ['Feature','Mean Ranking'])\n",
    "\n",
    "# Sort the dataframe\n",
    "meanplot = meanplot.sort_values('Mean Ranking', ascending=False)"
   ]
  },
  {
   "cell_type": "code",
   "execution_count": 19,
   "metadata": {},
   "outputs": [
    {
     "name": "stderr",
     "output_type": "stream",
     "text": [
      "/home/9304220184/python27/local/lib/python2.7/site-packages/seaborn/categorical.py:3666: UserWarning: The `factorplot` function has been renamed to `catplot`. The original name will be removed in a future release. Please update your code. Note that the default `kind` in `factorplot` (`'point'`) has changed `'strip'` in `catplot`.\n",
      "  warnings.warn(msg)\n"
     ]
    },
    {
     "data": {
      "text/plain": [
       "<seaborn.axisgrid.FacetGrid at 0x7f26bc58dcd0>"
      ]
     },
     "execution_count": 19,
     "metadata": {},
     "output_type": "execute_result"
    },
    {
     "data": {
      "image/png": "[encoded data removed]",
      "text/plain": [
       "<Figure size 1368x720 with 1 Axes>"
      ]
     },
     "metadata": {
      "needs_background": "light"
     },
     "output_type": "display_data"
    }
   ],
   "source": [
    "sns.factorplot(x=\"Mean Ranking\", y=\"Feature\", data = meanplot, kind=\"bar\", height=10, aspect=1.9, palette='coolwarm')"
   ]
  },
  {
   "cell_type": "code",
   "execution_count": 20,
   "metadata": {},
   "outputs": [],
   "source": [
    "X_train, X_temp, Y_train, Y_temp = train_test_split(train, y_pred, test_size = 0.4, random_state = 42)"
   ]
  },
  {
   "cell_type": "code",
   "execution_count": 21,
   "metadata": {},
   "outputs": [],
   "source": [
    "X_valid, X_test, Y_valid, Y_test = train_test_split(X_temp, Y_temp, test_size = 0.4, random_state = 42)"
   ]
  },
  {
   "cell_type": "markdown",
   "metadata": {},
   "source": [
    "# Neural Networks"
   ]
  },
  {
   "cell_type": "code",
   "execution_count": 51,
   "metadata": {},
   "outputs": [],
   "source": [
    "import talos as ta\n",
    "from keras.optimizers import Adam, Nadam, RMSprop\n",
    "from keras.losses import logcosh, binary_crossentropy\n",
    "from keras.activations import relu, elu, sigmoid\n",
    "from talos.model.layers import hidden_layers\n",
    "from talos.model.normalizers import lr_normalizer"
   ]
  },
  {
   "cell_type": "code",
   "execution_count": 52,
   "metadata": {},
   "outputs": [],
   "source": [
    "Y_train_nn = np_utils.to_categorical(Y_train)\n",
    "Y_valid_nn = np_utils.to_categorical(Y_valid)"
   ]
  },
  {
   "cell_type": "code",
   "execution_count": 71,
   "metadata": {},
   "outputs": [],
   "source": [
    "def higgs_nn(X_train, Y_train, X_valid, Y_valid, params):\n",
    "    model = Sequential()\n",
    "    model.add(Dense(75, input_dim=X_train.shape[1],\n",
    "                    activation=params['activation'],\n",
    "                    kernel_initializer='normal'))\n",
    "    model.add(Dropout(params['dropout']))\n",
    "\n",
    "    hidden_layers(model, params, 1)\n",
    "    \n",
    "    model.add(Dense(1, activation=params['last_activation'],\n",
    "                    kernel_initializer='normal'))\n",
    "    \n",
    "    model.compile(loss=params['losses'],\n",
    "                  optimizer=params['optimizer'](lr=lr_normalizer(params['lr'],params['optimizer'])),\n",
    "                  metrics=['acc'])\n",
    "    \n",
    "    history = model.fit(X_train, Y_train, \n",
    "                        validation_data=[X_valid, Y_valid],\n",
    "                        batch_size=params['batch_size'],\n",
    "                        epochs=params['epochs'],\n",
    "                        verbose=0)\n",
    "    \n",
    "    # finally we have to make sure that history object and model are returned\n",
    "    return history, model  "
   ]
  },
  {
   "cell_type": "code",
   "execution_count": 72,
   "metadata": {},
   "outputs": [],
   "source": [
    "p = {'lr': (0.5, 5, 10),\n",
    "     'first_neuron':[4, 8, 16, 32, 64],\n",
    "     'hidden_layers':[0, 1, 2],\n",
    "     'batch_size': (2, 30, 10),\n",
    "     'epochs': [70],\n",
    "     'dropout': (0, 0.5, 5),\n",
    "     'weight_regulizer':[None],\n",
    "     'emb_output_dims': [None],\n",
    "     'shape':['brick','long_funnel'],\n",
    "     'optimizer': [Adam, Nadam, RMSprop],\n",
    "     'losses': [logcosh, binary_crossentropy],\n",
    "     'activation':[relu, elu],\n",
    "     'last_activation': [sigmoid]}"
   ]
  },
  {
   "cell_type": "code",
   "execution_count": null,
   "metadata": {},
   "outputs": [
    {
     "name": "stderr",
     "output_type": "stream",
     "text": [
      "\n",
      "\n",
      "\n",
      "  0%|          | 0/2520 [00:00<?, ?it/s]\u001b[A\u001b[A\u001b[A\n",
      "\n",
      "\n",
      "  0%|          | 1/2520 [02:33<107:07:02, 153.09s/it]\u001b[A\u001b[A\u001b[A"
     ]
    }
   ],
   "source": [
    "h = ta.Scan(train, np.array(y_pred.tolist()), params=p,\n",
    "            model=higgs_nn,\n",
    "            dataset_name='higgs_nn',\n",
    "            experiment_no='1',\n",
    "            grid_downsample=0.01)"
   ]
  },
  {
   "cell_type": "code",
   "execution_count": 22,
   "metadata": {},
   "outputs": [],
   "source": [
    "model = Sequential()\n",
    "model.add(Dropout(0.13, input_shape=(X_train.shape[1],)))\n",
    "model.add(Dense(75))\n",
    "model.add(PReLU())\n",
    "\n",
    "model.add(Dropout(0.11))\n",
    "model.add(Dense(60))\n",
    "model.add(PReLU())\n",
    "\n",
    "model.add(Dropout(0.09))\n",
    "model.add(Dense(45))\n",
    "model.add(PReLU())\n",
    "\n",
    "model.add(Dropout(0.07))\n",
    "model.add(Dense(30))\n",
    "model.add(PReLU())\n",
    "\n",
    "model.add(Dropout(0.11))\n",
    "model.add(Dense(15))\n",
    "model.add(PReLU())\n",
    "\n",
    "model.add(Dense(2))\n",
    "model.add(Activation('sigmoid'))"
   ]
  },
  {
   "cell_type": "code",
   "execution_count": 84,
   "metadata": {},
   "outputs": [],
   "source": [
    "model.compile(loss='categorical_crossentropy', optimizer=keras.optimizers.SGD(lr=0.05, nesterov=True), metrics=['accuracy'])"
   ]
  },
  {
   "cell_type": "code",
   "execution_count": 86,
   "metadata": {},
   "outputs": [
    {
     "name": "stdout",
     "output_type": "stream",
     "text": [
      "Train on 10273 samples, validate on 4109 samples\n",
      "Epoch 1/70\n",
      " - 1s - loss: 0.6929 - acc: 0.5068 - val_loss: 0.6906 - val_acc: 0.5410\n",
      "Epoch 2/70\n",
      " - 1s - loss: 0.6907 - acc: 0.5249 - val_loss: 0.6884 - val_acc: 0.5461\n",
      "Epoch 3/70\n",
      " - 1s - loss: 0.6883 - acc: 0.5403 - val_loss: 0.6853 - val_acc: 0.5490\n",
      "Epoch 4/70\n",
      " - 1s - loss: 0.6848 - acc: 0.5546 - val_loss: 0.6816 - val_acc: 0.5583\n",
      "Epoch 5/70\n",
      " - 1s - loss: 0.6805 - acc: 0.5668 - val_loss: 0.6777 - val_acc: 0.5756\n",
      "Epoch 6/70\n",
      " - 1s - loss: 0.6796 - acc: 0.5656 - val_loss: 0.6750 - val_acc: 0.5814\n",
      "Epoch 7/70\n",
      " - 1s - loss: 0.6730 - acc: 0.5815 - val_loss: 0.6724 - val_acc: 0.5814\n",
      "Epoch 8/70\n",
      " - 1s - loss: 0.6718 - acc: 0.5848 - val_loss: 0.6693 - val_acc: 0.5904\n",
      "Epoch 9/70\n",
      " - 1s - loss: 0.6694 - acc: 0.5881 - val_loss: 0.6677 - val_acc: 0.5902\n",
      "Epoch 10/70\n",
      " - 1s - loss: 0.6687 - acc: 0.5907 - val_loss: 0.6668 - val_acc: 0.5975\n",
      "Epoch 11/70\n",
      " - 1s - loss: 0.6646 - acc: 0.5963 - val_loss: 0.6628 - val_acc: 0.5982\n",
      "Epoch 12/70\n",
      " - 1s - loss: 0.6618 - acc: 0.6024 - val_loss: 0.6609 - val_acc: 0.6045\n",
      "Epoch 13/70\n",
      " - 1s - loss: 0.6631 - acc: 0.6052 - val_loss: 0.6602 - val_acc: 0.6084\n",
      "Epoch 14/70\n",
      " - 1s - loss: 0.6612 - acc: 0.6092 - val_loss: 0.6601 - val_acc: 0.6089\n",
      "Epoch 15/70\n",
      " - 1s - loss: 0.6581 - acc: 0.6060 - val_loss: 0.6571 - val_acc: 0.6106\n",
      "Epoch 16/70\n",
      " - 1s - loss: 0.6588 - acc: 0.6116 - val_loss: 0.6572 - val_acc: 0.6099\n",
      "Epoch 17/70\n",
      " - 1s - loss: 0.6568 - acc: 0.6119 - val_loss: 0.6561 - val_acc: 0.6111\n",
      "Epoch 18/70\n",
      " - 1s - loss: 0.6570 - acc: 0.6126 - val_loss: 0.6548 - val_acc: 0.6147\n",
      "Epoch 19/70\n",
      " - 1s - loss: 0.6544 - acc: 0.6128 - val_loss: 0.6528 - val_acc: 0.6179\n",
      "Epoch 20/70\n",
      " - 1s - loss: 0.6539 - acc: 0.6112 - val_loss: 0.6562 - val_acc: 0.6167\n",
      "Epoch 21/70\n",
      " - 1s - loss: 0.6530 - acc: 0.6184 - val_loss: 0.6518 - val_acc: 0.6220\n",
      "Epoch 22/70\n",
      " - 1s - loss: 0.6521 - acc: 0.6204 - val_loss: 0.6515 - val_acc: 0.6203\n",
      "Epoch 23/70\n",
      " - 1s - loss: 0.6518 - acc: 0.6160 - val_loss: 0.6491 - val_acc: 0.6223\n",
      "Epoch 24/70\n",
      " - 1s - loss: 0.6498 - acc: 0.6251 - val_loss: 0.6491 - val_acc: 0.6218\n",
      "Epoch 25/70\n",
      " - 1s - loss: 0.6482 - acc: 0.6224 - val_loss: 0.6483 - val_acc: 0.6235\n",
      "Epoch 26/70\n",
      " - 1s - loss: 0.6472 - acc: 0.6231 - val_loss: 0.6486 - val_acc: 0.6213\n",
      "Epoch 27/70\n",
      " - 1s - loss: 0.6441 - acc: 0.6235 - val_loss: 0.6484 - val_acc: 0.6257\n",
      "Epoch 28/70\n",
      " - 1s - loss: 0.6464 - acc: 0.6248 - val_loss: 0.6497 - val_acc: 0.6218\n",
      "Epoch 29/70\n",
      " - 1s - loss: 0.6423 - acc: 0.6331 - val_loss: 0.6492 - val_acc: 0.6223\n",
      "Epoch 30/70\n",
      " - 1s - loss: 0.6450 - acc: 0.6245 - val_loss: 0.6484 - val_acc: 0.6233\n",
      "Epoch 31/70\n",
      " - 1s - loss: 0.6425 - acc: 0.6330 - val_loss: 0.6474 - val_acc: 0.6255\n",
      "Epoch 32/70\n",
      " - 1s - loss: 0.6450 - acc: 0.6241 - val_loss: 0.6470 - val_acc: 0.6264\n",
      "Epoch 33/70\n",
      " - 1s - loss: 0.6438 - acc: 0.6297 - val_loss: 0.6459 - val_acc: 0.6247\n",
      "Epoch 34/70\n",
      " - 1s - loss: 0.6393 - acc: 0.6364 - val_loss: 0.6462 - val_acc: 0.6272\n",
      "Epoch 35/70\n",
      " - 1s - loss: 0.6440 - acc: 0.6286 - val_loss: 0.6494 - val_acc: 0.6250\n",
      "Epoch 36/70\n",
      " - 1s - loss: 0.6403 - acc: 0.6341 - val_loss: 0.6471 - val_acc: 0.6228\n",
      "Epoch 37/70\n",
      " - 1s - loss: 0.6414 - acc: 0.6352 - val_loss: 0.6464 - val_acc: 0.6240\n",
      "Epoch 38/70\n",
      " - 1s - loss: 0.6401 - acc: 0.6312 - val_loss: 0.6507 - val_acc: 0.6225\n",
      "Epoch 39/70\n",
      " - 1s - loss: 0.6390 - acc: 0.6332 - val_loss: 0.6472 - val_acc: 0.6247\n",
      "Epoch 40/70\n",
      " - 1s - loss: 0.6430 - acc: 0.6259 - val_loss: 0.6460 - val_acc: 0.6284\n",
      "Epoch 41/70\n",
      " - 1s - loss: 0.6401 - acc: 0.6347 - val_loss: 0.6451 - val_acc: 0.6279\n",
      "Epoch 42/70\n",
      " - 1s - loss: 0.6377 - acc: 0.6379 - val_loss: 0.6469 - val_acc: 0.6286\n",
      "Epoch 43/70\n",
      " - 1s - loss: 0.6382 - acc: 0.6363 - val_loss: 0.6459 - val_acc: 0.6289\n",
      "Epoch 44/70\n",
      " - 1s - loss: 0.6362 - acc: 0.6383 - val_loss: 0.6432 - val_acc: 0.6345\n",
      "Epoch 45/70\n",
      " - 1s - loss: 0.6380 - acc: 0.6357 - val_loss: 0.6443 - val_acc: 0.6311\n",
      "Epoch 46/70\n",
      " - 1s - loss: 0.6338 - acc: 0.6443 - val_loss: 0.6451 - val_acc: 0.6279\n",
      "Epoch 47/70\n",
      " - 1s - loss: 0.6365 - acc: 0.6393 - val_loss: 0.6489 - val_acc: 0.6238\n",
      "Epoch 48/70\n",
      " - 1s - loss: 0.6328 - acc: 0.6446 - val_loss: 0.6457 - val_acc: 0.6303\n",
      "Epoch 49/70\n",
      " - 1s - loss: 0.6338 - acc: 0.6402 - val_loss: 0.6425 - val_acc: 0.6357\n",
      "Epoch 50/70\n",
      " - 1s - loss: 0.6322 - acc: 0.6447 - val_loss: 0.6437 - val_acc: 0.6342\n",
      "Epoch 51/70\n",
      " - 1s - loss: 0.6302 - acc: 0.6478 - val_loss: 0.6442 - val_acc: 0.6308\n",
      "Epoch 52/70\n",
      " - 1s - loss: 0.6312 - acc: 0.6443 - val_loss: 0.6464 - val_acc: 0.6264\n",
      "Epoch 53/70\n",
      " - 1s - loss: 0.6327 - acc: 0.6392 - val_loss: 0.6429 - val_acc: 0.6320\n",
      "Epoch 54/70\n",
      " - 1s - loss: 0.6337 - acc: 0.6374 - val_loss: 0.6465 - val_acc: 0.6281\n",
      "Epoch 55/70\n",
      " - 1s - loss: 0.6324 - acc: 0.6416 - val_loss: 0.6448 - val_acc: 0.6306\n",
      "Epoch 56/70\n",
      " - 1s - loss: 0.6299 - acc: 0.6465 - val_loss: 0.6462 - val_acc: 0.6284\n",
      "Epoch 57/70\n",
      " - 1s - loss: 0.6307 - acc: 0.6463 - val_loss: 0.6460 - val_acc: 0.6259\n",
      "Epoch 58/70\n",
      " - 1s - loss: 0.6312 - acc: 0.6474 - val_loss: 0.6433 - val_acc: 0.6313\n",
      "Epoch 59/70\n",
      " - 1s - loss: 0.6288 - acc: 0.6446 - val_loss: 0.6469 - val_acc: 0.6274\n",
      "Epoch 60/70\n",
      " - 1s - loss: 0.6290 - acc: 0.6470 - val_loss: 0.6431 - val_acc: 0.6294\n",
      "Epoch 61/70\n",
      " - 1s - loss: 0.6317 - acc: 0.6425 - val_loss: 0.6439 - val_acc: 0.6291\n",
      "Epoch 62/70\n",
      " - 1s - loss: 0.6295 - acc: 0.6491 - val_loss: 0.6488 - val_acc: 0.6242\n",
      "Epoch 63/70\n",
      " - 1s - loss: 0.6260 - acc: 0.6502 - val_loss: 0.6451 - val_acc: 0.6255\n",
      "Epoch 64/70\n",
      " - 1s - loss: 0.6278 - acc: 0.6441 - val_loss: 0.6446 - val_acc: 0.6301\n",
      "Epoch 65/70\n",
      " - 1s - loss: 0.6266 - acc: 0.6500 - val_loss: 0.6465 - val_acc: 0.6294\n",
      "Epoch 66/70\n",
      " - 1s - loss: 0.6267 - acc: 0.6540 - val_loss: 0.6483 - val_acc: 0.6269\n",
      "Epoch 67/70\n",
      " - 1s - loss: 0.6239 - acc: 0.6536 - val_loss: 0.6513 - val_acc: 0.6203\n",
      "Epoch 68/70\n",
      " - 1s - loss: 0.6293 - acc: 0.6437 - val_loss: 0.6430 - val_acc: 0.6242\n",
      "Epoch 69/70\n",
      " - 1s - loss: 0.6253 - acc: 0.6500 - val_loss: 0.6477 - val_acc: 0.6230\n",
      "Epoch 70/70\n",
      " - 1s - loss: 0.6247 - acc: 0.6514 - val_loss: 0.6457 - val_acc: 0.6259\n"
     ]
    },
    {
     "data": {
      "text/plain": [
       "<keras.callbacks.History at 0x7fdfb3dd55d0>"
      ]
     },
     "execution_count": 86,
     "metadata": {},
     "output_type": "execute_result"
    }
   ],
   "source": [
    "model.fit(X_train, Y_train_nn, batch_size=64, epochs=70, verbose=2, shuffle=True, validation_data = (X_valid, Y_valid_nn))"
   ]
  },
  {
   "cell_type": "markdown",
   "metadata": {},
   "source": [
    "# Gradient Boosting"
   ]
  },
  {
   "cell_type": "code",
   "execution_count": 87,
   "metadata": {},
   "outputs": [],
   "source": [
    "Y_train = np.array(Y_train)\n",
    "Y_valid = np.array(Y_valid)\n",
    "xgb = XGBRegressor()"
   ]
  },
  {
   "cell_type": "code",
   "execution_count": 88,
   "metadata": {},
   "outputs": [],
   "source": [
    "params={\n",
    "    'objective': 'binary:logistic',\n",
    "    'learning_rate': 0.1,\n",
    "    'max_depth':5,\n",
    "    'gamma': 0.3,\n",
    "    'min_child_weight':1,\n",
    "    'subsample': 0.8,\n",
    "    'colsample_bytree': 0.8,\n",
    "    'n_estimators': 1000,\n",
    "}"
   ]
  },
  {
   "cell_type": "code",
   "execution_count": 89,
   "metadata": {},
   "outputs": [],
   "source": [
    "# grs = GridSearchCV(xgb, param_grid=params, cv=2, n_jobs=4, verbose=2)\n",
    "# grs.fit(X_train, Y_train, eval_set=[(X_valid, Y_valid)], verbose=False)\n",
    "\n",
    "# print(\"Best parameters \" + str(grs.best_params_))\n",
    "# gpd = pd.DataFrame(grs.cv_results_)\n",
    "# print(\"Estimated accuracy of this model for unseen data: {0:1.4f}\".format(gpd['mean_test_score'][grs.best_index_]))"
   ]
  },
  {
   "cell_type": "code",
   "execution_count": 90,
   "metadata": {},
   "outputs": [],
   "source": [
    "my_model = XGBRegressor(\n",
    "    objective = 'binary:logistic',\n",
    "    learning_rate = 0.1,\n",
    "    max_depth = 5,\n",
    "    gamma = 0,\n",
    "    min_child_weight = 1,\n",
    "    subsample = 0.8,\n",
    "    colsample_bytree = 0.8,\n",
    "    n_estimators = 1000,\n",
    "    silent = 1\n",
    ")"
   ]
  },
  {
   "cell_type": "code",
   "execution_count": 91,
   "metadata": {},
   "outputs": [
    {
     "data": {
      "text/plain": [
       "XGBRegressor(base_score=0.5, booster='gbtree', colsample_bylevel=1,\n",
       "       colsample_bytree=0.8, gamma=0, learning_rate=0.1, max_delta_step=0,\n",
       "       max_depth=5, min_child_weight=1, missing=None, n_estimators=1000,\n",
       "       n_jobs=1, nthread=None, objective='binary:logistic', random_state=0,\n",
       "       reg_alpha=0, reg_lambda=1, scale_pos_weight=1, seed=None, silent=1,\n",
       "       subsample=0.8)"
      ]
     },
     "execution_count": 91,
     "metadata": {},
     "output_type": "execute_result"
    }
   ],
   "source": [
    "my_model.fit(X_train, Y_train, eval_set=[(X_valid, Y_valid)], verbose=False)"
   ]
  },
  {
   "cell_type": "code",
   "execution_count": 92,
   "metadata": {},
   "outputs": [],
   "source": [
    "a = my_model.predict(X_valid)"
   ]
  },
  {
   "cell_type": "code",
   "execution_count": 93,
   "metadata": {},
   "outputs": [],
   "source": [
    "Y_valid = np.array(Y_valid)"
   ]
  },
  {
   "cell_type": "code",
   "execution_count": 94,
   "metadata": {},
   "outputs": [
    {
     "name": "stdout",
     "output_type": "stream",
     "text": [
      "Accuracy for Gradient Boosting: 62.18\n"
     ]
    }
   ],
   "source": [
    "print(\"Accuracy for Gradient Boosting: %.2f\" % (accuracy_score(Y_valid, a.round()) * 100))"
   ]
  },
  {
   "cell_type": "markdown",
   "metadata": {},
   "source": [
    "# Random Forest"
   ]
  },
  {
   "cell_type": "code",
   "execution_count": 95,
   "metadata": {},
   "outputs": [
    {
     "data": {
      "text/plain": [
       "RandomForestClassifier(bootstrap=True, class_weight=None, criterion='gini',\n",
       "            max_depth=12, max_features=15, max_leaf_nodes=None,\n",
       "            min_impurity_decrease=0.0, min_impurity_split=None,\n",
       "            min_samples_leaf=1, min_samples_split=2,\n",
       "            min_weight_fraction_leaf=0.0, n_estimators=100, n_jobs=None,\n",
       "            oob_score=False, random_state=1, verbose=0, warm_start=False)"
      ]
     },
     "execution_count": 95,
     "metadata": {},
     "output_type": "execute_result"
    }
   ],
   "source": [
    "rf = RandomForestClassifier(n_estimators=100, max_features=15, max_depth=12, random_state=1)\n",
    "rf.fit(X_train, Y_train)"
   ]
  },
  {
   "cell_type": "code",
   "execution_count": 96,
   "metadata": {},
   "outputs": [
    {
     "name": "stdout",
     "output_type": "stream",
     "text": [
      "Accuracy for Random Forest: 62.03\n"
     ]
    }
   ],
   "source": [
    "r = rf.predict(X_valid)\n",
    "Y_valid = np.array(Y_valid)\n",
    "print(\"Accuracy for Random Forest: %.2f\" % (accuracy_score(Y_valid, r.round()) * 100))"
   ]
  },
  {
   "cell_type": "code",
   "execution_count": 97,
   "metadata": {},
   "outputs": [
    {
     "name": "stdout",
     "output_type": "stream",
     "text": [
      "Training Accuracy for Random Forest: 92.33\n"
     ]
    }
   ],
   "source": [
    "r_train = rf.predict(X_train)\n",
    "Y_train = np.array(Y_train)\n",
    "print(\"Training Accuracy for Random Forest: %.2f\" % (accuracy_score(Y_train, r_train.round()) * 100))"
   ]
  },
  {
   "cell_type": "markdown",
   "metadata": {},
   "source": [
    "# Combining Models"
   ]
  },
  {
   "cell_type": "code",
   "execution_count": 98,
   "metadata": {},
   "outputs": [],
   "source": [
    "Y_test = np.array(Y_test)"
   ]
  },
  {
   "cell_type": "code",
   "execution_count": 99,
   "metadata": {},
   "outputs": [],
   "source": [
    "nn_test = model.predict(X_test)\n",
    "gb_test = my_model.predict(X_test)\n",
    "r_test = rf.predict(X_test)"
   ]
  },
  {
   "cell_type": "code",
   "execution_count": 100,
   "metadata": {},
   "outputs": [],
   "source": [
    "nn_test = np.array([i[1] for i in nn_test])"
   ]
  },
  {
   "cell_type": "code",
   "execution_count": 101,
   "metadata": {},
   "outputs": [
    {
     "data": {
      "text/plain": [
       "(array([0.62068966, 0.6147541 ]),\n",
       " array([0.5840708 , 0.65028902]),\n",
       " array([0.60182371, 0.63202247]),\n",
       " array([1356, 1384]))"
      ]
     },
     "execution_count": 101,
     "metadata": {},
     "output_type": "execute_result"
    }
   ],
   "source": [
    "precision_recall_fscore_support(Y_test, (nn_test*0.4 + gb_test*0.3 + r_test*0.3).round())"
   ]
  },
  {
   "cell_type": "markdown",
   "metadata": {},
   "source": [
    "# ROC Curve"
   ]
  },
  {
   "cell_type": "code",
   "execution_count": 102,
   "metadata": {},
   "outputs": [],
   "source": [
    "y_prob = nn_test*0.4 + gb_test*0.3 + r_test*0.3"
   ]
  },
  {
   "cell_type": "code",
   "execution_count": 103,
   "metadata": {},
   "outputs": [],
   "source": [
    "false_positive_rate, true_positive_rate, thresholds = roc_curve(Y_test, y_prob)\n",
    "roc_auc = auc(false_positive_rate, true_positive_rate)"
   ]
  },
  {
   "cell_type": "code",
   "execution_count": 104,
   "metadata": {},
   "outputs": [
    {
     "data": {
      "text/plain": [
       "Text(0.5,0,'False Positive Rate')"
      ]
     },
     "execution_count": 104,
     "metadata": {},
     "output_type": "execute_result"
    },
    {
     "data": {
      "image/png": "[encoded data removed]",
      "text/plain": [
       "<Figure size 720x720 with 1 Axes>"
      ]
     },
     "metadata": {
      "needs_background": "light"
     },
     "output_type": "display_data"
    }
   ],
   "source": [
    "plt.figure(figsize=(10,10))\n",
    "plt.title('Receiver Operating Characteristic')\n",
    "plt.plot(false_positive_rate,true_positive_rate, color='red',label = 'AUC = %0.2f' % roc_auc)\n",
    "plt.legend(loc = 'lower right')\n",
    "plt.plot([0, 1], [0, 1],linestyle='--')\n",
    "plt.axis('tight')\n",
    "plt.ylabel('True Positive Rate')\n",
    "plt.xlabel('False Positive Rate')"
   ]
  },
  {
   "cell_type": "code",
   "execution_count": 105,
   "metadata": {},
   "outputs": [],
   "source": [
    "signals = []\n",
    "backgrounds = []\n",
    "\n",
    "for i in range(len(Y_test)):\n",
    "    if Y_test[i] == 0:\n",
    "        backgrounds.append(y_prob[i])\n",
    "    else:\n",
    "        signals.append(y_prob[i])"
   ]
  },
  {
   "cell_type": "code",
   "execution_count": 106,
   "metadata": {},
   "outputs": [
    {
     "data": {
      "image/png": "[encoded data removed]",
      "text/plain": [
       "<Figure size 432x288 with 1 Axes>"
      ]
     },
     "metadata": {
      "needs_background": "light"
     },
     "output_type": "display_data"
    }
   ],
   "source": [
    "sns.distplot(signals,label=\"Signal\",kde = False)\n",
    "sns.distplot(backgrounds,label=\"Background\", kde = False)\n",
    "plt.show()"
   ]
  },
  {
   "cell_type": "code",
   "execution_count": null,
   "metadata": {},
   "outputs": [],
   "source": []
  }
 ],
 "metadata": {
  "kernelspec": {
   "display_name": "Python 2",
   "language": "python",
   "name": "python2"
  },
  "language_info": {
   "codemirror_mode": {
    "name": "ipython",
    "version": 2
   },
   "file_extension": ".py",
   "mimetype": "text/x-python",
   "name": "python",
   "nbconvert_exporter": "python",
   "pygments_lexer": "ipython2",
   "version": "2.7.12"
  }
 },
 "nbformat": 4,
 "nbformat_minor": 2
}
