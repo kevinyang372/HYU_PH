{
 "cells": [
  {
   "cell_type": "code",
   "execution_count": 84,
   "metadata": {},
   "outputs": [],
   "source": [
    "from ROOT import *\n",
    "from root_numpy import tree2array\n",
    "from ROOT import TFile\n",
    "import pandas as pd\n",
    "import numpy as np\n",
    "import deepdish.io as io\n",
    "from sklearn.preprocessing import StandardScaler, MinMaxScaler\n",
    "from sklearn.model_selection import GridSearchCV, train_test_split\n",
    "import keras\n",
    "from keras.models import Sequential\n",
    "from keras.layers.core import Dense, Activation, Dropout\n",
    "from keras.layers.advanced_activations import PReLU\n",
    "from keras.utils import np_utils\n",
    "from sklearn.metrics import accuracy_score, roc_auc_score\n",
    "from sklearn.ensemble import RandomForestClassifier\n",
    "from xgboost import XGBRegressor\n",
    "from sklearn.feature_selection import RFE, f_regression\n",
    "from sklearn.linear_model import LinearRegression, Ridge, Lasso, RandomizedLasso\n",
    "import os\n",
    "import math\n",
    "import seaborn as sns"
   ]
  },
  {
   "cell_type": "code",
   "execution_count": 3,
   "metadata": {},
   "outputs": [],
   "source": [
    "data = TFile.Open(\"/home/minerva1993/public/v808/nosplit/ttHbb_PowhegPythia.root\")\n",
    "data2 = TFile.Open(\"/home/minerva1993/public/v808/nosplit/TTLJ_PowhegPythia_ttbb.root\")\n",
    "tree = data.Get(\"ttbbLepJets/tree\")\n",
    "tree2 = data2.Get(\"ttbbLepJets/tree\")"
   ]
  },
  {
   "cell_type": "code",
   "execution_count": 4,
   "metadata": {},
   "outputs": [],
   "source": [
    "def tree_to_df(tree, branch_names=[], index_name='', drop_roofit_labels=False):\n",
    "    if tree is None:\n",
    "        return None\n",
    "\n",
    "    branch_list = tree.GetListOfBranches()\n",
    "    all_branch_names = [branch_list.At(i).GetName() for i in range(branch_list.GetEntries())]\n",
    "    if len(branch_names) == 0:\n",
    "        branch_names = all_branch_names\n",
    "    for bn in branch_names[:]:\n",
    "        if bn not in all_branch_names:\n",
    "            branch_names.remove(bn)\n",
    "        if drop_roofit_labels:\n",
    "            if bn.endswith('_lbl'):\n",
    "                branch_names.remove(bn)\n",
    "\n",
    "    arrs = tree2array(tree, branch_names, start = 0, stop = 20000)\n",
    "    df = pd.DataFrame(arrs)\n",
    "\n",
    "    if len(index_name) == 0:\n",
    "        for col in df.columns:\n",
    "            if col.startswith('__index__'):\n",
    "                index_name = col\n",
    "                break\n",
    "    if len(index_name):\n",
    "        try:\n",
    "            df[index_name] = df[index_name].astype(np.int32)\n",
    "            df.set_index(index_name, inplace=True)\n",
    "        except BaseException:\n",
    "            pass\n",
    "\n",
    "    if drop_roofit_labels:\n",
    "        df.columns = [col.replace('_idx', '') for col in df.columns]\n",
    "\n",
    "    n_tree = tree.GetEntries()\n",
    "    n_df = len(df.index)\n",
    "\n",
    "    return df "
   ]
  },
  {
   "cell_type": "code",
   "execution_count": 5,
   "metadata": {},
   "outputs": [],
   "source": [
    "dftree = tree_to_df(tree)\n",
    "dftree_bg = tree_to_df(tree2)"
   ]
  },
  {
   "cell_type": "code",
   "execution_count": 6,
   "metadata": {},
   "outputs": [],
   "source": [
    "# results = []\n",
    "# for i in range(len(dftree['addbjet1_pt'])):\n",
    "#     k = np.sqrt((dftree['addbjet1_e'][i] + dftree['addbjet2_e'][i])**2 - (dftree['addbjet1_pt'][i] + dftree['addbjet2_pt'][i])**2 - (dftree['addbjet1_eta'][i] + dftree['addbjet2_eta'][i])**2 - (dftree['addbjet1_phi'][i] + dftree['addbjet2_phi'][i])**2)\n",
    "#     results.append(k)"
   ]
  },
  {
   "cell_type": "code",
   "execution_count": 71,
   "metadata": {},
   "outputs": [],
   "source": [
    "def process(df):\n",
    "    columns = ['draddjets','lepton_pT','lepton_eta','lepton_phi','lepton_E','MET','MET_phi','event_weight','delta_phi','delta_eta','delta_R']\n",
    "    \n",
    "    for t in range(1,5):\n",
    "        for i in ['jet_pT','jet_eta','jet_phi','jet_E','jet_CvsB']:\n",
    "            columns.append(i+'_'+str(t))\n",
    "    \n",
    "    end = []\n",
    "    \n",
    "    for i in range(len(df['lepton_SF'])):\n",
    "        if df['jet_number'][i] >= 6:\n",
    "            parts = []\n",
    "            for t in ['draddjets','lepton_pT','lepton_eta','lepton_phi','lepton_E','MET','MET_phi']:\n",
    "                parts.append(df[t][i])\n",
    "            \n",
    "            product = df['lepton_SF'][i][0] * df['jet_SF_CSV_30'][i][0] * df['PUWeight'][i][0] * df['genweight'][i]\n",
    "            \n",
    "            parts.append(product)\n",
    "            \n",
    "            delta_phi = df['addbjet1_phi'][i] - df['addbjet2_phi'][i] - 2*math.pi if df['addbjet1_phi'][i] - df['addbjet2_phi'][i] > 2*math.pi else df['addbjet1_phi'][i] - df['addbjet2_phi'][i] + 2*math.pi\n",
    "            delta_eta = df['addbjet1_eta'][i] - df['addbjet2_eta'][i]\n",
    "            delta_R = math.sqrt(delta_phi**2 + delta_eta**2)\n",
    "            \n",
    "            parts += [delta_phi, delta_eta, delta_R]\n",
    "            \n",
    "            for t in range(len(df['jet_pT'][i])):\n",
    "                passed = True\n",
    "                partial = []\n",
    "                for k in ['jet_pT','jet_eta','jet_phi','jet_E','jet_CvsB']:\n",
    "                    if k == 'jet_pT':\n",
    "                        if df[k][i][t] < 30:\n",
    "                            passed = False\n",
    "                            break\n",
    "                    elif k == 'jet_eta':\n",
    "                        if df[k][i][t] > 2.4 or df[k][i][t] < -2.4:\n",
    "                            passed = False\n",
    "                            break\n",
    "                    partial.append(df[k][i][t])\n",
    "                \n",
    "                if passed:\n",
    "                    parts += partial\n",
    "                    \n",
    "                if len(parts) == len(columns):\n",
    "                    break\n",
    "                    \n",
    "            end.append(parts)\n",
    "            \n",
    "    print \"Column Length: \", len(end[0])\n",
    "    print \"Fixed Length: \", len(columns)\n",
    "    train_tree = pd.DataFrame(end, columns=columns)\n",
    "    return train_tree"
   ]
  },
  {
   "cell_type": "code",
   "execution_count": 72,
   "metadata": {},
   "outputs": [
    {
     "name": "stdout",
     "output_type": "stream",
     "text": [
      "Column Length:  31\n",
      "Fixed Length:  31\n"
     ]
    }
   ],
   "source": [
    "train_tree = process(dftree)"
   ]
  },
  {
   "cell_type": "code",
   "execution_count": 73,
   "metadata": {},
   "outputs": [
    {
     "name": "stdout",
     "output_type": "stream",
     "text": [
      "Column Length:  31\n",
      "Fixed Length:  31\n"
     ]
    }
   ],
   "source": [
    "train_tree_2 = process(dftree_bg)"
   ]
  },
  {
   "cell_type": "code",
   "execution_count": 74,
   "metadata": {},
   "outputs": [],
   "source": [
    "train_tree['result'] = np.zeros(len(train_tree))"
   ]
  },
  {
   "cell_type": "code",
   "execution_count": 75,
   "metadata": {},
   "outputs": [],
   "source": [
    "train_tree_2['result'] = [1 for i in range(len(train_tree_2))]"
   ]
  },
  {
   "cell_type": "code",
   "execution_count": 76,
   "metadata": {
    "scrolled": false
   },
   "outputs": [],
   "source": [
    "full_train = train_tree.append(train_tree_2, ignore_index=True)"
   ]
  },
  {
   "cell_type": "code",
   "execution_count": 77,
   "metadata": {},
   "outputs": [],
   "source": [
    "y_pred = full_train['result']\n",
    "full_train = full_train.drop('result',1)"
   ]
  },
  {
   "cell_type": "code",
   "execution_count": 78,
   "metadata": {},
   "outputs": [],
   "source": [
    "def preprocess_data(X, scaler=None):\n",
    "    if not scaler:\n",
    "        scaler = StandardScaler()\n",
    "        scaler.fit(X)\n",
    "    X = scaler.transform(X)\n",
    "    return X, scaler"
   ]
  },
  {
   "cell_type": "code",
   "execution_count": 79,
   "metadata": {},
   "outputs": [],
   "source": [
    "train, scaler = preprocess_data(full_train)"
   ]
  },
  {
   "cell_type": "markdown",
   "metadata": {},
   "source": [
    "# Data Analysis and Cleaning"
   ]
  },
  {
   "cell_type": "code",
   "execution_count": 80,
   "metadata": {},
   "outputs": [
    {
     "data": {
      "image/png": "[encoded data removed]",
      "text/plain": [
       "<Figure size 540x540 with 12 Axes>"
      ]
     },
     "metadata": {
      "needs_background": "light"
     },
     "output_type": "display_data"
    }
   ],
   "source": [
    "g = sns.pairplot(full_train, vars=[\"draddjets\",\"event_weight\",\"MET\"])\n",
    "g.set(xticklabels=[]);"
   ]
  },
  {
   "cell_type": "code",
   "execution_count": 81,
   "metadata": {},
   "outputs": [],
   "source": [
    "ranks = {}\n",
    "colnames = full_train.columns\n",
    "# Create our function which stores the feature rankings to the ranks dictionary\n",
    "def ranking(ranks, names, order=1):\n",
    "    minmax = MinMaxScaler()\n",
    "    ranks = minmax.fit_transform(order*np.array([ranks]).T).T[0]\n",
    "    ranks = map(lambda x: round(x,2), ranks)\n",
    "    return dict(zip(names, ranks))"
   ]
  },
  {
   "cell_type": "code",
   "execution_count": 82,
   "metadata": {},
   "outputs": [
    {
     "name": "stdout",
     "output_type": "stream",
     "text": [
      "Fitting estimator with 31 features.\n",
      "Fitting estimator with 30 features.\n",
      "Fitting estimator with 29 features.\n",
      "Fitting estimator with 28 features.\n",
      "Fitting estimator with 27 features.\n",
      "Fitting estimator with 26 features.\n",
      "Fitting estimator with 25 features.\n",
      "Fitting estimator with 24 features.\n",
      "Fitting estimator with 23 features.\n",
      "Fitting estimator with 22 features.\n",
      "Fitting estimator with 21 features.\n",
      "Fitting estimator with 20 features.\n",
      "Fitting estimator with 19 features.\n",
      "Fitting estimator with 18 features.\n",
      "Fitting estimator with 17 features.\n",
      "Fitting estimator with 16 features.\n",
      "Fitting estimator with 15 features.\n",
      "Fitting estimator with 14 features.\n",
      "Fitting estimator with 13 features.\n",
      "Fitting estimator with 12 features.\n",
      "Fitting estimator with 11 features.\n",
      "Fitting estimator with 10 features.\n",
      "Fitting estimator with 9 features.\n",
      "Fitting estimator with 8 features.\n",
      "Fitting estimator with 7 features.\n",
      "Fitting estimator with 6 features.\n",
      "Fitting estimator with 5 features.\n",
      "Fitting estimator with 4 features.\n",
      "Fitting estimator with 3 features.\n",
      "Fitting estimator with 2 features.\n"
     ]
    }
   ],
   "source": [
    "estimator = LinearRegression(normalize=True)\n",
    "selector = RFE(estimator, n_features_to_select = 1, verbose = 3)\n",
    "selector = selector.fit(train, y_pred)\n",
    "ranks[\"RFE\"] = ranking(list(map(float, selector.ranking_)), colnames, order=-1)"
   ]
  },
  {
   "cell_type": "code",
   "execution_count": 85,
   "metadata": {},
   "outputs": [],
   "source": [
    "# Using Ridge \n",
    "ridge = Ridge(alpha = 7)\n",
    "ridge.fit(train, y_pred)\n",
    "ranks['Ridge'] = ranking(np.abs(ridge.coef_), colnames)\n",
    "\n",
    "# Using Lasso\n",
    "lasso = Lasso(alpha=.05)\n",
    "lasso.fit(train, y_pred)\n",
    "ranks[\"Lasso\"] = ranking(np.abs(lasso.coef_), colnames)"
   ]
  },
  {
   "cell_type": "code",
   "execution_count": 86,
   "metadata": {},
   "outputs": [],
   "source": [
    "rf = RandomForestClassifier(n_estimators=100, max_features=15, max_depth=11, random_state=1)\n",
    "rf.fit(train, y_pred)\n",
    "ranks[\"RF\"] = ranking(rf.feature_importances_, colnames);"
   ]
  },
  {
   "cell_type": "code",
   "execution_count": 87,
   "metadata": {},
   "outputs": [],
   "source": [
    "r = {}\n",
    "for name in colnames:\n",
    "    r[name] = round(np.mean([ranks[method][name] for method in ranks.keys()]), 2)\n",
    "\n",
    "methods = sorted(ranks.keys())\n",
    "ranks[\"Mean\"] = r\n",
    "methods.append(\"Mean\")"
   ]
  },
  {
   "cell_type": "code",
   "execution_count": 88,
   "metadata": {},
   "outputs": [
    {
     "name": "stdout",
     "output_type": "stream",
     "text": [
      "\t\tLasso\tRF\tRFE\tRidge\tMean\n",
      "draddjets \t0.0\t0.0\t0.67\t0.01\t0.17\n",
      "lepton_pT \t0.0\t0.0\t0.53\t0.01\t0.14\n",
      "lepton_eta \t0.0\t0.0\t0.23\t0.0\t0.06\n",
      "lepton_phi \t0.0\t0.0\t0.0\t0.0\t0.0\n",
      "lepton_E \t0.0\t0.0\t0.1\t0.0\t0.03\n",
      "MET\t\t0.0\t0.0\t0.37\t0.0\t0.09\n",
      "MET_phi \t0.0\t0.0\t0.17\t0.0\t0.04\n",
      "event_weight \t0.0\t0.0\t0.73\t0.01\t0.18\n",
      "delta_phi \t0.0\t0.69\t0.97\t0.99\t0.66\n",
      "delta_eta \t0.0\t0.42\t0.3\t0.0\t0.18\n",
      "delta_R \t0.0\t1.0\t1.0\t1.0\t0.75\n",
      "jet_pT_1 \t0.0\t0.0\t0.93\t0.06\t0.25\n",
      "jet_eta_1 \t0.0\t0.0\t0.5\t0.01\t0.13\n",
      "jet_phi_1 \t0.0\t0.0\t0.33\t0.0\t0.08\n",
      "jet_E_1 \t0.0\t0.0\t0.9\t0.04\t0.24\n",
      "jet_CvsB_1 \t0.0\t0.0\t0.6\t0.01\t0.15\n",
      "jet_pT_2 \t0.0\t0.0\t0.87\t0.04\t0.23\n",
      "jet_eta_2 \t0.0\t0.0\t0.4\t0.0\t0.1\n",
      "jet_phi_2 \t0.0\t0.0\t0.13\t0.0\t0.03\n",
      "jet_E_2 \t0.0\t0.0\t0.83\t0.03\t0.21\n",
      "jet_CvsB_2 \t0.0\t0.0\t0.47\t0.0\t0.12\n",
      "jet_pT_3 \t0.0\t0.0\t0.77\t0.03\t0.2\n",
      "jet_eta_3 \t0.0\t0.0\t0.2\t0.0\t0.05\n",
      "jet_phi_3 \t0.0\t0.0\t0.03\t0.0\t0.01\n",
      "jet_E_3 \t0.0\t0.0\t0.8\t0.04\t0.21\n",
      "jet_CvsB_3 \t0.0\t0.0\t0.27\t0.0\t0.07\n",
      "jet_pT_4 \t0.0\t0.0\t0.63\t0.01\t0.16\n",
      "jet_eta_4 \t0.0\t0.0\t0.57\t0.01\t0.14\n",
      "jet_phi_4 \t0.0\t0.0\t0.07\t0.0\t0.02\n",
      "jet_E_4 \t0.0\t0.0\t0.7\t0.02\t0.18\n",
      "jet_CvsB_4 \t0.0\t0.0\t0.43\t0.01\t0.11\n"
     ]
    }
   ],
   "source": [
    "print \"\\t\\t\", \"\\t\".join(methods)\n",
    "for name in colnames:\n",
    "    nameit = name\n",
    "    if len(name) == 3:\n",
    "        nameit += \"\\t\"\n",
    "    print nameit, \"\\t\",\"\\t\".join(map(str,[ranks[method][name] for method in methods]))"
   ]
  },
  {
   "cell_type": "code",
   "execution_count": 89,
   "metadata": {},
   "outputs": [],
   "source": [
    "# Put the mean scores into a Pandas dataframe\n",
    "meanplot = pd.DataFrame(list(r.items()), columns= ['Feature','Mean Ranking'])\n",
    "\n",
    "# Sort the dataframe\n",
    "meanplot = meanplot.sort_values('Mean Ranking', ascending=False)"
   ]
  },
  {
   "cell_type": "code",
   "execution_count": 90,
   "metadata": {},
   "outputs": [
    {
     "data": {
      "text/plain": [
       "<seaborn.axisgrid.FacetGrid at 0x7fc05cc1c690>"
      ]
     },
     "execution_count": 90,
     "metadata": {},
     "output_type": "execute_result"
    },
    {
     "data": {
      "image/png": "[encoded data removed]",
      "text/plain": [
       "<Figure size 1368x720 with 1 Axes>"
      ]
     },
     "metadata": {
      "needs_background": "light"
     },
     "output_type": "display_data"
    }
   ],
   "source": [
    "sns.factorplot(x=\"Mean Ranking\", y=\"Feature\", data = meanplot, kind=\"bar\", size=10, aspect=1.9, palette='coolwarm')"
   ]
  },
  {
   "cell_type": "code",
   "execution_count": 91,
   "metadata": {},
   "outputs": [],
   "source": [
    "X_train, X_valid, Y_train, Y_valid = train_test_split(train, y_pred, test_size = 0.2, random_state = 42)"
   ]
  },
  {
   "cell_type": "code",
   "execution_count": null,
   "metadata": {},
   "outputs": [],
   "source": [
    "len"
   ]
  },
  {
   "cell_type": "markdown",
   "metadata": {},
   "source": [
    "# Neural Networks"
   ]
  },
  {
   "cell_type": "code",
   "execution_count": 96,
   "metadata": {},
   "outputs": [],
   "source": [
    "model = Sequential()\n",
    "model.add(Dropout(0.13, input_shape=(X_train.shape[1],)))\n",
    "model.add(Dense(75))\n",
    "model.add(PReLU())\n",
    "\n",
    "model.add(Dropout(0.11))\n",
    "model.add(Dense(50))\n",
    "model.add(PReLU())\n",
    "\n",
    "model.add(Dropout(0.09))\n",
    "model.add(Dense(30))\n",
    "model.add(PReLU())\n",
    "\n",
    "model.add(Dropout(0.07))\n",
    "model.add(Dense(25))\n",
    "model.add(PReLU())\n",
    "\n",
    "model.add(Dense(2))\n",
    "model.add(Activation('sigmoid'))"
   ]
  },
  {
   "cell_type": "code",
   "execution_count": 97,
   "metadata": {},
   "outputs": [],
   "source": [
    "model.compile(loss='categorical_crossentropy', optimizer=keras.optimizers.SGD(lr=0.01, nesterov=True), metrics=['accuracy'])"
   ]
  },
  {
   "cell_type": "code",
   "execution_count": 98,
   "metadata": {},
   "outputs": [],
   "source": [
    "Y_train_nn = np_utils.to_categorical(Y_train)\n",
    "Y_valid_nn = np_utils.to_categorical(Y_valid)"
   ]
  },
  {
   "cell_type": "code",
   "execution_count": 99,
   "metadata": {},
   "outputs": [
    {
     "name": "stdout",
     "output_type": "stream",
     "text": [
      "Train on 12003 samples, validate on 3001 samples\n",
      "Epoch 1/70\n",
      " - 1s - loss: 0.6918 - acc: 0.5151 - val_loss: 0.6902 - val_acc: 0.5352\n",
      "Epoch 2/70\n",
      " - 0s - loss: 0.6901 - acc: 0.5178 - val_loss: 0.6886 - val_acc: 0.5395\n",
      "Epoch 3/70\n",
      " - 0s - loss: 0.6885 - acc: 0.5290 - val_loss: 0.6870 - val_acc: 0.5472\n",
      "Epoch 4/70\n",
      " - 0s - loss: 0.6862 - acc: 0.5440 - val_loss: 0.6852 - val_acc: 0.5531\n",
      "Epoch 5/70\n",
      " - 0s - loss: 0.6848 - acc: 0.5478 - val_loss: 0.6829 - val_acc: 0.5655\n",
      "Epoch 6/70\n",
      " - 1s - loss: 0.6820 - acc: 0.5582 - val_loss: 0.6801 - val_acc: 0.5718\n",
      "Epoch 7/70\n",
      " - 1s - loss: 0.6793 - acc: 0.5593 - val_loss: 0.6764 - val_acc: 0.5778\n",
      "Epoch 8/70\n",
      " - 1s - loss: 0.6772 - acc: 0.5744 - val_loss: 0.6725 - val_acc: 0.5848\n",
      "Epoch 9/70\n",
      " - 1s - loss: 0.6736 - acc: 0.5688 - val_loss: 0.6675 - val_acc: 0.5965\n",
      "Epoch 10/70\n",
      " - 0s - loss: 0.6683 - acc: 0.5869 - val_loss: 0.6612 - val_acc: 0.6055\n",
      "Epoch 11/70\n",
      " - 1s - loss: 0.6621 - acc: 0.5916 - val_loss: 0.6539 - val_acc: 0.6151\n",
      "Epoch 12/70\n",
      " - 0s - loss: 0.6553 - acc: 0.6028 - val_loss: 0.6457 - val_acc: 0.6365\n",
      "Epoch 13/70\n",
      " - 0s - loss: 0.6487 - acc: 0.6147 - val_loss: 0.6355 - val_acc: 0.6524\n",
      "Epoch 14/70\n",
      " - 1s - loss: 0.6399 - acc: 0.6268 - val_loss: 0.6237 - val_acc: 0.6658\n",
      "Epoch 15/70\n",
      " - 1s - loss: 0.6304 - acc: 0.6391 - val_loss: 0.6121 - val_acc: 0.6751\n",
      "Epoch 16/70\n",
      " - 0s - loss: 0.6178 - acc: 0.6569 - val_loss: 0.5980 - val_acc: 0.6924\n",
      "Epoch 17/70\n",
      " - 0s - loss: 0.6086 - acc: 0.6659 - val_loss: 0.5842 - val_acc: 0.7091\n",
      "Epoch 18/70\n",
      " - 0s - loss: 0.5963 - acc: 0.6821 - val_loss: 0.5715 - val_acc: 0.7241\n",
      "Epoch 19/70\n",
      " - 1s - loss: 0.5853 - acc: 0.7019 - val_loss: 0.5597 - val_acc: 0.7388\n",
      "Epoch 20/70\n",
      " - 0s - loss: 0.5762 - acc: 0.7121 - val_loss: 0.5504 - val_acc: 0.7464\n",
      "Epoch 21/70\n",
      " - 1s - loss: 0.5687 - acc: 0.7189 - val_loss: 0.5425 - val_acc: 0.7484\n",
      "Epoch 22/70\n",
      " - 1s - loss: 0.5558 - acc: 0.7297 - val_loss: 0.5305 - val_acc: 0.7711\n",
      "Epoch 23/70\n",
      " - 1s - loss: 0.5483 - acc: 0.7428 - val_loss: 0.5251 - val_acc: 0.7611\n",
      "Epoch 24/70\n",
      " - 0s - loss: 0.5411 - acc: 0.7527 - val_loss: 0.5137 - val_acc: 0.7744\n",
      "Epoch 25/70\n",
      " - 1s - loss: 0.5334 - acc: 0.7568 - val_loss: 0.5035 - val_acc: 0.7794\n",
      "Epoch 26/70\n",
      " - 0s - loss: 0.5256 - acc: 0.7716 - val_loss: 0.4916 - val_acc: 0.7887\n",
      "Epoch 27/70\n",
      " - 1s - loss: 0.5094 - acc: 0.7791 - val_loss: 0.4757 - val_acc: 0.8057\n",
      "Epoch 28/70\n",
      " - 0s - loss: 0.4947 - acc: 0.7934 - val_loss: 0.4577 - val_acc: 0.8241\n",
      "Epoch 29/70\n",
      " - 0s - loss: 0.4836 - acc: 0.8018 - val_loss: 0.4375 - val_acc: 0.8334\n",
      "Epoch 30/70\n",
      " - 0s - loss: 0.4693 - acc: 0.8162 - val_loss: 0.4161 - val_acc: 0.8421\n",
      "Epoch 31/70\n",
      " - 0s - loss: 0.4399 - acc: 0.8305 - val_loss: 0.3870 - val_acc: 0.8660\n",
      "Epoch 32/70\n",
      " - 0s - loss: 0.4157 - acc: 0.8483 - val_loss: 0.3532 - val_acc: 0.8820\n",
      "Epoch 33/70\n",
      " - 0s - loss: 0.3872 - acc: 0.8672 - val_loss: 0.3189 - val_acc: 0.9020\n",
      "Epoch 34/70\n",
      " - 0s - loss: 0.3670 - acc: 0.8749 - val_loss: 0.2872 - val_acc: 0.9154\n",
      "Epoch 35/70\n",
      " - 1s - loss: 0.3413 - acc: 0.8864 - val_loss: 0.2581 - val_acc: 0.9224\n",
      "Epoch 36/70\n",
      " - 0s - loss: 0.3096 - acc: 0.8999 - val_loss: 0.2314 - val_acc: 0.9317\n",
      "Epoch 37/70\n",
      " - 0s - loss: 0.2943 - acc: 0.9073 - val_loss: 0.2118 - val_acc: 0.9447\n",
      "Epoch 38/70\n",
      " - 0s - loss: 0.2755 - acc: 0.9142 - val_loss: 0.1989 - val_acc: 0.9450\n",
      "Epoch 39/70\n",
      " - 0s - loss: 0.2592 - acc: 0.9211 - val_loss: 0.1859 - val_acc: 0.9527\n",
      "Epoch 40/70\n",
      " - 0s - loss: 0.2500 - acc: 0.9251 - val_loss: 0.1775 - val_acc: 0.9523\n",
      "Epoch 41/70\n",
      " - 0s - loss: 0.2445 - acc: 0.9265 - val_loss: 0.1696 - val_acc: 0.9543\n",
      "Epoch 42/70\n",
      " - 1s - loss: 0.2323 - acc: 0.9313 - val_loss: 0.1663 - val_acc: 0.9543\n",
      "Epoch 43/70\n",
      " - 1s - loss: 0.2275 - acc: 0.9354 - val_loss: 0.1637 - val_acc: 0.9557\n",
      "Epoch 44/70\n",
      " - 1s - loss: 0.2207 - acc: 0.9367 - val_loss: 0.1612 - val_acc: 0.9567\n",
      "Epoch 45/70\n",
      " - 1s - loss: 0.2249 - acc: 0.9343 - val_loss: 0.1602 - val_acc: 0.9563\n",
      "Epoch 46/70\n",
      " - 0s - loss: 0.2201 - acc: 0.9363 - val_loss: 0.1567 - val_acc: 0.9567\n",
      "Epoch 47/70\n",
      " - 0s - loss: 0.2148 - acc: 0.9391 - val_loss: 0.1546 - val_acc: 0.9573\n",
      "Epoch 48/70\n",
      " - 0s - loss: 0.2166 - acc: 0.9385 - val_loss: 0.1560 - val_acc: 0.9570\n",
      "Epoch 49/70\n",
      " - 0s - loss: 0.2142 - acc: 0.9388 - val_loss: 0.1552 - val_acc: 0.9573\n",
      "Epoch 50/70\n",
      " - 0s - loss: 0.2028 - acc: 0.9438 - val_loss: 0.1522 - val_acc: 0.9573\n",
      "Epoch 51/70\n",
      " - 0s - loss: 0.2063 - acc: 0.9421 - val_loss: 0.1511 - val_acc: 0.9570\n",
      "Epoch 52/70\n",
      " - 0s - loss: 0.1981 - acc: 0.9444 - val_loss: 0.1538 - val_acc: 0.9573\n",
      "Epoch 53/70\n",
      " - 0s - loss: 0.2051 - acc: 0.9415 - val_loss: 0.1517 - val_acc: 0.9573\n",
      "Epoch 54/70\n",
      " - 0s - loss: 0.1975 - acc: 0.9453 - val_loss: 0.1498 - val_acc: 0.9570\n",
      "Epoch 55/70\n",
      " - 0s - loss: 0.2039 - acc: 0.9434 - val_loss: 0.1507 - val_acc: 0.9573\n",
      "Epoch 56/70\n",
      " - 0s - loss: 0.1944 - acc: 0.9458 - val_loss: 0.1511 - val_acc: 0.9577\n",
      "Epoch 57/70\n",
      " - 0s - loss: 0.1964 - acc: 0.9449 - val_loss: 0.1598 - val_acc: 0.9573\n",
      "Epoch 58/70\n",
      " - 0s - loss: 0.1890 - acc: 0.9473 - val_loss: 0.1493 - val_acc: 0.9573\n",
      "Epoch 59/70\n",
      " - 0s - loss: 0.1947 - acc: 0.9454 - val_loss: 0.1475 - val_acc: 0.9573\n",
      "Epoch 60/70\n",
      " - 0s - loss: 0.1913 - acc: 0.9456 - val_loss: 0.1531 - val_acc: 0.9573\n",
      "Epoch 61/70\n",
      " - 0s - loss: 0.1907 - acc: 0.9465 - val_loss: 0.1484 - val_acc: 0.9573\n",
      "Epoch 62/70\n",
      " - 1s - loss: 0.1845 - acc: 0.9475 - val_loss: 0.1493 - val_acc: 0.9577\n",
      "Epoch 63/70\n",
      " - 0s - loss: 0.1921 - acc: 0.9468 - val_loss: 0.1480 - val_acc: 0.9573\n",
      "Epoch 64/70\n",
      " - 0s - loss: 0.1948 - acc: 0.9451 - val_loss: 0.1474 - val_acc: 0.9577\n",
      "Epoch 65/70\n",
      " - 0s - loss: 0.1861 - acc: 0.9478 - val_loss: 0.1468 - val_acc: 0.9577\n",
      "Epoch 66/70\n",
      " - 0s - loss: 0.1924 - acc: 0.9461 - val_loss: 0.1467 - val_acc: 0.9577\n",
      "Epoch 67/70\n",
      " - 0s - loss: 0.1843 - acc: 0.9485 - val_loss: 0.1471 - val_acc: 0.9573\n",
      "Epoch 68/70\n",
      " - 1s - loss: 0.1877 - acc: 0.9481 - val_loss: 0.1504 - val_acc: 0.9573\n",
      "Epoch 69/70\n",
      " - 0s - loss: 0.1838 - acc: 0.9485 - val_loss: 0.1465 - val_acc: 0.9577\n",
      "Epoch 70/70\n",
      " - 0s - loss: 0.1826 - acc: 0.9497 - val_loss: 0.1465 - val_acc: 0.9577\n"
     ]
    },
    {
     "data": {
      "text/plain": [
       "<keras.callbacks.History at 0x7fc032cdbe50>"
      ]
     },
     "execution_count": 99,
     "metadata": {},
     "output_type": "execute_result"
    }
   ],
   "source": [
    "model.fit(X_train, Y_train_nn, batch_size=64, epochs=70, verbose=2, shuffle=True, validation_data = (X_valid, Y_valid_nn))"
   ]
  },
  {
   "cell_type": "markdown",
   "metadata": {},
   "source": [
    "# Gradient Boosting"
   ]
  },
  {
   "cell_type": "code",
   "execution_count": 100,
   "metadata": {},
   "outputs": [],
   "source": [
    "Y_train = np.array(Y_train)\n",
    "Y_valid = np.array(Y_valid)\n",
    "xgb = XGBRegressor()"
   ]
  },
  {
   "cell_type": "code",
   "execution_count": 101,
   "metadata": {},
   "outputs": [],
   "source": [
    "params={\n",
    "    'objective': 'binary:logistic',\n",
    "    'learning_rate': 0.1,\n",
    "    'max_depth':5,\n",
    "    'gamma': 0.3,\n",
    "    'min_child_weight':1,\n",
    "    'subsample': 0.8,\n",
    "    'colsample_bytree': 0.8,\n",
    "    'n_estimators': 1000,\n",
    "}"
   ]
  },
  {
   "cell_type": "code",
   "execution_count": 102,
   "metadata": {},
   "outputs": [],
   "source": [
    "# grs = GridSearchCV(xgb, param_grid=params, cv=2, n_jobs=4, verbose=2)\n",
    "# grs.fit(X_train, Y_train, eval_set=[(X_valid, Y_valid)], verbose=False)\n",
    "\n",
    "# print(\"Best parameters \" + str(grs.best_params_))\n",
    "# gpd = pd.DataFrame(grs.cv_results_)\n",
    "# print(\"Estimated accuracy of this model for unseen data: {0:1.4f}\".format(gpd['mean_test_score'][grs.best_index_]))"
   ]
  },
  {
   "cell_type": "code",
   "execution_count": 103,
   "metadata": {},
   "outputs": [],
   "source": [
    "my_model = XGBRegressor(\n",
    "    objective = 'binary:logistic',\n",
    "    learning_rate = 0.1,\n",
    "    max_depth = 5,\n",
    "    gamma = 0,\n",
    "    min_child_weight = 1,\n",
    "    subsample = 0.8,\n",
    "    colsample_bytree = 0.8,\n",
    "    n_estimators = 1000,\n",
    "    silent = 1\n",
    ")"
   ]
  },
  {
   "cell_type": "code",
   "execution_count": 104,
   "metadata": {},
   "outputs": [
    {
     "data": {
      "text/plain": [
       "XGBRegressor(base_score=0.5, booster='gbtree', colsample_bylevel=1,\n",
       "       colsample_bytree=0.8, gamma=0, learning_rate=0.1, max_delta_step=0,\n",
       "       max_depth=5, min_child_weight=1, missing=None, n_estimators=1000,\n",
       "       n_jobs=1, nthread=None, objective='binary:logistic', random_state=0,\n",
       "       reg_alpha=0, reg_lambda=1, scale_pos_weight=1, seed=None, silent=1,\n",
       "       subsample=0.8)"
      ]
     },
     "execution_count": 104,
     "metadata": {},
     "output_type": "execute_result"
    }
   ],
   "source": [
    "my_model.fit(X_train, Y_train, eval_set=[(X_valid, Y_valid)], verbose=False)"
   ]
  },
  {
   "cell_type": "code",
   "execution_count": 105,
   "metadata": {},
   "outputs": [],
   "source": [
    "a = my_model.predict(X_valid)"
   ]
  },
  {
   "cell_type": "code",
   "execution_count": 106,
   "metadata": {},
   "outputs": [],
   "source": [
    "Y_valid = np.array(Y_valid)"
   ]
  },
  {
   "cell_type": "code",
   "execution_count": 107,
   "metadata": {},
   "outputs": [
    {
     "name": "stdout",
     "output_type": "stream",
     "text": [
      "Accuracy for Gradient Boosting: 95.73\n"
     ]
    }
   ],
   "source": [
    "print(\"Accuracy for Gradient Boosting: %.2f\" % (accuracy_score(Y_valid, a.round()) * 100))"
   ]
  },
  {
   "cell_type": "markdown",
   "metadata": {},
   "source": [
    "# Random Forest"
   ]
  },
  {
   "cell_type": "code",
   "execution_count": 108,
   "metadata": {},
   "outputs": [
    {
     "data": {
      "text/plain": [
       "RandomForestClassifier(bootstrap=True, class_weight=None, criterion='gini',\n",
       "            max_depth=11, max_features=15, max_leaf_nodes=None,\n",
       "            min_impurity_decrease=0.0, min_impurity_split=None,\n",
       "            min_samples_leaf=1, min_samples_split=2,\n",
       "            min_weight_fraction_leaf=0.0, n_estimators=100, n_jobs=None,\n",
       "            oob_score=False, random_state=1, verbose=0, warm_start=False)"
      ]
     },
     "execution_count": 108,
     "metadata": {},
     "output_type": "execute_result"
    }
   ],
   "source": [
    "rf = RandomForestClassifier(n_estimators=100, max_features=15, max_depth=11, random_state=1)\n",
    "rf.fit(X_train, Y_train)"
   ]
  },
  {
   "cell_type": "code",
   "execution_count": 109,
   "metadata": {},
   "outputs": [
    {
     "name": "stdout",
     "output_type": "stream",
     "text": [
      "Accuracy for Random Forest: 95.77\n"
     ]
    }
   ],
   "source": [
    "r = rf.predict(X_valid)\n",
    "Y_valid = np.array(Y_valid)\n",
    "print(\"Accuracy for Random Forest: %.2f\" % (accuracy_score(Y_valid, r.round()) * 100))"
   ]
  },
  {
   "cell_type": "code",
   "execution_count": 110,
   "metadata": {},
   "outputs": [
    {
     "name": "stdout",
     "output_type": "stream",
     "text": [
      "Training Accuracy for Random Forest: 96.47\n"
     ]
    }
   ],
   "source": [
    "r_train = rf.predict(X_train)\n",
    "Y_train = np.array(Y_train)\n",
    "print(\"Training Accuracy for Random Forest: %.2f\" % (accuracy_score(Y_train, r_train.round()) * 100))"
   ]
  }
 ],
 "metadata": {
  "kernelspec": {
   "display_name": "Python 2",
   "language": "python",
   "name": "python2"
  },
  "language_info": {
   "codemirror_mode": {
    "name": "ipython",
    "version": 2
   },
   "file_extension": ".py",
   "mimetype": "text/x-python",
   "name": "python",
   "nbconvert_exporter": "python",
   "pygments_lexer": "ipython2",
   "version": "2.7.12"
  }
 },
 "nbformat": 4,
 "nbformat_minor": 2
}
