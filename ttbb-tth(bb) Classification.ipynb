{
 "cells": [
  {
   "cell_type": "code",
   "execution_count": 53,
   "metadata": {},
   "outputs": [],
   "source": [
    "#Run this cell twice to ensure all libraries are imported\n",
    "from ROOT import *\n",
    "from root_numpy import tree2array\n",
    "from ROOT import TFile\n",
    "import pandas as pd\n",
    "import numpy as np\n",
    "import deepdish.io as io\n",
    "from sklearn.preprocessing import StandardScaler, MinMaxScaler\n",
    "from sklearn.model_selection import GridSearchCV, train_test_split\n",
    "import keras\n",
    "from keras.models import Sequential, load_model\n",
    "from sklearn.externals import joblib\n",
    "from keras.layers.core import Dense, Activation, Dropout\n",
    "from keras.layers.advanced_activations import PReLU\n",
    "from keras.utils import np_utils\n",
    "from sklearn.metrics import accuracy_score, roc_auc_score, precision_score, recall_score, f1_score, roc_curve, auc, confusion_matrix\n",
    "from sklearn.ensemble import RandomForestClassifier\n",
    "from xgboost import XGBRegressor\n",
    "from sklearn.feature_selection import RFE, f_regression\n",
    "from sklearn.linear_model import LinearRegression, Ridge, Lasso, RandomizedLasso\n",
    "import os\n",
    "import math\n",
    "import seaborn as sns\n",
    "import matplotlib.pyplot as plt\n",
    "import tensorflow as tf\n",
    "from scipy.stats import ks_2samp"
   ]
  },
  {
   "cell_type": "markdown",
   "metadata": {},
   "source": [
    "### GPU Settings"
   ]
  },
  {
   "cell_type": "code",
   "execution_count": 5,
   "metadata": {},
   "outputs": [
    {
     "name": "stderr",
     "output_type": "stream",
     "text": [
      "2018-11-30 11:24:48.057082: I tensorflow/core/platform/cpu_feature_guard.cc:141] Your CPU supports instructions that this TensorFlow binary was not compiled to use: AVX2 FMA\n",
      "2018-11-30 11:24:48.976253: I tensorflow/core/common_runtime/gpu/gpu_device.cc:1432] Found device 0 with properties: \n",
      "name: TITAN Xp major: 6 minor: 1 memoryClockRate(GHz): 1.582\n",
      "pciBusID: 0000:02:00.0\n",
      "totalMemory: 11.90GiB freeMemory: 11.74GiB\n",
      "2018-11-30 11:24:48.976304: I tensorflow/core/common_runtime/gpu/gpu_device.cc:1511] Adding visible gpu devices: 0\n",
      "2018-11-30 11:24:49.296521: I tensorflow/core/common_runtime/gpu/gpu_device.cc:982] Device interconnect StreamExecutor with strength 1 edge matrix:\n",
      "2018-11-30 11:24:49.296561: I tensorflow/core/common_runtime/gpu/gpu_device.cc:988]      0 \n",
      "2018-11-30 11:24:49.296566: I tensorflow/core/common_runtime/gpu/gpu_device.cc:1001] 0:   N \n",
      "2018-11-30 11:24:49.296828: I tensorflow/core/common_runtime/gpu/gpu_device.cc:1115] Created TensorFlow device (/job:localhost/replica:0/task:0/device:GPU:0 with 3656 MB memory) -> physical GPU (device: 0, name: TITAN Xp, pci bus id: 0000:02:00.0, compute capability: 6.1)\n"
     ]
    }
   ],
   "source": [
    "gpu_options = tf.GPUOptions(per_process_gpu_memory_fraction=0.3)\n",
    "sess = tf.Session(config=tf.ConfigProto(gpu_options=gpu_options))"
   ]
  },
  {
   "cell_type": "markdown",
   "metadata": {},
   "source": [
    "# 1. Data Import And Processing"
   ]
  },
  {
   "cell_type": "markdown",
   "metadata": {},
   "source": [
    "*ttHbb_PowhegPythia.root:* ttHbb Data\n",
    "\n",
    "*TTLJ_PowhegPythia_ttbb.root:* ttbb Data"
   ]
  },
  {
   "cell_type": "code",
   "execution_count": 3,
   "metadata": {},
   "outputs": [],
   "source": [
    "data = TFile.Open(\"/home/minerva1993/public/v808/nosplit/ttHbb_PowhegPythia.root\")\n",
    "data2 = TFile.Open(\"/home/minerva1993/public/v808/nosplit/TTLJ_PowhegPythia_ttbb.root\")\n",
    "tree = data.Get(\"ttbbLepJets/tree\")\n",
    "tree2 = data2.Get(\"ttbbLepJets/tree\")"
   ]
  },
  {
   "cell_type": "markdown",
   "metadata": {},
   "source": [
    "### 1.1 Transfer ROOT File to CSV"
   ]
  },
  {
   "cell_type": "code",
   "execution_count": 5,
   "metadata": {},
   "outputs": [],
   "source": [
    "def tree_to_df(tree, branch_names=[], index_name='', drop_roofit_labels=False):\n",
    "    if tree is None:\n",
    "        return None\n",
    "\n",
    "    branch_list = tree.GetListOfBranches()\n",
    "    all_branch_names = [branch_list.At(i).GetName() for i in range(branch_list.GetEntries())]\n",
    "    if len(branch_names) == 0:\n",
    "        branch_names = all_branch_names\n",
    "    for bn in branch_names[:]:\n",
    "        if bn not in all_branch_names:\n",
    "            branch_names.remove(bn)\n",
    "        if drop_roofit_labels:\n",
    "            if bn.endswith('_lbl'):\n",
    "                branch_names.remove(bn)\n",
    "\n",
    "    arrs = tree2array(tree, branch_names, start = 0, stop = 40000)\n",
    "    #Stop at 40000 data points\n",
    "    df = pd.DataFrame(arrs)\n",
    "\n",
    "    if len(index_name) == 0:\n",
    "        for col in df.columns:\n",
    "            if col.startswith('__index__'):\n",
    "                index_name = col\n",
    "                break\n",
    "    if len(index_name):\n",
    "        try:\n",
    "            df[index_name] = df[index_name].astype(np.int32)\n",
    "            df.set_index(index_name, inplace=True)\n",
    "        except BaseException:\n",
    "            pass\n",
    "\n",
    "    if drop_roofit_labels:\n",
    "        df.columns = [col.replace('_idx', '') for col in df.columns]\n",
    "\n",
    "    n_tree = tree.GetEntries()\n",
    "    n_df = len(df.index)\n",
    "\n",
    "    return df "
   ]
  },
  {
   "cell_type": "code",
   "execution_count": 6,
   "metadata": {},
   "outputs": [],
   "source": [
    "dftree = tree_to_df(tree)\n",
    "#dftree - ttHbb\n",
    "dftree_bg = tree_to_df(tree2)\n",
    "#dftree_bg - TTLJ"
   ]
  },
  {
   "cell_type": "markdown",
   "metadata": {},
   "source": [
    "### 1.2 Import Trained Model Weights"
   ]
  },
  {
   "cell_type": "markdown",
   "metadata": {},
   "source": [
    "> *jet_selection.h5*: The neural network model for Higgs pair selection\n",
    "\n",
    "> *jet_randomforest.h5*: The random forest model for Higgs pair selection\n",
    "\n",
    "> *scaler.save*: Standard scaler used for prediction data"
   ]
  },
  {
   "cell_type": "code",
   "execution_count": 8,
   "metadata": {},
   "outputs": [],
   "source": [
    "jet_selection = joblib.load('jet_selection.h5')\n",
    "jet_scaler = joblib.load('scaler.save')\n",
    "jet_rf = joblib.load('jet_randomforest.h5')"
   ]
  },
  {
   "cell_type": "markdown",
   "metadata": {},
   "source": [
    "### 1.3 Data Pre-processing"
   ]
  },
  {
   "cell_type": "code",
   "execution_count": 10,
   "metadata": {},
   "outputs": [],
   "source": [
    "#Select the proper Higgs pair from jet\n",
    "def select_jet(df):\n",
    "    \n",
    "    columns = ['draddjets','lepton_pT','lepton_eta','lepton_E','MET','MET_phi','jet_number','event_weight','delta_phi','delta_eta','delta_R','invmass','lepton_delta_R_1','lepton_delta_eta_1','H']\n",
    "    \n",
    "    for t in range(1,3):\n",
    "        for i in ['jet_pT','jet_eta','jet_E','jet_CvsB']:\n",
    "            columns.append(i+'_'+str(t))\n",
    "    \n",
    "    overall = []\n",
    "    available_jets = []\n",
    "\n",
    "    #append all the invariant columns\n",
    "    invariants = []\n",
    "\n",
    "    for t in ['draddjets','lepton_pT','lepton_eta','lepton_E','MET','MET_phi','jet_number']:\n",
    "        invariants.append(df[t][0])\n",
    "\n",
    "    product = df['lepton_SF'][0][0] * df['jet_SF_CSV_30'][0][0] * df['PUWeight'][0][0] * df['genweight'][0]\n",
    "    invariants.append(product)\n",
    "\n",
    "    #Loop over possible combinations\n",
    "    for t in range(len(df['jet_pT'][0]) - 1):\n",
    "        for m in range(t+1, len(df['jet_pT'][0])):\n",
    "\n",
    "            #initialize variant data column\n",
    "            variants = []\n",
    "\n",
    "            #set the jet pair\n",
    "            jet_pair = (t, m)\n",
    "\n",
    "            #Delta_phi, delta_eta and delta_R\n",
    "            x = df['jet_phi'][0][jet_pair[0]] - df['jet_phi'][0][jet_pair[1]]\n",
    "            delta_phi = process_delta_phi(x)\n",
    "            delta_eta = df['jet_eta'][0][jet_pair[0]] - df['jet_eta'][0][jet_pair[1]]\n",
    "            delta_R = math.sqrt(delta_phi**2 + delta_eta**2)\n",
    "\n",
    "            #invmass\n",
    "            pt1, pt2 = math.fabs(df['jet_pT'][0][jet_pair[0]]), math.fabs(df['jet_pT'][0][jet_pair[1]])\n",
    "            pX1, pX2 = pt1 * math.cos(df['jet_phi'][0][jet_pair[0]]), pt2 * math.cos(df['jet_phi'][0][jet_pair[1]])\n",
    "            pY1, pY2 = pt1 * math.sin(df['jet_phi'][0][jet_pair[0]]), pt2 * math.sin(df['jet_phi'][0][jet_pair[1]])\n",
    "            pZ1, pZ2 = pt1 / math.tan(2.0 * math.atan(math.exp(-df['jet_eta'][0][jet_pair[0]]))), pt2 / math.tan(2.0 * math.atan(math.exp(-df['jet_eta'][0][jet_pair[1]])))\n",
    "            invmass = math.sqrt((df['jet_E'][0][jet_pair[0]] + df['jet_E'][0][jet_pair[1]])**2 - (pX1 + pX2)**2 - (pY1 + pY2)**2 - (pZ1 + pZ2)**2)\n",
    "\n",
    "            #H\n",
    "            H = df['jet_pT'][0][jet_pair[0]] + df['jet_pT'][0][jet_pair[1]] + df['lepton_pT'][0]\n",
    "\n",
    "            #delta_lepton_R\n",
    "            y_1 = df['jet_phi'][0][jet_pair[0]] - df['lepton_phi'][0]\n",
    "            delta_phi_lep_1 = process_delta_phi(y_1)\n",
    "            delta_eta_lep_1 = df['jet_eta'][0][jet_pair[0]] - df['lepton_eta'][0]\n",
    "            delta_R_lep_1 = math.sqrt(delta_phi_lep_1**2 + delta_eta_lep_1**2)\n",
    "            \n",
    "            y_2 = df['jet_phi'][0][jet_pair[1]] - df['lepton_phi'][0]\n",
    "            delta_phi_lep_2 = process_delta_phi(y_2)\n",
    "            delta_eta_lep_2 = df['jet_eta'][0][jet_pair[1]] - df['lepton_eta'][0]\n",
    "            delta_R_lep_2 = math.sqrt(delta_phi_lep_2**2 + delta_eta_lep_2**2)\n",
    "\n",
    "            variants += [delta_phi, delta_eta, delta_R, invmass, delta_R_lep_1, delta_eta_lep_1, delta_R_lep_2, delta_eta_lep_2, H]\n",
    "            \n",
    "            for n in [t, m]:\n",
    "                for k in ['jet_pT','jet_eta','jet_E','jet_CvsB']:\n",
    "                    variants += [df[k][0][n]]\n",
    "\n",
    "            overall.append(invariants + variants)\n",
    "            available_jets.append((t,m))\n",
    "    \n",
    "    #scale data\n",
    "    overall = jet_scaler.transform(overall)\n",
    "    #get prediction from both neural networks and random forest\n",
    "    prediction = jet_selection.predict(overall)\n",
    "    prediction_rf = jet_rf.predict(overall)\n",
    "    #The final prediction is made with combined result from NN (80%) and random forest (20%)\n",
    "    result = [prediction[k][1] * (1 + 0.2 * prediction_rf[k]) for k in range(len(prediction))]\n",
    "    \n",
    "    return available_jets[result.index(max(result))]"
   ]
  },
  {
   "cell_type": "code",
   "execution_count": 14,
   "metadata": {},
   "outputs": [],
   "source": [
    "#Calculate delta phi\n",
    "def process_delta_phi(x):\n",
    "    if x > math.pi:\n",
    "        delta_phi = x - 2*math.pi\n",
    "    elif x < -math.pi:\n",
    "        delta_phi = x + 2*math.pi\n",
    "    else:\n",
    "        delta_phi = x\n",
    "    return delta_phi\n",
    "\n",
    "#Process entire dataset\n",
    "def process(df):\n",
    "    columns = ['draddjets','lepton_eta','MET_phi','delta_phi','delta_eta','delta_R','invmass','lepton_delta_R_1','lepton_delta_eta_1','lepton_delta_R_2','lepton_delta_eta_2','H']\n",
    "    \n",
    "    for t in range(1,5):\n",
    "        for i in ['jet_pT','jet_eta','jet_E','jet_CvsB']:\n",
    "            columns.append(i+'_'+str(t))\n",
    "    \n",
    "    end = []\n",
    "    \n",
    "    for i in range(len(df['lepton_SF'])):\n",
    "        if df['jet_number'][i] >= 6 and df['jet_CSV'][i][2] > 0.8:\n",
    "            #Check whether the event has over 6 b-jets\n",
    "            checked = 0\n",
    "            for m in range(df['jet_number'][i]):\n",
    "                if df['jet_pT'][i][m] > 20 and np.abs(df['jet_eta'][i][m]) < 2.4:\n",
    "                    checked += 1\n",
    "            if checked < 6:\n",
    "                continue\n",
    "\n",
    "            parts = []\n",
    "            for t in ['draddjets','lepton_eta','MET_phi']:\n",
    "                parts.append(df[t][i])\n",
    "            \n",
    "            #Select the jet pair that is the most likely to be the Higgs\n",
    "            jet_pair = select_jet(df[i:i+1].reset_index())\n",
    "            \n",
    "            #Delta_phi, Delta_eta, Delta_R\n",
    "            x = df['jet_phi'][i][jet_pair[0]] - df['jet_phi'][i][jet_pair[1]]\n",
    "            delta_phi = process_delta_phi(x)\n",
    "            delta_eta = df['jet_eta'][i][jet_pair[0]] - df['jet_eta'][i][jet_pair[1]]\n",
    "            delta_R = math.sqrt(delta_phi**2 + delta_eta**2)\n",
    "            \n",
    "            #invmass\n",
    "            pt1, pt2 = math.fabs(df['jet_pT'][i][jet_pair[0]]), math.fabs(df['jet_pT'][i][jet_pair[1]])\n",
    "            pX1, pX2 = pt1 * math.cos(df['jet_phi'][i][jet_pair[0]]), pt2 * math.cos(df['jet_phi'][i][jet_pair[1]])\n",
    "            pY1, pY2 = pt1 * math.sin(df['jet_phi'][i][jet_pair[0]]), pt2 * math.sin(df['jet_phi'][i][jet_pair[1]])\n",
    "            pZ1, pZ2 = pt1 / math.tan(2.0 * math.atan(math.exp(-df['jet_eta'][i][jet_pair[0]]))), pt2 / math.tan(2.0 * math.atan(math.exp(-df['jet_eta'][i][jet_pair[1]])))\n",
    "            invmass = math.sqrt((df['jet_E'][i][jet_pair[0]] + df['jet_E'][i][jet_pair[1]])**2 - (pX1 + pX2)**2 - (pY1 + pY2)**2 - (pZ1 + pZ2)**2)\n",
    "            \n",
    "            #H\n",
    "            H = df['jet_pT'][i][jet_pair[0]] + df['jet_pT'][i][jet_pair[1]] + df['lepton_pT'][i]\n",
    "            \n",
    "            #delta R between lepton and the first particle in the jet pair\n",
    "            y_1 = df['jet_phi'][i][jet_pair[0]] - df['lepton_phi'][i]\n",
    "            delta_phi_lep_1 = process_delta_phi(y_1)\n",
    "            delta_eta_lep_1 = df['jet_eta'][i][jet_pair[0]] - df['lepton_eta'][i]\n",
    "            delta_R_lep_1 = math.sqrt(delta_phi_lep_1**2 + delta_eta_lep_1**2)\n",
    "            \n",
    "            #delta R between lepton and the second particle in the jet pair\n",
    "            y_2 = df['jet_phi'][i][jet_pair[1]] - df['lepton_phi'][i]\n",
    "            delta_phi_lep_2 = process_delta_phi(y_2)\n",
    "            delta_eta_lep_2 = df['jet_eta'][i][jet_pair[1]] - df['lepton_eta'][i]\n",
    "            delta_R_lep_2 = math.sqrt(delta_phi_lep_2**2 + delta_eta_lep_2**2)\n",
    "            \n",
    "            #Combine all together\n",
    "            parts += [delta_phi, delta_eta, delta_R, invmass, delta_R_lep_1, delta_eta_lep_1, delta_R_lep_2, delta_eta_lep_2, H]\n",
    "            \n",
    "            for t in range(len(df['jet_pT'][i])):\n",
    "                passed = True\n",
    "                partial = []\n",
    "                for k in ['jet_pT','jet_eta','jet_E','jet_CvsB']:\n",
    "                    if k == 'jet_pT':\n",
    "                        if df[k][i][t] < 30:\n",
    "                            passed = False\n",
    "                            break\n",
    "                    elif k == 'jet_eta':\n",
    "                        if df[k][i][t] > 2.4 or df[k][i][t] < -2.4:\n",
    "                            passed = False\n",
    "                            break\n",
    "                    partial.append(df[k][i][t])\n",
    "                \n",
    "                if passed:\n",
    "                    parts += partial\n",
    "                    \n",
    "                if len(parts) == len(columns):\n",
    "                    break\n",
    "                    \n",
    "            end.append(parts)\n",
    "            \n",
    "    print \"Column Length: \", len(end[0])\n",
    "    print \"Fixed Length: \", len(columns)\n",
    "    train_tree = pd.DataFrame(end, columns=columns)\n",
    "    return train_tree"
   ]
  },
  {
   "cell_type": "markdown",
   "metadata": {},
   "source": [
    "_The following commented code is for testing the accuracy of the jet selection model. Feel free to uncommented to see the accuracy_"
   ]
  },
  {
   "cell_type": "code",
   "execution_count": 11,
   "metadata": {},
   "outputs": [],
   "source": [
    "# def calculate_delta_R(phi_1, phi_2, eta_1, eta_2):\n",
    "#     x = phi_1 - phi_2\n",
    "#     delta_phi = process_delta_phi(x)\n",
    "#     delta_eta = eta_1 - eta_2\n",
    "#     return math.sqrt(delta_phi**2 + delta_eta**2)\n",
    "\n",
    "# overall = [[],[],[]]\n",
    "\n",
    "# for i in range(len(dftree_bg['lepton_SF'])):\n",
    "#     if dftree_bg['jet_number'][i] >= 6 and dftree_bg['jet_CSV'][i][2] > 0.8:\n",
    "#         checked = 0\n",
    "#         for m in range(dftree_bg['jet_number'][i]):\n",
    "#             if dftree_bg['jet_pT'][i][m] > 20 and np.abs(dftree_bg['jet_eta'][i][m]) < 2.4:\n",
    "#                 checked += 1\n",
    "#         if checked < 6:\n",
    "#             continue\n",
    "\n",
    "#         sets = select_jet(dftree_bg[i:i+1].reset_index())\n",
    "#         for ind in range(len(sets)):\n",
    "#             t = sets[ind]\n",
    "#             phi_1, phi_2 = dftree_bg['jet_phi'][i][t[0]], dftree_bg['jet_phi'][i][t[1]]\n",
    "#             mt_phi_1, mt_phi_2 = dftree_bg['addbjet1_phi'][i], dftree_bg['addbjet2_phi'][i]\n",
    "#             eta_1, eta_2 = dftree_bg['jet_eta'][i][t[0]], dftree_bg['jet_eta'][i][t[1]]\n",
    "#             mt_eta_1, mt_eta_2 = dftree_bg['addbjet1_eta'][i], dftree_bg['addbjet2_eta'][i]\n",
    "\n",
    "#             dR_11 = calculate_delta_R(phi_1, mt_phi_1, eta_1, mt_eta_1)\n",
    "#             dR_12 = calculate_delta_R(phi_1, mt_phi_2, eta_1, mt_eta_2)\n",
    "#             dR_21 = calculate_delta_R(phi_2, mt_phi_1, eta_2, mt_eta_1)\n",
    "#             dR_22 = calculate_delta_R(phi_2, mt_phi_2, eta_2, mt_eta_2)\n",
    "            \n",
    "#             overall[ind].append((dR_11 < 0.4 or dR_12 < 0.4) and (dR_21 < 0.4 or dR_22 < 0.4))"
   ]
  },
  {
   "cell_type": "code",
   "execution_count": 12,
   "metadata": {},
   "outputs": [],
   "source": [
    "# nmatched = [0,0,0]\n",
    "# for t in range(len(overall)):\n",
    "#     for m in overall[t]:\n",
    "#         if m:\n",
    "#             nmatched[t] += 1\n",
    "# print(float(nmatched[0])/len(overall[0]))\n",
    "# print(float(nmatched[1])/len(overall[0]))\n",
    "# print(float(nmatched[2])/len(overall[0]))"
   ]
  },
  {
   "cell_type": "code",
   "execution_count": 15,
   "metadata": {},
   "outputs": [
    {
     "name": "stdout",
     "output_type": "stream",
     "text": [
      "Column Length:  28\n",
      "Fixed Length:  28\n"
     ]
    }
   ],
   "source": [
    "train_tree = process(dftree)"
   ]
  },
  {
   "cell_type": "code",
   "execution_count": 16,
   "metadata": {},
   "outputs": [
    {
     "name": "stdout",
     "output_type": "stream",
     "text": [
      "Column Length:  28\n",
      "Fixed Length:  28\n"
     ]
    }
   ],
   "source": [
    "train_tree_2 = process(dftree_bg)"
   ]
  },
  {
   "cell_type": "code",
   "execution_count": 17,
   "metadata": {},
   "outputs": [],
   "source": [
    "#train_tree carries the signal data, which are all labeled 1\n",
    "train_tree['result'] = [1 for i in range(len(train_tree))]"
   ]
  },
  {
   "cell_type": "code",
   "execution_count": 18,
   "metadata": {},
   "outputs": [],
   "source": [
    "#train_tree_2 carries the background data, which are all labeled 0\n",
    "train_tree_2['result'] = np.zeros(len(train_tree_2))"
   ]
  },
  {
   "cell_type": "code",
   "execution_count": 19,
   "metadata": {
    "scrolled": false
   },
   "outputs": [],
   "source": [
    "full_train_res = train_tree.append(train_tree_2, ignore_index=True)"
   ]
  },
  {
   "cell_type": "markdown",
   "metadata": {},
   "source": [
    "_Export the processed dataset into csv file_"
   ]
  },
  {
   "cell_type": "code",
   "execution_count": 65,
   "metadata": {},
   "outputs": [],
   "source": [
    "# full_train_res.to_csv('../HYU_data/full_train_res.csv',sep = '\\t')"
   ]
  },
  {
   "cell_type": "markdown",
   "metadata": {},
   "source": [
    "_Import the previously stored dataset_"
   ]
  },
  {
   "cell_type": "code",
   "execution_count": 7,
   "metadata": {},
   "outputs": [],
   "source": [
    "#Directly read data\n",
    "\n",
    "full_train_res = pd.read_csv('../HYU_data/full_train_res.csv', sep='\\t',index_col=0)\n",
    "train_tree = full_train_res[full_train_res['result'] == 1]\n",
    "train_tree_2 = full_train_res[full_train_res['result'] == 0]"
   ]
  },
  {
   "cell_type": "markdown",
   "metadata": {},
   "source": [
    "_Separate the Y and X columns_"
   ]
  },
  {
   "cell_type": "code",
   "execution_count": 8,
   "metadata": {},
   "outputs": [],
   "source": [
    "y_pred = full_train_res['result']\n",
    "full_train = full_train_res.drop('result',1)"
   ]
  },
  {
   "cell_type": "code",
   "execution_count": 9,
   "metadata": {},
   "outputs": [],
   "source": [
    "#Standard Scaler\n",
    "def preprocess_data(X, scaler=None):\n",
    "    if not scaler:\n",
    "        #scaler = StandardScaler()\n",
    "        scaler = MinMaxScaler()\n",
    "        scaler.fit(X)\n",
    "    X = scaler.transform(X)\n",
    "    return X, scaler"
   ]
  },
  {
   "cell_type": "code",
   "execution_count": 12,
   "metadata": {},
   "outputs": [],
   "source": [
    "#train = full_train\n",
    "train, scaler = preprocess_data(full_train)"
   ]
  },
  {
   "cell_type": "markdown",
   "metadata": {},
   "source": [
    "# 2. Data Analysis and Cleaning"
   ]
  },
  {
   "cell_type": "markdown",
   "metadata": {},
   "source": [
    "### 2.1 Visualization"
   ]
  },
  {
   "cell_type": "code",
   "execution_count": 13,
   "metadata": {},
   "outputs": [
    {
     "name": "stderr",
     "output_type": "stream",
     "text": [
      "/home/9304220184/python27/local/lib/python2.7/site-packages/scipy/stats/stats.py:1713: FutureWarning: Using a non-tuple sequence for multidimensional indexing is deprecated; use `arr[tuple(seq)]` instead of `arr[seq]`. In the future this will be interpreted as an array index, `arr[np.array(seq)]`, which will result either in an error or a different result.\n",
      "  return np.add.reduce(sorted[indexer] * weights, axis=axis) / sumval\n"
     ]
    },
    {
     "data": {
      "image/png": "[encoded data removed]",
      "text/plain": [
       "<Figure size 1440x2880 with 28 Axes>"
      ]
     },
     "metadata": {
      "needs_background": "light"
     },
     "output_type": "display_data"
    }
   ],
   "source": [
    "#Visualization of all features within the ttBHH set compared to the TTLJ\n",
    "fig = plt.figure(figsize=(20,40))\n",
    "axes = fig.subplots(nrows=7, ncols=4)\n",
    "col = train_tree.columns\n",
    "c_num = 0\n",
    "\n",
    "for ax in axes:\n",
    "    for row in ax:\n",
    "        sns.distplot(train_tree[col[c_num]], ax=row, kde = False, label=\"ttH\")\n",
    "        sns.distplot(train_tree_2[col[c_num]], ax=row, kde = False, label=\"ttbb\")\n",
    "        row.set_title(col[c_num])\n",
    "        row.legend()\n",
    "        c_num += 1\n",
    "        if c_num > len(col) - 1:\n",
    "            break\n",
    "#plt.show()\n",
    "fig.savefig('variable_distribution.png')"
   ]
  },
  {
   "cell_type": "markdown",
   "metadata": {},
   "source": [
    "### 2.2 RFE Feature Selection"
   ]
  },
  {
   "cell_type": "code",
   "execution_count": 9,
   "metadata": {},
   "outputs": [],
   "source": [
    "ranks = {}\n",
    "colnames = full_train.columns\n",
    "# Create our function which stores the feature rankings to the ranks dictionary\n",
    "def ranking(ranks, names, order=1):\n",
    "    minmax = MinMaxScaler()\n",
    "    ranks = minmax.fit_transform(order*np.array([ranks]).T).T[0]\n",
    "    ranks = map(lambda x: round(x,2), ranks)\n",
    "    return dict(zip(names, ranks))"
   ]
  },
  {
   "cell_type": "code",
   "execution_count": 10,
   "metadata": {},
   "outputs": [
    {
     "name": "stdout",
     "output_type": "stream",
     "text": [
      "Fitting estimator with 28 features.\n",
      "Fitting estimator with 27 features.\n",
      "Fitting estimator with 26 features.\n",
      "Fitting estimator with 25 features.\n",
      "Fitting estimator with 24 features.\n",
      "Fitting estimator with 23 features.\n",
      "Fitting estimator with 22 features.\n",
      "Fitting estimator with 21 features.\n",
      "Fitting estimator with 20 features.\n",
      "Fitting estimator with 19 features.\n",
      "Fitting estimator with 18 features.\n",
      "Fitting estimator with 17 features.\n",
      "Fitting estimator with 16 features.\n",
      "Fitting estimator with 15 features.\n",
      "Fitting estimator with 14 features.\n",
      "Fitting estimator with 13 features.\n",
      "Fitting estimator with 12 features.\n",
      "Fitting estimator with 11 features.\n",
      "Fitting estimator with 10 features.\n",
      "Fitting estimator with 9 features.\n",
      "Fitting estimator with 8 features.\n",
      "Fitting estimator with 7 features.\n",
      "Fitting estimator with 6 features.\n",
      "Fitting estimator with 5 features.\n",
      "Fitting estimator with 4 features.\n",
      "Fitting estimator with 3 features.\n",
      "Fitting estimator with 2 features.\n"
     ]
    }
   ],
   "source": [
    "#Using RFE\n",
    "estimator = LinearRegression(normalize=True)\n",
    "selector = RFE(estimator, n_features_to_select = 1, verbose = 3)\n",
    "selector = selector.fit(train, y_pred)\n",
    "ranks[\"RFE\"] = ranking(list(map(float, selector.ranking_)), colnames, order=-1)"
   ]
  },
  {
   "cell_type": "code",
   "execution_count": 11,
   "metadata": {},
   "outputs": [],
   "source": [
    "#Using Ridge \n",
    "ridge = Ridge(alpha = 7)\n",
    "ridge.fit(train, y_pred)\n",
    "ranks['Ridge'] = ranking(np.abs(ridge.coef_), colnames)\n",
    "\n",
    "#Using Lasso\n",
    "lasso = Lasso(alpha=.05)\n",
    "lasso.fit(train, y_pred)\n",
    "ranks[\"Lasso\"] = ranking(np.abs(lasso.coef_), colnames)"
   ]
  },
  {
   "cell_type": "code",
   "execution_count": 12,
   "metadata": {},
   "outputs": [],
   "source": [
    "#Using Random Forest\n",
    "rf = RandomForestClassifier(n_estimators=100, max_features=15, max_depth=11, random_state=1)\n",
    "rf.fit(train, y_pred)\n",
    "ranks[\"RF\"] = ranking(rf.feature_importances_, colnames);"
   ]
  },
  {
   "cell_type": "code",
   "execution_count": 13,
   "metadata": {},
   "outputs": [],
   "source": [
    "#Present the final result as the mean of four model weights combined\n",
    "r = {}\n",
    "for name in colnames:\n",
    "    r[name] = round(np.mean([ranks[method][name] for method in ranks.keys()]), 2)\n",
    "\n",
    "methods = sorted(ranks.keys())\n",
    "ranks[\"Mean\"] = r\n",
    "methods.append(\"Mean\")"
   ]
  },
  {
   "cell_type": "markdown",
   "metadata": {},
   "source": [
    "**Feature Selection Insights**\n",
    "\n",
    "Lasso: Pick out top performing features and force the rest to be zero\n",
    "\n",
    "RF: Sharp drop-off score after first few top ones\n",
    "\n",
    "Ridge: Forces regression score to spread out similarly between correlated variables\n",
    "\n",
    "RFE: Compromise between data interpretation and top feature selection for model improvement"
   ]
  },
  {
   "cell_type": "code",
   "execution_count": 14,
   "metadata": {},
   "outputs": [
    {
     "name": "stdout",
     "output_type": "stream",
     "text": [
      "\t\tLasso\tRF\tRFE\tRidge\tMean\n",
      "draddjets \t0.0\t0.36\t0.37\t0.05\t0.2\n",
      "lepton_eta \t0.0\t0.06\t0.07\t0.01\t0.04\n",
      "MET_phi \t0.0\t0.06\t0.19\t0.02\t0.07\n",
      "delta_phi \t0.0\t0.02\t0.04\t0.01\t0.02\n",
      "delta_eta \t0.0\t0.07\t0.93\t0.0\t0.25\n",
      "delta_R \t0.0\t0.17\t0.44\t0.08\t0.17\n",
      "invmass \t0.0\t1.0\t0.48\t0.17\t0.41\n",
      "lepton_delta_R_1 \t0.0\t0.27\t0.59\t0.32\t0.3\n",
      "lepton_delta_eta_1 \t0.0\t0.62\t0.96\t0.03\t0.4\n",
      "lepton_delta_R_2 \t0.0\t0.11\t0.56\t0.3\t0.24\n",
      "lepton_delta_eta_2 \t0.0\t0.78\t1.0\t0.02\t0.45\n",
      "H \t0.0\t0.11\t0.67\t0.88\t0.42\n",
      "jet_pT_1 \t0.0\t0.15\t0.89\t0.9\t0.48\n",
      "jet_eta_1 \t0.0\t0.18\t0.33\t0.08\t0.15\n",
      "jet_E_1 \t0.0\t0.04\t0.85\t1.0\t0.47\n",
      "jet_CvsB_1 \t0.0\t0.08\t0.3\t0.04\t0.1\n",
      "jet_pT_2 \t0.0\t0.08\t0.74\t0.7\t0.38\n",
      "jet_eta_2 \t0.0\t0.14\t0.11\t0.01\t0.07\n",
      "jet_E_2 \t0.0\t0.11\t0.7\t0.97\t0.45\n",
      "jet_CvsB_2 \t0.0\t0.0\t0.26\t0.03\t0.07\n",
      "jet_pT_3 \t0.0\t0.04\t0.78\t0.53\t0.34\n",
      "jet_eta_3 \t0.0\t0.17\t0.15\t0.02\t0.08\n",
      "jet_E_3 \t0.0\t0.11\t0.81\t0.98\t0.48\n",
      "jet_CvsB_3 \t0.0\t0.08\t0.41\t0.1\t0.15\n",
      "jet_pT_4 \t0.0\t0.02\t0.52\t0.13\t0.17\n",
      "jet_eta_4 \t0.0\t0.16\t0.22\t0.03\t0.1\n",
      "jet_E_4 \t0.0\t0.13\t0.63\t0.69\t0.36\n",
      "jet_CvsB_4 \t0.0\t0.04\t0.0\t0.0\t0.01\n"
     ]
    }
   ],
   "source": [
    "print \"\\t\\t\", \"\\t\".join(methods)\n",
    "for name in colnames:\n",
    "    nameit = name\n",
    "    if len(name) == 3:\n",
    "        nameit += \"\\t\"\n",
    "    print nameit, \"\\t\",\"\\t\".join(map(str,[ranks[method][name] for method in methods]))"
   ]
  },
  {
   "cell_type": "code",
   "execution_count": 15,
   "metadata": {},
   "outputs": [],
   "source": [
    "# Put the mean scores into a Pandas dataframe\n",
    "meanplot = pd.DataFrame(list(r.items()), columns= ['Feature','Mean Ranking'])\n",
    "\n",
    "# Sort the dataframe\n",
    "meanplot = meanplot.sort_values('Mean Ranking', ascending=False)"
   ]
  },
  {
   "cell_type": "code",
   "execution_count": 16,
   "metadata": {},
   "outputs": [
    {
     "name": "stderr",
     "output_type": "stream",
     "text": [
      "/home/9304220184/python27/local/lib/python2.7/site-packages/seaborn/categorical.py:3666: UserWarning: The `factorplot` function has been renamed to `catplot`. The original name will be removed in a future release. Please update your code. Note that the default `kind` in `factorplot` (`'point'`) has changed `'strip'` in `catplot`.\n",
      "  warnings.warn(msg)\n"
     ]
    },
    {
     "data": {
      "text/plain": [
       "<seaborn.axisgrid.FacetGrid at 0x7fd515cef490>"
      ]
     },
     "execution_count": 16,
     "metadata": {},
     "output_type": "execute_result"
    },
    {
     "data": {
      "image/png": "[encoded data removed]",
      "text/plain": [
       "<Figure size 1368x720 with 1 Axes>"
      ]
     },
     "metadata": {
      "needs_background": "light"
     },
     "output_type": "display_data"
    }
   ],
   "source": [
    "sns.factorplot(x=\"Mean Ranking\", y=\"Feature\", data = meanplot, kind=\"bar\", height=10, aspect=1.9, palette='coolwarm')"
   ]
  },
  {
   "cell_type": "markdown",
   "metadata": {},
   "source": [
    "### 2.3 Train-Validation-Test Set Split"
   ]
  },
  {
   "cell_type": "code",
   "execution_count": 14,
   "metadata": {},
   "outputs": [],
   "source": [
    "X_train, X_temp, Y_train, Y_temp = train_test_split(train, y_pred, test_size = 0.4, random_state = 42)"
   ]
  },
  {
   "cell_type": "code",
   "execution_count": 15,
   "metadata": {},
   "outputs": [],
   "source": [
    "X_valid, X_test, Y_valid, Y_test = train_test_split(X_temp, Y_temp, test_size = 0.4, random_state = 42)"
   ]
  },
  {
   "cell_type": "code",
   "execution_count": 16,
   "metadata": {},
   "outputs": [],
   "source": [
    "#Transform one dimensional data to two dimensions\n",
    "Y_train_nn = np_utils.to_categorical(Y_train)\n",
    "Y_valid_nn = np_utils.to_categorical(Y_valid)"
   ]
  },
  {
   "cell_type": "code",
   "execution_count": 17,
   "metadata": {},
   "outputs": [],
   "source": [
    "Y_train = np.array(Y_train)\n",
    "Y_valid = np.array(Y_valid)\n",
    "Y_test = np.array(Y_test)"
   ]
  },
  {
   "cell_type": "markdown",
   "metadata": {},
   "source": [
    "# 3. Neural Networks"
   ]
  },
  {
   "cell_type": "markdown",
   "metadata": {},
   "source": [
    "### 3.1 Hyperparameter Tuning"
   ]
  },
  {
   "cell_type": "code",
   "execution_count": 18,
   "metadata": {},
   "outputs": [],
   "source": [
    "import talos as ta\n",
    "from keras.optimizers import Adam, Nadam, RMSprop\n",
    "from keras.losses import logcosh, binary_crossentropy\n",
    "from keras.activations import relu, elu, sigmoid\n",
    "from talos.model.layers import hidden_layers\n",
    "from talos.model.normalizers import lr_normalizer\n",
    "import tensorflow as tf"
   ]
  },
  {
   "cell_type": "code",
   "execution_count": 19,
   "metadata": {},
   "outputs": [
    {
     "name": "stderr",
     "output_type": "stream",
     "text": [
      "2018-11-30 11:25:54.504732: I tensorflow/core/common_runtime/gpu/gpu_device.cc:1511] Adding visible gpu devices: 0\n",
      "2018-11-30 11:25:54.504888: I tensorflow/core/common_runtime/gpu/gpu_device.cc:982] Device interconnect StreamExecutor with strength 1 edge matrix:\n",
      "2018-11-30 11:25:54.504906: I tensorflow/core/common_runtime/gpu/gpu_device.cc:988]      0 \n",
      "2018-11-30 11:25:54.504917: I tensorflow/core/common_runtime/gpu/gpu_device.cc:1001] 0:   N \n",
      "2018-11-30 11:25:54.505832: I tensorflow/core/common_runtime/gpu/gpu_device.cc:1115] Created TensorFlow device (/job:localhost/replica:0/task:0/device:GPU:0 with 3656 MB memory) -> physical GPU (device: 0, name: TITAN Xp, pci bus id: 0000:02:00.0, compute capability: 6.1)\n"
     ]
    }
   ],
   "source": [
    "final_scan = ta.Restore('higgs_nn.zip')"
   ]
  },
  {
   "cell_type": "code",
   "execution_count": 20,
   "metadata": {},
   "outputs": [
    {
     "data": {
      "text/plain": [
       "{'activation': [<function keras.activations.relu>],\n",
       " 'batch_size': [32, 64, 128],\n",
       " 'dropout': (0, 0.5, 1.5),\n",
       " 'emb_output_dims': [None],\n",
       " 'epochs': [70],\n",
       " 'first_neuron': [16, 32],\n",
       " 'hidden_layers': [6, 8, 10],\n",
       " 'last_activation': [<function keras.activations.sigmoid>],\n",
       " 'losses': [<function keras.losses.categorical_crossentropy>],\n",
       " 'lr': [0.01],\n",
       " 'optimizer': [keras.optimizers.SGD, keras.optimizers.RMSprop],\n",
       " 'shape': ['brick', 'long_funnel'],\n",
       " 'weight_regulizer': [None]}"
      ]
     },
     "execution_count": 20,
     "metadata": {},
     "output_type": "execute_result"
    }
   ],
   "source": [
    "final_scan.params"
   ]
  },
  {
   "cell_type": "code",
   "execution_count": 21,
   "metadata": {},
   "outputs": [
    {
     "data": {
      "text/html": [
       "<div>\n",
       "<style scoped>\n",
       "    .dataframe tbody tr th:only-of-type {\n",
       "        vertical-align: middle;\n",
       "    }\n",
       "\n",
       "    .dataframe tbody tr th {\n",
       "        vertical-align: top;\n",
       "    }\n",
       "\n",
       "    .dataframe thead th {\n",
       "        text-align: right;\n",
       "    }\n",
       "</style>\n",
       "<table border=\"1\" class=\"dataframe\">\n",
       "  <thead>\n",
       "    <tr style=\"text-align: right;\">\n",
       "      <th></th>\n",
       "      <th>0</th>\n",
       "      <th>1</th>\n",
       "    </tr>\n",
       "  </thead>\n",
       "  <tbody>\n",
       "    <tr>\n",
       "      <th>0</th>\n",
       "      <td>complete_time</td>\n",
       "      <td>11/29/18/00:49</td>\n",
       "    </tr>\n",
       "    <tr>\n",
       "      <th>1</th>\n",
       "      <td>experiment_name</td>\n",
       "      <td>higgs_nn_1</td>\n",
       "    </tr>\n",
       "    <tr>\n",
       "      <th>2</th>\n",
       "      <td>grid_downsample</td>\n",
       "      <td>NaN</td>\n",
       "    </tr>\n",
       "    <tr>\n",
       "      <th>3</th>\n",
       "      <td>random_method</td>\n",
       "      <td>uniform_mersenne</td>\n",
       "    </tr>\n",
       "    <tr>\n",
       "      <th>4</th>\n",
       "      <td>reduce_loss</td>\n",
       "      <td>False</td>\n",
       "    </tr>\n",
       "    <tr>\n",
       "      <th>5</th>\n",
       "      <td>reduction_interval</td>\n",
       "      <td>50</td>\n",
       "    </tr>\n",
       "    <tr>\n",
       "      <th>6</th>\n",
       "      <td>reduction_method</td>\n",
       "      <td>NaN</td>\n",
       "    </tr>\n",
       "    <tr>\n",
       "      <th>7</th>\n",
       "      <td>reduction_metric</td>\n",
       "      <td>val_acc</td>\n",
       "    </tr>\n",
       "    <tr>\n",
       "      <th>8</th>\n",
       "      <td>reduction_threshold</td>\n",
       "      <td>0.2</td>\n",
       "    </tr>\n",
       "    <tr>\n",
       "      <th>9</th>\n",
       "      <td>reduction_window</td>\n",
       "      <td>20</td>\n",
       "    </tr>\n",
       "    <tr>\n",
       "      <th>10</th>\n",
       "      <td>x_shape</td>\n",
       "      <td>(17122, 28)</td>\n",
       "    </tr>\n",
       "    <tr>\n",
       "      <th>11</th>\n",
       "      <td>y_shape</td>\n",
       "      <td>(17122, 2)</td>\n",
       "    </tr>\n",
       "  </tbody>\n",
       "</table>\n",
       "</div>"
      ],
      "text/plain": [
       "                      0                 1\n",
       "0         complete_time    11/29/18/00:49\n",
       "1       experiment_name        higgs_nn_1\n",
       "2       grid_downsample               NaN\n",
       "3         random_method  uniform_mersenne\n",
       "4           reduce_loss             False\n",
       "5    reduction_interval                50\n",
       "6      reduction_method               NaN\n",
       "7      reduction_metric           val_acc\n",
       "8   reduction_threshold               0.2\n",
       "9      reduction_window                20\n",
       "10              x_shape       (17122, 28)\n",
       "11              y_shape        (17122, 2)"
      ]
     },
     "execution_count": 21,
     "metadata": {},
     "output_type": "execute_result"
    }
   ],
   "source": [
    "final_scan.details"
   ]
  },
  {
   "cell_type": "code",
   "execution_count": 26,
   "metadata": {},
   "outputs": [],
   "source": [
    "talo_re = final_scan.model.predict(X_valid)\n",
    "talo_re = np.array([i[1] for i in talo_re])"
   ]
  },
  {
   "cell_type": "code",
   "execution_count": 27,
   "metadata": {},
   "outputs": [
    {
     "name": "stdout",
     "output_type": "stream",
     "text": [
      "Accuracy score for Neural Network is:  0.5003650523241665\n",
      "Precision score for Neural Network is:  0.5003650523241665\n",
      "Recall score for Neural Network is:  1.0\n",
      "F1 score for Neural Network is:  0.6669910786699108\n"
     ]
    }
   ],
   "source": [
    "print \"Accuracy score for Neural Network is: \", accuracy_score(Y_valid, talo_re.round())\n",
    "print \"Precision score for Neural Network is: \", precision_score(Y_valid, talo_re.round())\n",
    "print \"Recall score for Neural Network is: \", recall_score(Y_valid, talo_re.round())\n",
    "print \"F1 score for Neural Network is: \", f1_score(Y_valid, talo_re.round())"
   ]
  },
  {
   "cell_type": "markdown",
   "metadata": {},
   "source": [
    "_Hyperparameter tuning execution code is commented out to save time_"
   ]
  },
  {
   "cell_type": "code",
   "execution_count": 18,
   "metadata": {},
   "outputs": [],
   "source": [
    "#Define the model to train on\n",
    "def higgs_nn(X_train, Y_train, X_valid, Y_valid, params):\n",
    "    model = Sequential()\n",
    "    model.add(Dense(75, input_dim=X_train.shape[1],\n",
    "                    activation=params['activation'],\n",
    "                    kernel_initializer='normal'))\n",
    "    model.add(Dropout(params['dropout']))\n",
    "\n",
    "    hidden_layers(model, params, 1)\n",
    "    \n",
    "    model.add(Dense(1, activation=params['last_activation'],\n",
    "                    kernel_initializer='normal'))\n",
    "    \n",
    "    model.compile(loss=params['losses'],\n",
    "                  optimizer=params['optimizer'](lr=lr_normalizer(params['lr'],params['optimizer'])),\n",
    "                  metrics=['acc'])\n",
    "    \n",
    "    history = model.fit(X_train, Y_train, \n",
    "                        validation_data=[X_valid, Y_valid],\n",
    "                        batch_size=params['batch_size'],\n",
    "                        epochs=params['epochs'],\n",
    "                        verbose=0)\n",
    "    \n",
    "    # finally we have to make sure that history object and model are returned\n",
    "    return history, model  "
   ]
  },
  {
   "cell_type": "code",
   "execution_count": 19,
   "metadata": {},
   "outputs": [],
   "source": [
    "#Define hyperparameters that need to be tuned\n",
    "# p = {'lr': (0.5, 5, 10),\n",
    "#      'first_neuron':[4, 8, 16, 32, 64],\n",
    "#      'hidden_layers':[2, 3, 4, 5, 6],\n",
    "#      'batch_size': (2, 10, 30),\n",
    "#      'epochs': [70],\n",
    "#      'dropout': (0, 0.5, 5),\n",
    "#      'weight_regulizer':[None],\n",
    "#      'emb_output_dims': [None],\n",
    "#      'shape':['brick','long_funnel'],\n",
    "#      'optimizer': [Adam, Nadam, RMSprop],\n",
    "#      'losses': [logcosh, binary_crossentropy],\n",
    "#      'activation':[relu, elu],\n",
    "#      'last_activation': [sigmoid]}"
   ]
  },
  {
   "cell_type": "code",
   "execution_count": 20,
   "metadata": {},
   "outputs": [],
   "source": [
    "# h = ta.Scan(train, np.array(y_pred.tolist()), params=p,\n",
    "#             model=higgs_nn,\n",
    "#             dataset_name='higgs_nn',\n",
    "#             experiment_no='1',\n",
    "#             grid_downsample=0.1)"
   ]
  },
  {
   "cell_type": "markdown",
   "metadata": {},
   "source": [
    "### 3.2 Model Implementation"
   ]
  },
  {
   "cell_type": "code",
   "execution_count": 64,
   "metadata": {},
   "outputs": [],
   "source": [
    "model = Sequential()\n",
    "model.add(Dropout(0.13, input_shape=(X_train.shape[1],)))\n",
    "model.add(Dense(75))\n",
    "model.add(PReLU())\n",
    "\n",
    "model.add(Dropout(0.11))\n",
    "model.add(Dense(60))\n",
    "model.add(PReLU())\n",
    "\n",
    "model.add(Dropout(0.09))\n",
    "model.add(Dense(45))\n",
    "model.add(PReLU())\n",
    "\n",
    "model.add(Dropout(0.07))\n",
    "model.add(Dense(30))\n",
    "model.add(PReLU())\n",
    "\n",
    "model.add(Dropout(0.11))\n",
    "model.add(Dense(15))\n",
    "model.add(PReLU())\n",
    "\n",
    "model.add(Dense(2))\n",
    "model.add(Activation('sigmoid'))"
   ]
  },
  {
   "cell_type": "code",
   "execution_count": 67,
   "metadata": {},
   "outputs": [],
   "source": [
    "model.compile(loss='categorical_crossentropy', optimizer=keras.optimizers.SGD(lr=0.1, nesterov=True), metrics=['accuracy'])"
   ]
  },
  {
   "cell_type": "code",
   "execution_count": 68,
   "metadata": {},
   "outputs": [
    {
     "name": "stdout",
     "output_type": "stream",
     "text": [
      "Train on 10273 samples, validate on 4109 samples\n",
      "Epoch 1/70\n",
      " - 2s - loss: 0.6904 - acc: 0.5337 - val_loss: 0.6898 - val_acc: 0.5378\n",
      "Epoch 2/70\n",
      " - 1s - loss: 0.6900 - acc: 0.5335 - val_loss: 0.6883 - val_acc: 0.5284\n",
      "Epoch 3/70\n",
      " - 1s - loss: 0.6889 - acc: 0.5375 - val_loss: 0.6868 - val_acc: 0.5415\n",
      "Epoch 4/70\n",
      " - 1s - loss: 0.6884 - acc: 0.5381 - val_loss: 0.6865 - val_acc: 0.5561\n",
      "Epoch 5/70\n",
      " - 1s - loss: 0.6863 - acc: 0.5460 - val_loss: 0.6846 - val_acc: 0.5420\n",
      "Epoch 6/70\n",
      " - 1s - loss: 0.6862 - acc: 0.5420 - val_loss: 0.6835 - val_acc: 0.5437\n",
      "Epoch 7/70\n",
      " - 1s - loss: 0.6867 - acc: 0.5405 - val_loss: 0.6846 - val_acc: 0.5646\n",
      "Epoch 8/70\n",
      " - 1s - loss: 0.6844 - acc: 0.5516 - val_loss: 0.6898 - val_acc: 0.5322\n",
      "Epoch 9/70\n",
      " - 1s - loss: 0.6831 - acc: 0.5550 - val_loss: 0.6848 - val_acc: 0.5556\n",
      "Epoch 10/70\n",
      " - 1s - loss: 0.6823 - acc: 0.5548 - val_loss: 0.6788 - val_acc: 0.5736\n",
      "Epoch 11/70\n",
      " - 1s - loss: 0.6833 - acc: 0.5527 - val_loss: 0.6803 - val_acc: 0.5724\n",
      "Epoch 12/70\n",
      " - 1s - loss: 0.6841 - acc: 0.5554 - val_loss: 0.6850 - val_acc: 0.5537\n",
      "Epoch 13/70\n",
      " - 1s - loss: 0.6801 - acc: 0.5613 - val_loss: 0.6769 - val_acc: 0.5851\n",
      "Epoch 14/70\n",
      " - 1s - loss: 0.6802 - acc: 0.5590 - val_loss: 0.6737 - val_acc: 0.5785\n",
      "Epoch 15/70\n",
      " - 1s - loss: 0.6800 - acc: 0.5637 - val_loss: 0.6904 - val_acc: 0.5349\n",
      "Epoch 16/70\n",
      " - 1s - loss: 0.6794 - acc: 0.5687 - val_loss: 0.6772 - val_acc: 0.5831\n",
      "Epoch 17/70\n",
      " - 1s - loss: 0.6798 - acc: 0.5645 - val_loss: 0.6789 - val_acc: 0.5729\n",
      "Epoch 18/70\n",
      " - 1s - loss: 0.6795 - acc: 0.5636 - val_loss: 0.6762 - val_acc: 0.5792\n",
      "Epoch 19/70\n",
      " - 1s - loss: 0.6758 - acc: 0.5723 - val_loss: 0.6799 - val_acc: 0.5622\n",
      "Epoch 20/70\n",
      " - 1s - loss: 0.6758 - acc: 0.5785 - val_loss: 0.6687 - val_acc: 0.5960\n",
      "Epoch 21/70\n",
      " - 1s - loss: 0.6749 - acc: 0.5769 - val_loss: 0.6792 - val_acc: 0.5656\n",
      "Epoch 22/70\n",
      " - 1s - loss: 0.6772 - acc: 0.5708 - val_loss: 0.6728 - val_acc: 0.5916\n",
      "Epoch 23/70\n",
      " - 1s - loss: 0.6769 - acc: 0.5705 - val_loss: 0.6715 - val_acc: 0.5926\n",
      "Epoch 24/70\n",
      " - 1s - loss: 0.6743 - acc: 0.5727 - val_loss: 0.6696 - val_acc: 0.5958\n",
      "Epoch 25/70\n",
      " - 1s - loss: 0.6739 - acc: 0.5744 - val_loss: 0.6777 - val_acc: 0.5758\n",
      "Epoch 26/70\n",
      " - 1s - loss: 0.6758 - acc: 0.5698 - val_loss: 0.6732 - val_acc: 0.5872\n",
      "Epoch 27/70\n",
      " - 1s - loss: 0.6750 - acc: 0.5780 - val_loss: 0.6648 - val_acc: 0.6045\n",
      "Epoch 28/70\n",
      " - 1s - loss: 0.6760 - acc: 0.5773 - val_loss: 0.6803 - val_acc: 0.5580\n",
      "Epoch 29/70\n",
      " - 1s - loss: 0.6714 - acc: 0.5875 - val_loss: 0.6792 - val_acc: 0.5688\n",
      "Epoch 30/70\n",
      " - 1s - loss: 0.6698 - acc: 0.5869 - val_loss: 0.6827 - val_acc: 0.5622\n",
      "Epoch 31/70\n",
      " - 1s - loss: 0.6702 - acc: 0.5855 - val_loss: 0.6851 - val_acc: 0.5498\n",
      "Epoch 32/70\n",
      " - 1s - loss: 0.6731 - acc: 0.5860 - val_loss: 0.6712 - val_acc: 0.5848\n",
      "Epoch 33/70\n",
      " - 1s - loss: 0.6728 - acc: 0.5837 - val_loss: 0.6891 - val_acc: 0.5488\n",
      "Epoch 34/70\n",
      " - 1s - loss: 0.6730 - acc: 0.5806 - val_loss: 0.6637 - val_acc: 0.6067\n",
      "Epoch 35/70\n",
      " - 1s - loss: 0.6709 - acc: 0.5894 - val_loss: 0.6701 - val_acc: 0.5902\n",
      "Epoch 36/70\n",
      " - 1s - loss: 0.6713 - acc: 0.5813 - val_loss: 0.6785 - val_acc: 0.5651\n",
      "Epoch 37/70\n",
      " - 1s - loss: 0.6710 - acc: 0.5842 - val_loss: 0.6756 - val_acc: 0.5719\n",
      "Epoch 38/70\n",
      " - 1s - loss: 0.6723 - acc: 0.5781 - val_loss: 0.6792 - val_acc: 0.5670\n",
      "Epoch 39/70\n",
      " - 1s - loss: 0.6691 - acc: 0.5879 - val_loss: 0.6775 - val_acc: 0.5761\n",
      "Epoch 40/70\n",
      " - 1s - loss: 0.6716 - acc: 0.5820 - val_loss: 0.6696 - val_acc: 0.5955\n",
      "Epoch 41/70\n",
      " - 1s - loss: 0.6697 - acc: 0.5854 - val_loss: 0.6706 - val_acc: 0.5931\n",
      "Epoch 42/70\n",
      " - 1s - loss: 0.6693 - acc: 0.5912 - val_loss: 0.6680 - val_acc: 0.5987\n",
      "Epoch 43/70\n",
      " - 1s - loss: 0.6708 - acc: 0.5832 - val_loss: 0.6639 - val_acc: 0.6060\n",
      "Epoch 44/70\n",
      " - 1s - loss: 0.6683 - acc: 0.5886 - val_loss: 0.6800 - val_acc: 0.5685\n",
      "Epoch 45/70\n",
      " - 1s - loss: 0.6677 - acc: 0.5902 - val_loss: 0.6686 - val_acc: 0.5953\n",
      "Epoch 46/70\n",
      " - 1s - loss: 0.6692 - acc: 0.5869 - val_loss: 0.6602 - val_acc: 0.6079\n",
      "Epoch 47/70\n",
      " - 1s - loss: 0.6686 - acc: 0.5904 - val_loss: 0.6678 - val_acc: 0.5977\n",
      "Epoch 48/70\n",
      " - 1s - loss: 0.6660 - acc: 0.5963 - val_loss: 0.6974 - val_acc: 0.5524\n",
      "Epoch 49/70\n",
      " - 1s - loss: 0.6688 - acc: 0.5878 - val_loss: 0.6674 - val_acc: 0.5970\n",
      "Epoch 50/70\n",
      " - 1s - loss: 0.6660 - acc: 0.5936 - val_loss: 0.6594 - val_acc: 0.6096\n",
      "Epoch 51/70\n",
      " - 1s - loss: 0.6671 - acc: 0.5860 - val_loss: 0.6645 - val_acc: 0.6036\n",
      "Epoch 52/70\n",
      " - 1s - loss: 0.6662 - acc: 0.5943 - val_loss: 0.6862 - val_acc: 0.5585\n",
      "Epoch 53/70\n",
      " - 1s - loss: 0.6655 - acc: 0.5938 - val_loss: 0.6727 - val_acc: 0.5841\n",
      "Epoch 54/70\n",
      " - 1s - loss: 0.6676 - acc: 0.5877 - val_loss: 0.6672 - val_acc: 0.5975\n",
      "Epoch 55/70\n",
      " - 1s - loss: 0.6658 - acc: 0.5933 - val_loss: 0.6705 - val_acc: 0.5936\n",
      "Epoch 56/70\n",
      " - 1s - loss: 0.6678 - acc: 0.5952 - val_loss: 0.6640 - val_acc: 0.6062\n",
      "Epoch 57/70\n",
      " - 1s - loss: 0.6683 - acc: 0.5887 - val_loss: 0.6724 - val_acc: 0.5902\n",
      "Epoch 58/70\n",
      " - 1s - loss: 0.6668 - acc: 0.5971 - val_loss: 0.6801 - val_acc: 0.5763\n",
      "Epoch 59/70\n",
      " - 1s - loss: 0.6669 - acc: 0.5913 - val_loss: 0.6632 - val_acc: 0.6045\n",
      "Epoch 60/70\n",
      " - 1s - loss: 0.6627 - acc: 0.5928 - val_loss: 0.6694 - val_acc: 0.5921\n",
      "Epoch 61/70\n",
      " - 1s - loss: 0.6660 - acc: 0.5958 - val_loss: 0.6681 - val_acc: 0.6021\n",
      "Epoch 62/70\n",
      " - 1s - loss: 0.6672 - acc: 0.5915 - val_loss: 0.6737 - val_acc: 0.5836\n",
      "Epoch 63/70\n",
      " - 1s - loss: 0.6647 - acc: 0.5968 - val_loss: 0.6779 - val_acc: 0.5758\n",
      "Epoch 64/70\n",
      " - 1s - loss: 0.6638 - acc: 0.5945 - val_loss: 0.6727 - val_acc: 0.5838\n",
      "Epoch 65/70\n",
      " - 1s - loss: 0.6659 - acc: 0.5890 - val_loss: 0.6797 - val_acc: 0.5726\n",
      "Epoch 66/70\n",
      " - 1s - loss: 0.6622 - acc: 0.6011 - val_loss: 0.6889 - val_acc: 0.5585\n",
      "Epoch 67/70\n",
      " - 1s - loss: 0.6648 - acc: 0.5973 - val_loss: 0.6721 - val_acc: 0.5836\n",
      "Epoch 68/70\n",
      " - 1s - loss: 0.6649 - acc: 0.5978 - val_loss: 0.6702 - val_acc: 0.5887\n",
      "Epoch 69/70\n",
      " - 1s - loss: 0.6641 - acc: 0.5964 - val_loss: 0.6840 - val_acc: 0.5651\n",
      "Epoch 70/70\n",
      " - 1s - loss: 0.6662 - acc: 0.5937 - val_loss: 0.6577 - val_acc: 0.6191\n"
     ]
    },
    {
     "data": {
      "text/plain": [
       "<keras.callbacks.History at 0x7fa98ed3bb10>"
      ]
     },
     "execution_count": 68,
     "metadata": {},
     "output_type": "execute_result"
    }
   ],
   "source": [
    "model.fit(X_train, Y_train_nn, batch_size=64, epochs=70, verbose=2, shuffle=True, validation_data = (X_valid, Y_valid_nn))"
   ]
  },
  {
   "cell_type": "code",
   "execution_count": 71,
   "metadata": {},
   "outputs": [
    {
     "name": "stdout",
     "output_type": "stream",
     "text": [
      "Accuracy score for Neural Network is:  0.6191287417863227\n",
      "Precision score for Neural Network is:  0.5973819912733043\n",
      "Recall score for Neural Network is:  0.7324902723735408\n",
      "F1 score for Neural Network is:  0.6580729735634695\n"
     ]
    }
   ],
   "source": [
    "nn_test = model.predict(X_valid)\n",
    "nn_test = np.array([float(i[1])/(i[0] + i[1]) for i in nn_test])\n",
    "print \"Accuracy score for Neural Network is: \", accuracy_score(Y_valid, nn_test.round())\n",
    "print \"Precision score for Neural Network is: \", precision_score(Y_valid, nn_test.round())\n",
    "print \"Recall score for Neural Network is: \", recall_score(Y_valid, nn_test.round())\n",
    "print \"F1 score for Neural Network is: \", f1_score(Y_valid, nn_test.round())"
   ]
  },
  {
   "cell_type": "markdown",
   "metadata": {},
   "source": [
    "# 4. Gradient Boosting"
   ]
  },
  {
   "cell_type": "code",
   "execution_count": 32,
   "metadata": {},
   "outputs": [],
   "source": [
    "xgb = XGBRegressor()"
   ]
  },
  {
   "cell_type": "code",
   "execution_count": 33,
   "metadata": {},
   "outputs": [],
   "source": [
    "params={\n",
    "    'objective': ['binary:logistic'],\n",
    "    'learning_rate': [0.1],\n",
    "    'max_depth': [3],\n",
    "    'gamma': [0.4],\n",
    "    'min_child_weight': [1],\n",
    "    'subsample': [0.8],\n",
    "    'colsample_bytree': [0.8],\n",
    "    'n_estimators': [200],\n",
    "}"
   ]
  },
  {
   "cell_type": "markdown",
   "metadata": {},
   "source": [
    "_The code commented out here is to use GridSearchCV to find best parameters_"
   ]
  },
  {
   "cell_type": "code",
   "execution_count": 34,
   "metadata": {},
   "outputs": [],
   "source": [
    "# grs = GridSearchCV(xgb, param_grid=params, cv=2, n_jobs=4, verbose=2)\n",
    "# grs.fit(X_train, Y_train, eval_set=[(X_valid, Y_valid)], verbose=False)\n",
    "\n",
    "# grs.cv_results_, grs.best_params_"
   ]
  },
  {
   "cell_type": "code",
   "execution_count": 35,
   "metadata": {},
   "outputs": [],
   "source": [
    "my_model = XGBRegressor(\n",
    "    objective = 'binary:logistic',\n",
    "    learning_rate = 0.01,\n",
    "    max_depth = 4,\n",
    "    gamma = 0.4,\n",
    "    min_child_weight = 1,\n",
    "    subsample = 0.8,\n",
    "    colsample_bytree = 0.8,\n",
    "    n_estimators = 1000,\n",
    "    silent = 1\n",
    ")"
   ]
  },
  {
   "cell_type": "code",
   "execution_count": 36,
   "metadata": {},
   "outputs": [
    {
     "data": {
      "text/plain": [
       "XGBRegressor(base_score=0.5, booster='gbtree', colsample_bylevel=1,\n",
       "       colsample_bytree=0.8, gamma=0.4, learning_rate=0.01,\n",
       "       max_delta_step=0, max_depth=4, min_child_weight=1, missing=None,\n",
       "       n_estimators=1000, n_jobs=1, nthread=None,\n",
       "       objective='binary:logistic', random_state=0, reg_alpha=0,\n",
       "       reg_lambda=1, scale_pos_weight=1, seed=None, silent=1,\n",
       "       subsample=0.8)"
      ]
     },
     "execution_count": 36,
     "metadata": {},
     "output_type": "execute_result"
    }
   ],
   "source": [
    "my_model.fit(X_train, Y_train, eval_set=[(X_valid, Y_valid)], verbose=False)"
   ]
  },
  {
   "cell_type": "code",
   "execution_count": 37,
   "metadata": {},
   "outputs": [],
   "source": [
    "gb_test = my_model.predict(X_valid)"
   ]
  },
  {
   "cell_type": "code",
   "execution_count": 38,
   "metadata": {},
   "outputs": [],
   "source": [
    "Y_valid = np.array(Y_valid)"
   ]
  },
  {
   "cell_type": "code",
   "execution_count": 39,
   "metadata": {},
   "outputs": [
    {
     "name": "stdout",
     "output_type": "stream",
     "text": [
      "Accuracy score for Gradient Boosting is:  0.6291068386468727\n",
      "Precision score for Gradient Boosting is:  0.6269083969465649\n",
      "Recall score for Gradient Boosting is:  0.6391050583657587\n",
      "F1 score for Gradient Boosting is:  0.6329479768786127\n"
     ]
    }
   ],
   "source": [
    "print \"Accuracy score for Gradient Boosting is: \", accuracy_score(Y_valid, gb_test.round())\n",
    "print \"Precision score for Gradient Boosting is: \", precision_score(Y_valid, gb_test.round())\n",
    "print \"Recall score for Gradient Boosting is: \", recall_score(Y_valid, gb_test.round())\n",
    "print \"F1 score for Gradient Boosting is: \", f1_score(Y_valid, gb_test.round())"
   ]
  },
  {
   "cell_type": "markdown",
   "metadata": {},
   "source": [
    "# 5. Random Forest"
   ]
  },
  {
   "cell_type": "code",
   "execution_count": 40,
   "metadata": {},
   "outputs": [
    {
     "data": {
      "text/plain": [
       "RandomForestClassifier(bootstrap=True, class_weight=None, criterion='gini',\n",
       "            max_depth=12, max_features=15, max_leaf_nodes=None,\n",
       "            min_impurity_decrease=0.0, min_impurity_split=None,\n",
       "            min_samples_leaf=1, min_samples_split=2,\n",
       "            min_weight_fraction_leaf=0.0, n_estimators=100, n_jobs=None,\n",
       "            oob_score=False, random_state=1, verbose=0, warm_start=False)"
      ]
     },
     "execution_count": 40,
     "metadata": {},
     "output_type": "execute_result"
    }
   ],
   "source": [
    "rf = RandomForestClassifier(n_estimators=100, max_features=15, max_depth=12, random_state=1)\n",
    "rf.fit(X_train, Y_train)"
   ]
  },
  {
   "cell_type": "code",
   "execution_count": 41,
   "metadata": {},
   "outputs": [],
   "source": [
    "rf_test = rf.predict(X_valid)\n",
    "Y_valid = np.array(Y_valid)"
   ]
  },
  {
   "cell_type": "code",
   "execution_count": 42,
   "metadata": {},
   "outputs": [
    {
     "name": "stdout",
     "output_type": "stream",
     "text": [
      "Accuracy score for Random Forest is:  0.6203455828668776\n",
      "Precision score for Random Forest is:  0.6159962581852199\n",
      "Recall score for Random Forest is:  0.6405642023346303\n",
      "F1 score for Random Forest is:  0.6280400572246065\n"
     ]
    }
   ],
   "source": [
    "print \"Accuracy score for Random Forest is: \", accuracy_score(Y_valid, rf_test.round())\n",
    "print \"Precision score for Random Forest is: \", precision_score(Y_valid, rf_test.round())\n",
    "print \"Recall score for Random Forest is: \", recall_score(Y_valid, rf_test.round())\n",
    "print \"F1 score for Random Forest is: \", f1_score(Y_valid, rf_test.round())"
   ]
  },
  {
   "cell_type": "markdown",
   "metadata": {},
   "source": [
    "# 6. Ensemble Learning"
   ]
  },
  {
   "cell_type": "markdown",
   "metadata": {},
   "source": [
    "The following implementation using the \"stacking\" technique of ensemble learning. For more info, please check this [**ref**](https://blog.statsbot.co/ensemble-learning-d1dcd548e936)"
   ]
  },
  {
   "cell_type": "code",
   "execution_count": 72,
   "metadata": {},
   "outputs": [],
   "source": [
    "Y_test = np.array(Y_test)"
   ]
  },
  {
   "cell_type": "code",
   "execution_count": 73,
   "metadata": {},
   "outputs": [],
   "source": [
    "nn_test = model.predict(X_test)\n",
    "gb_test = my_model.predict(X_test)\n",
    "rf_test = rf.predict(X_test)\n",
    "ta_test = final_scan.model.predict(X_test)"
   ]
  },
  {
   "cell_type": "code",
   "execution_count": 74,
   "metadata": {},
   "outputs": [],
   "source": [
    "nn_test = np.array([float(i[1])/(i[0] + i[1]) for i in nn_test])\n",
    "ta_test = np.array([i[0] for i in ta_test])"
   ]
  },
  {
   "cell_type": "code",
   "execution_count": 75,
   "metadata": {},
   "outputs": [
    {
     "name": "stdout",
     "output_type": "stream",
     "text": [
      "Accuracy score for combined model is:  0.6208029197080291\n",
      "Precision score for combined model is:  0.6134122287968442\n",
      "Recall score for combined model is:  0.6741329479768786\n",
      "F1 score for combined model is:  0.642340791738382\n"
     ]
    }
   ],
   "source": [
    "#The overall score is given by a combination of three models (NN, RF, GB)\n",
    "print \"Accuracy score for combined model is: \", accuracy_score(Y_test, (nn_test*0.6 + gb_test*0.3 + rf_test*0.1).round())\n",
    "print \"Precision score for combined model is: \", precision_score(Y_test, (nn_test*0.6 + gb_test*0.3 + rf_test*0.1).round())\n",
    "print \"Recall score for combined model is: \", recall_score(Y_test, (nn_test*0.6 + gb_test*0.3 + rf_test*0.1).round())\n",
    "print \"F1 score for combined model is: \", f1_score(Y_test, (nn_test*0.6 + gb_test*0.3 + rf_test*0.1).round())"
   ]
  },
  {
   "cell_type": "markdown",
   "metadata": {},
   "source": [
    "# 7. ROC Curve"
   ]
  },
  {
   "cell_type": "code",
   "execution_count": 76,
   "metadata": {},
   "outputs": [],
   "source": [
    "y_prob = nn_test*0.6 + gb_test*0.3 + rf_test*0.1"
   ]
  },
  {
   "cell_type": "code",
   "execution_count": 77,
   "metadata": {},
   "outputs": [],
   "source": [
    "false_positive_rate, true_positive_rate, thresholds = roc_curve(Y_test, y_prob)\n",
    "roc_auc = auc(false_positive_rate, true_positive_rate)"
   ]
  },
  {
   "cell_type": "code",
   "execution_count": 78,
   "metadata": {},
   "outputs": [
    {
     "data": {
      "text/plain": [
       "Text(0.5,0,'False Positive Rate')"
      ]
     },
     "execution_count": 78,
     "metadata": {},
     "output_type": "execute_result"
    },
    {
     "data": {
      "image/png": "[encoded data removed]",
      "text/plain": [
       "<Figure size 720x720 with 1 Axes>"
      ]
     },
     "metadata": {
      "needs_background": "light"
     },
     "output_type": "display_data"
    }
   ],
   "source": [
    "plt.figure(figsize=(10,10))\n",
    "plt.title('Receiver Operating Characteristic')\n",
    "plt.plot(false_positive_rate,true_positive_rate, color='red',label = 'AUC = %0.2f' % roc_auc)\n",
    "plt.legend(loc = 'lower right')\n",
    "plt.plot([0, 1], [0, 1],linestyle='--')\n",
    "plt.axis('tight')\n",
    "plt.ylabel('True Positive Rate')\n",
    "plt.xlabel('False Positive Rate')"
   ]
  },
  {
   "cell_type": "markdown",
   "metadata": {},
   "source": [
    "# 8. Predicted Probability Density Function (PDF)"
   ]
  },
  {
   "cell_type": "code",
   "execution_count": 79,
   "metadata": {},
   "outputs": [],
   "source": [
    "signals = []\n",
    "backgrounds = []\n",
    "\n",
    "for i in range(len(Y_test)):\n",
    "    if Y_test[i] == 0:\n",
    "        backgrounds.append(y_prob[i])\n",
    "    else:\n",
    "        signals.append(y_prob[i])"
   ]
  },
  {
   "cell_type": "code",
   "execution_count": 80,
   "metadata": {},
   "outputs": [
    {
     "data": {
      "image/png": "[encoded data removed]",
      "text/plain": [
       "<Figure size 432x288 with 1 Axes>"
      ]
     },
     "metadata": {
      "needs_background": "light"
     },
     "output_type": "display_data"
    }
   ],
   "source": [
    "sns.distplot(signals,label=\"Signal\",kde = False)\n",
    "sns.distplot(backgrounds,label=\"Background\", kde = False)\n",
    "plt.legend()\n",
    "plt.xlabel(\"Predicted probability of 1\")\n",
    "plt.ylabel(\"Number of occurences\")\n",
    "plt.show()"
   ]
  },
  {
   "cell_type": "markdown",
   "metadata": {},
   "source": [
    "_Confusion Matrix_"
   ]
  },
  {
   "cell_type": "code",
   "execution_count": 83,
   "metadata": {},
   "outputs": [
    {
     "data": {
      "text/html": [
       "<div>\n",
       "<style scoped>\n",
       "    .dataframe tbody tr th:only-of-type {\n",
       "        vertical-align: middle;\n",
       "    }\n",
       "\n",
       "    .dataframe tbody tr th {\n",
       "        vertical-align: top;\n",
       "    }\n",
       "\n",
       "    .dataframe thead th {\n",
       "        text-align: right;\n",
       "    }\n",
       "</style>\n",
       "<table border=\"1\" class=\"dataframe\">\n",
       "  <thead>\n",
       "    <tr style=\"text-align: right;\">\n",
       "      <th></th>\n",
       "      <th>0</th>\n",
       "      <th>1</th>\n",
       "    </tr>\n",
       "  </thead>\n",
       "  <tbody>\n",
       "    <tr>\n",
       "      <th>0</th>\n",
       "      <td>768</td>\n",
       "      <td>588</td>\n",
       "    </tr>\n",
       "    <tr>\n",
       "      <th>1</th>\n",
       "      <td>451</td>\n",
       "      <td>933</td>\n",
       "    </tr>\n",
       "  </tbody>\n",
       "</table>\n",
       "</div>"
      ],
      "text/plain": [
       "     0    1\n",
       "0  768  588\n",
       "1  451  933"
      ]
     },
     "execution_count": 83,
     "metadata": {},
     "output_type": "execute_result"
    }
   ],
   "source": [
    "pd.DataFrame(confusion_matrix(Y_test, [i.round() for i in y_prob]))"
   ]
  }
 ],
 "metadata": {
  "kernelspec": {
   "display_name": "Python 2",
   "language": "python",
   "name": "python2"
  },
  "language_info": {
   "codemirror_mode": {
    "name": "ipython",
    "version": 2
   },
   "file_extension": ".py",
   "mimetype": "text/x-python",
   "name": "python",
   "nbconvert_exporter": "python",
   "pygments_lexer": "ipython2",
   "version": "2.7.12"
  }
 },
 "nbformat": 4,
 "nbformat_minor": 2
}
